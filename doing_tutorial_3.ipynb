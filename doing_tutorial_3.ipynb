{
 "cells": [
  {
   "cell_type": "markdown",
   "metadata": {},
   "source": [
    "# Tutorial 3 – Apply KOs, Run MOMA and Integrate External Data\n",
    "\n",
    "This exercise shows how to run FBA and minimization of metabolic adjustment (MOMA) simulations and how one can use GEMs as a scaffold for interpreting microarray data. A simplified model of yeast metabolism is used in this approach as an example.\n",
    "\n",
    "Open tutorial3.m in MATLAB to begin this exercise. This script contains all the functions needed to complete this exercise.\n",
    "\n",
    "The solutions to this exercise can be found in tutorial3_solutions.m file.\n",
    "\n",
    "Figure 2 shows the system, this time it is a central carbon metabolism. Note that there are slight differences in naming of metabolites; particularly all metabolites have their compartment in their name.\n",
    "\n",
    "![fig1](./tutorial_data/tutorial_3_fig_1.png)<br>\n",
    "**Figure 2.** Central carbon metabolism in yeast (adapted from Förster, 2003)."
   ]
  },
  {
   "cell_type": "markdown",
   "metadata": {},
   "source": [
    "1.\tOpen the file smallYeast.xlsx. One will hopefully recognize the model structure from Tutorial 2, even though some more stuff is added this time. The most important difference is the composition for metabolites and gene associations for reactions. Metabolite composition information is useful for finding errors in the GEMs and knowing gene associations allows to link the GEMs to other types of data, such as microarrays.\n",
    "By default, the production of acetate, biomass, glycerol, CO2, and ethanol is allowed and the consumption of O2 and glucose is not allowed. Try to validate the model by confirming the results from Tutorial 2 (the maximal ATP production in glycolysis). One can set the simulation parameters in the Excel file like in Tutorial 2 or try to use the setParam function instead (see tutorial3.m). Just remember that sucrose was used in the first example while glucose is used here."
   ]
  },
  {
   "cell_type": "code",
   "execution_count": 1,
   "metadata": {},
   "outputs": [],
   "source": [
    "setRavenSolver('gurobi')"
   ]
  },
  {
   "cell_type": "code",
   "execution_count": 2,
   "metadata": {},
   "outputs": [
    {
     "name": "stdout",
     "output_type": "stream",
     "text": [
      "NOTE: DEFAULT LOWER not supplied. Uses -1000\n",
      "NOTE: DEFAULT UPPER not supplied. Uses 1000\n",
      "Network statistics for smallYeast: Central carbon metabolism for yeast\n",
      "Genes*\t\t\t\t61\n",
      "\tcytosol\t52\n",
      "\tmitochondria\t17\n",
      "\n",
      "Reactions*\t\t\t53\n",
      "\tcytosol\t45\n",
      "\tmitochondria\t19\n",
      "Unique reactions**\t53\n",
      "\n",
      "Metabolites\t\t\t52\n",
      "\tcytosol\t35\n",
      "\tmitochondria\t17\n",
      "Unique metabolites\t45\n",
      "\n",
      "* Genes and reactions are counted for each compartment if any of the corresponding metabolites are in that compartment. The sum may therefore not add up to the total number.\n",
      "** Unique reactions are defined as being biochemically unique (no compartmentalization)\n",
      "\n",
      "Short model quality summary for smallYeast: Central carbon metabolism for yeast\n",
      "Reactions which could not be elementally balanced\t2\n",
      "\tbiomassOUT\n",
      "\tGROWTH\n",
      "\n",
      "Reactions which are elementally unbalanced\t19\n",
      "\tacOUT\tcarbon, oxygen, hydrogen\n",
      "\tco2OUT\tcarbon, oxygen\n",
      "\tethOUT\tcarbon, oxygen, hydrogen\n",
      "\tglyOUT\tcarbon, oxygen, hydrogen\n",
      "\tglcIN\tcarbon, oxygen, hydrogen\n",
      "\to2IN\toxygen\n",
      "\tethIN\tcarbon, oxygen, hydrogen\n",
      "\tFBP\toxygen, hydrogen\n",
      "\tENO\toxygen, hydrogen\n",
      "\tPGL\toxygen, hydrogen\n",
      "\tGPP\toxygen, hydrogen\n",
      "\tALD6\toxygen, hydrogen\n",
      "\tACS\toxygen, hydrogen\n",
      "\tPYC\toxygen, hydrogen\n",
      "\tCIT\toxygen, hydrogen\n",
      "\tFUM1\toxygen, hydrogen\n",
      "\tNADHX\toxygen, hydrogen\n",
      "\tFADHX\toxygen, hydrogen\n",
      "\tATPX\toxygen, hydrogen\n",
      "\n"
     ]
    }
   ],
   "source": [
    "% load model\n",
    "model = importExcelModel('./tutorial_data/smallYeast.xlsx');\n",
    "printModelStats(model, true, true)"
   ]
  },
  {
   "cell_type": "code",
   "execution_count": 3,
   "metadata": {},
   "outputs": [
    {
     "name": "stdout",
     "output_type": "stream",
     "text": [
      "Current objective function: biomassOUT\n",
      "\n",
      "Transport reactions:\n",
      "\t- CAT2\n",
      "\t- CO2TRANS\n",
      "\t- GROWTH\n",
      "\t- ShuttleX\n"
     ]
    }
   ],
   "source": [
    "% get objective\n",
    "fprintf('Current objective function: %s\\n\\n', strjoin(model.rxns(model.c == 1)))\n",
    "% show transport reactions\n",
    "fprintf('Transport reactions:\\n\\t- %s\\n', strjoin(model.rxns(getTransportRxns(model) == 1), '\\n\\t- '))\n"
   ]
  },
  {
   "cell_type": "code",
   "execution_count": 4,
   "metadata": {},
   "outputs": [
    {
     "name": "stdout",
     "output_type": "stream",
     "text": [
      "FLUXES:\n",
      "HXK (Hexokinase):\n",
      "\talpha-D-glucose[c] + ATP[c] => ADP[c] + alpha-D-glucose 6-phosphate[c]\n",
      "\t1\n",
      "PFK (Phosphofructokinase):\n",
      "\tATP[c] + beta-D-fructofuranose 6-phosphate[c] => ADP[c] + beta-D-fructofuranose 1,6-bisphosphate[c]\n",
      "\t1\n",
      "PGK (Phosphoglycerate kinase):\n",
      "\t3-phospho-D-glyceroyl phosphate[c] + ADP[c] <=> 3-phospho-D-glycerate[c] + ATP[c]\n",
      "\t2\n",
      "PYK (Pyruvate kinase):\n",
      "\tADP[c] + phosphoenolpyruvate[c] => ATP[c] + pyruvate[c]\n",
      "\t2\n",
      "ATPX (ATP hydrolysis):\n",
      "\tATP[c] => ADP[c] + phosphate[c]\n",
      "\t2\n"
     ]
    }
   ],
   "source": [
    "% validate ATP from glucose in aerobic conditions\n",
    "validation_model= setParam(model,'obj',{'ATPX'},1);\n",
    "validation_model= setParam(validation_model, \"ub\", {\"glcIN\", \"o2IN\"}, [1, 1000]);\n",
    "validation_model_sol = solveLP(validation_model);\n",
    "printFluxes(validation_model, validation_model_sol.x, false, 10^-7, [], '%rxnID (%rxnName):\\n\\t%eqn\\n\\t%flux\\n', [\"ATP\"]);"
   ]
  },
  {
   "cell_type": "code",
   "execution_count": 5,
   "metadata": {},
   "outputs": [],
   "source": [
    "% depure variables that will be never used\n",
    "clear validation_model validation_model_sol"
   ]
  },
  {
   "cell_type": "markdown",
   "metadata": {},
   "source": [
    "2.\tCalculate the maximal yields of biomass, ethanol, glycerol, and acetate on glucose and fully aerobic (biomass is in 1/h and the other fluxes are in mmol/gDW/h)."
   ]
  },
  {
   "cell_type": "code",
   "execution_count": 6,
   "metadata": {},
   "outputs": [],
   "source": [
    "% set conditions\n",
    "aerobic_conditions_model = setParam(model, \"ub\", {\"glcIN\", \"o2IN\"}, [1, 1000]);\n",
    "reactions_to_evaluate = [\"ethOUT\", \"acOUT\", \"glyOUT\", \"biomassOUT\"];\n",
    "reactions_to_names_map = dictionary(reactions_to_evaluate, [\"ethanol\" , \"acetate\", \"glycerol\", \"biomass\"]);\n",
    "reactions_to_units_map = dictionary(reactions_to_evaluate, [\"mmol/gDW/h\", \"mmol/gDW/h\", \"mmol/gDW/h\", \"/h\"] );"
   ]
  },
  {
   "cell_type": "code",
   "execution_count": 7,
   "metadata": {},
   "outputs": [
    {
     "name": "stdout",
     "output_type": "stream",
     "text": [
      "- Maximum yield of ethanol is 2.0000 mmol/gDW/h.\n",
      "- Maximum yield of acetate is 0.6519 mmol/gDW/h.\n",
      "- Maximum yield of glycerol is 0.5470 mmol/gDW/h.\n",
      "- Maximum yield of biomass is 0.1222 /h.\n"
     ]
    }
   ],
   "source": [
    "for reaction = reactions_to_evaluate\n",
    "    current_model = setParam(aerobic_conditions_model,'obj',{reaction}, 1);\n",
    "    current_solution = solveLP(current_model);\n",
    "    fprintf('- Maximum yield of %s is %5.4f %s.\\n',...\n",
    "    reactions_to_names_map(reaction), current_solution.f*-1, reactions_to_units_map(reaction));\n",
    "end"
   ]
  },
  {
   "cell_type": "code",
   "execution_count": 8,
   "metadata": {},
   "outputs": [],
   "source": [
    "clear aerobic_conditions_model reactions_to_evaluate reactions_to_names_map reactions_to_units_map\n",
    "clear reaction current_model current_solution"
   ]
  },
  {
   "cell_type": "markdown",
   "metadata": {},
   "source": [
    "3.\tAssume that one wants to predict how the flux distribution would change if the conditions are changed. The user should know by now how to import models and set parameters. Import the model twice and generate one model which has access to 1 mmol/gDW/h of glucose and unconstrained oxygen, and one which has access to 1 mmol/gDW/h of glucose and 0.5 mmol/gDW/h of O2. Optimize for growth under both conditions. What were the outputs? Look in the tutorial and try to run drawMap for the two models. Open the resulting PDF file and see if one can understand (in broad terms) how metabolism changes between the two conditions."
   ]
  },
  {
   "cell_type": "code",
   "execution_count": 9,
   "metadata": {},
   "outputs": [],
   "source": [
    "% set conditions\n",
    "aerobic_model = setParam(model, \"ub\", {\"glcIN\", \"o2IN\"}, [1, 1000]);\n",
    "anaerobic_model = setParam(model, \"ub\", {\"glcIN\", \"o2IN\"}, [1, 0.5]);\n",
    "models_to_check = [aerobic_model, anaerobic_model];\n",
    "messages = [\"aerobic\", \"anaerobic\"];\n",
    "stored_solution_distribution = [];"
   ]
  },
  {
   "cell_type": "code",
   "execution_count": 10,
   "metadata": {},
   "outputs": [
    {
     "name": "stdout",
     "output_type": "stream",
     "text": [
      "- Maximum yield of biomass in aerobic conditions is 0.1222 /h\n",
      "- Maximum yield of biomass in anaerobic conditions is 0.0746 /h\n"
     ]
    }
   ],
   "source": [
    "for index = 1:2\n",
    "    current_model = models_to_check(index);\n",
    "    current_solution = solveLP(current_model);\n",
    "    stored_solution_distribution = [stored_solution_distribution, current_solution.x];\n",
    "    fprintf('- Maximum yield of biomass in %s conditions is %5.4f /h\\n', messages(index), current_solution.f*-1);\n",
    "end"
   ]
  },
  {
   "cell_type": "code",
   "execution_count": 11,
   "metadata": {},
   "outputs": [
    {
     "name": "stdout",
     "output_type": "stream",
     "text": [
      "File saved as ./output/tutorial_3_mapFBA.pdf\n"
     ]
    }
   ],
   "source": [
    "% Draw a map\n",
    "% drawMap(title,pathway,modelA,conditionA,conditionB,modelB,filename,cutOff,supressOpen)\n",
    "load(\"./tutorial_data/pathway.mat\", \"pathway\");\n",
    "drawMap('Aerobic vs. Anaerobic', pathway, ...\n",
    "    aerobic_model, stored_solution_distribution(:, 1), ...\n",
    "    stored_solution_distribution(:, 2), anaerobic_model, ...\n",
    "    './output/tutorial_3_mapFBA.pdf', 10^-5);"
   ]
  },
  {
   "cell_type": "code",
   "execution_count": 12,
   "metadata": {},
   "outputs": [],
   "source": [
    "clear aerobic_model anaerobic_model models_to_check messages stored_solution_distribution\n",
    "clear index current_model current_solution"
   ]
  },
  {
   "cell_type": "markdown",
   "metadata": {},
   "source": [
    "- Alcohol is produced at anaerobic conditions (red).\n",
    "- Acetate is produced at aerobic onditions (green).\n",
    "\n",
    "This makes sense since the alcohol group (R-OH) is more reduced than the carboxilyc group (R-COOH). In anaerobic conditions will be more favored fermentation.\n",
    "\n",
    "\n",
    "![alcohol production (anaerobic conditions) vs acetate production (aerobic condition)](./output/tutorial_3_answer_point3.png)"
   ]
  },
  {
   "cell_type": "markdown",
   "metadata": {},
   "source": [
    "4.\tSay that the goal is to increase glycerol production in the strain (e.g., to make sweeter wine). FBA is useful for suggesting gene deletions which can couple the set goal with the overall objective for the cell, which is to grow as fast and efficient as possible. Set the parameters to maximize for growth under anaerobic conditions and run the code for making a single gene deletion using FBA. How large was the difference in glycerol production? Can one come up with a hypothesis as to how the deletion leads to higher glycerol production? One can also use the function followChanged, which compares two flux distributions and let the user search between them (see tutorial3.m)"
   ]
  },
  {
   "cell_type": "markdown",
   "metadata": {},
   "source": [
    "- [findGeneDeletions](https://sysbiochalmers.github.io/RAVEN/doc/core/findGeneDeletions.html)\n",
    "\n",
    "```MATLAB\n",
    "function [genes, fluxes, originalGenes, details, grRatioMuts]=findGeneDeletions(model,testType,analysisType,refModel,oeFactor)\n",
    "```\n",
    "Deletes genes, optimizes the model, and keeps track of the resulting fluxes. This is used for identifying gene deletion targets."
   ]
  },
  {
   "cell_type": "code",
   "execution_count": 13,
   "metadata": {},
   "outputs": [],
   "source": [
    "anaerobicModel = setParam(model, \"ub\", {\"glcIN\", \"o2IN\"}, [1, 0]);\n",
    "[genes, fluxes, originalGenes, details, grRatioMuts] = findGeneDeletions(anaerobicModel, 'sgd', 'fba');"
   ]
  },
  {
   "cell_type": "markdown",
   "metadata": {},
   "source": [
    "\n",
    "- [getIndexes](https://sysbiochalmers.github.io/RAVEN/doc/core/getIndexes.html)\n",
    "\n",
    "```MATLAB\n",
    "function indexes=getIndexes(model, objects, type, returnLogical)\n",
    "```\n",
    "Retrieves the indexes for a list of reactions or metabolite."
   ]
  },
  {
   "cell_type": "code",
   "execution_count": 14,
   "metadata": {},
   "outputs": [],
   "source": [
    "indexes = getIndexes(anaerobicModel,{'biomassOUT', 'glyOUT'},'rxns');\n",
    "biomassOutIndex = indexes(1);\n",
    "glycerolOutIndex = indexes(2);"
   ]
  },
  {
   "cell_type": "markdown",
   "metadata": {},
   "source": [
    "\n",
    "- [find](https://www.mathworks.com/help/matlab/ref/find.html)\n",
    "\n",
    "```MATLAB\n",
    "[row,col] = find(___)\n",
    "```\n",
    "\n",
    "Returns the row and column subscripts of each nonzero element in array X using any of the input arguments in previous syntaxes.\n",
    "\n",
    "- [max](https://www.mathworks.com/help/matlab/ref/max.html)\n",
    "\n",
    "```MATLAB\n",
    "[M,I] = max(___)\n",
    "```\n",
    "\n",
    "Also returns the index into the operating dimension that corresponds to the first occurrence of the maximum value of A."
   ]
  },
  {
   "cell_type": "code",
   "execution_count": 15,
   "metadata": {},
   "outputs": [
    {
     "name": "stdout",
     "output_type": "stream",
     "text": [
      "The maximum glycerol production is: 0.3701 mmol/gDW/h.\n",
      "Related gene single deletions:\n",
      "\t- YLR354C\n",
      "\t- YNL241C"
     ]
    }
   ],
   "source": [
    "% set the threshold from which the value is considered equal to zero\n",
    "tolerance = 10^-7;\n",
    "% \"fluxes\" is a matrix of size {number of ractions} x {deleted genes}\n",
    "% get biomassOut fluxes for all deletions and find those with growth\n",
    "columnsWithGrow = find(fluxes(biomassOutIndex, :) >= tolerance);\n",
    "% get glycerolOut fluxes for the choosen deletions\n",
    "glycerolFluxes = fluxes(glycerolOutIndex, columnsWithGrow);\n",
    "% get the maximum possible glycerol production\n",
    "maximumGlycerolProduction = max(glycerolFluxes);\n",
    "% First, remember that more than one deletion can give the maximum glycerol production.\n",
    "% Second, the apropiate way to compare float point values is using a delta. Do not use the \"==\" operator!\n",
    "columnsWithMaximumGrow = columnsWithGrow(abs(glycerolFluxes - maximumGlycerolProduction) < tolerance);\n",
    "targetGenes = originalGenes(columnsWithMaximumGrow);\n",
    "fprintf('The maximum glycerol production is: %5.4f mmol/gDW/h.\\nRelated gene single deletions:\\n\\t- %s',... \n",
    "    full(maximumGlycerolProduction), strjoin(targetGenes, '\\n\\t- '));"
   ]
  },
  {
   "cell_type": "code",
   "execution_count": 16,
   "metadata": {},
   "outputs": [
    {
     "name": "stdout",
     "output_type": "stream",
     "text": [
      "    targetGenes    targetReactions              targetReactionNames          \n",
      "    ___________    _______________    _______________________________________\n",
      "\n",
      "    {'YLR354C'}       {'ZWF' }        {'Glucose-6-phosphate 1-dehydrogenase'}\n",
      "    {'YNL241C'}       {'TAL1'}        {'Transaldolase'                      }\n",
      "\n"
     ]
    }
   ],
   "source": [
    "% related reactions\n",
    "targetReactions = anaerobicModel.rxns(contains(anaerobicModel.grRules, targetGenes));\n",
    "targetReactionNames = anaerobicModel.rxnNames(contains(anaerobicModel.grRules, targetGenes));\n",
    "disp(table(targetGenes, targetReactions, targetReactionNames));"
   ]
  },
  {
   "cell_type": "code",
   "execution_count": 17,
   "metadata": {},
   "outputs": [
    {
     "name": "stdout",
     "output_type": "stream",
     "text": [
      "Current reaction: ZWF\n",
      "File saved as ./output/tutorial_3_mapZWF.pdf\n",
      "These reactions have flux values that differ by more than 20 percent, absolute values above 0.01, and a total difference above 0 (4 reactions)\n",
      "\n",
      "Only prints reactions involving one or more of the following metabolites:\n",
      "NADPH NADH NAD(+) NADP(+) \n",
      "\n",
      "ZWF: alpha-D-glucose 6-phosphate[c] + NADP(+)[c] => 6-O-phosphono-D-glucono-1,5-lactone[c] + NADPH[c]\n",
      "\tGlucose-6-phosphate 1-dehydrogenase\n",
      "\tFlux: 0 Reference flux: 0.10432 Difference: -0.10432\n",
      "\n",
      "GND: 6-phospho-D-gluconate[c] + NADP(+)[c] => CO2[c] + D-ribulose 5-phosphate[c] + NADPH[c]\n",
      "\t6-phosphogluconate dehydrogenase, decarboxylating\n",
      "\tFlux: 0 Reference flux: 0.10432 Difference: -0.10432\n",
      "\n",
      "DAR: glycerone phosphate[c] + NADH[c] => glycerol monophosphate[c] + NAD(+)[c]\n",
      "\tglycerol-3-phosphate dehydrogenase\n",
      "\tFlux: 0.37288 Reference flux: 0.23556 Difference: 0.13732\n",
      "\n",
      "ALD6: acetaldehyde[c] + NADP(+)[c] => acetate[c] + NADPH[c]\n",
      "\tAldehyde dehydrogenase\n",
      "\tFlux: 0.25424 Reference flux: 0.094223 Difference: 0.16001\n",
      "\n",
      "-----------------------------------------------\n",
      "Current reaction: TAL1\n",
      "File saved as ./output/tutorial_3_mapTAL1.pdf\n",
      "These reactions have flux values that differ by more than 20 percent, absolute values above 0.01, and a total difference above 0 (4 reactions)\n",
      "\n",
      "Only prints reactions involving one or more of the following metabolites:\n",
      "NADPH NADH NAD(+) NADP(+) \n",
      "\n",
      "ZWF: alpha-D-glucose 6-phosphate[c] + NADP(+)[c] => 6-O-phosphono-D-glucono-1,5-lactone[c] + NADPH[c]\n",
      "\tGlucose-6-phosphate 1-dehydrogenase\n",
      "\tFlux: 0 Reference flux: 0.10432 Difference: -0.10432\n",
      "\n",
      "GND: 6-phospho-D-gluconate[c] + NADP(+)[c] => CO2[c] + D-ribulose 5-phosphate[c] + NADPH[c]\n",
      "\t6-phosphogluconate dehydrogenase, decarboxylating\n",
      "\tFlux: 0 Reference flux: 0.10432 Difference: -0.10432\n",
      "\n",
      "DAR: glycerone phosphate[c] + NADH[c] => glycerol monophosphate[c] + NAD(+)[c]\n",
      "\tglycerol-3-phosphate dehydrogenase\n",
      "\tFlux: 0.37288 Reference flux: 0.23556 Difference: 0.13732\n",
      "\n",
      "ALD6: acetaldehyde[c] + NADP(+)[c] => acetate[c] + NADPH[c]\n",
      "\tAldehyde dehydrogenase\n",
      "\tFlux: 0.25424 Reference flux: 0.094223 Difference: 0.16001\n",
      "\n",
      "-----------------------------------------------\n"
     ]
    }
   ],
   "source": [
    "wildTypeFluxes = solveLP(anaerobicModel).x;\n",
    "electronCarriers = {'NADPH' 'NADH' 'NAD(+)' 'NADP(+)'};\n",
    "% Notice that it is the transpose of  targetReactions. MATLAB loops go over the columns\n",
    "for reaction = targetReactions'\n",
    "    fprintf('Current reaction: %s\\n', string(reaction));\n",
    "    % set condtions\n",
    "    mutatedModel =setParam(anaerobicModel,'eq', reaction, 0);\n",
    "    mutatedFluxes = solveLP(mutatedModel).x;\n",
    "    % export file\n",
    "    title = reaction + \" deletion vs. wildtype\" ;\n",
    "    fileName = strjoin(['./output/tutorial_3_map', reaction, '.pdf'], '');\n",
    "    drawMap(title , pathway, ...\n",
    "    mutatedModel, mutatedFluxes, ...\n",
    "    wildTypeFluxes, anaerobicModel, ...\n",
    "    fileName, 10^-5);\n",
    "    % print some relevant changes related with electrons carriers (reduction power)\n",
    "    followChanged(anaerobicModel, mutatedFluxes, wildTypeFluxes,...\n",
    "    20, 10^-2, 0, electronCarriers);\n",
    "    fprintf('-----------------------------------------------\\n')  ;\n",
    "end\n"
   ]
  },
  {
   "cell_type": "markdown",
   "metadata": {},
   "source": [
    "- How large was the difference in glycerol production?"
   ]
  },
  {
   "cell_type": "code",
   "execution_count": 18,
   "metadata": {},
   "outputs": [
    {
     "name": "stdout",
     "output_type": "stream",
     "text": [
      "Glycerol production:\n",
      "    mutant     wild-type    relative difference mutant vs. WT (%)\n",
      "    _______    _________    _____________________________________\n",
      "\n",
      "    0.37006     0.23219                    59.375                \n",
      "\n"
     ]
    }
   ],
   "source": [
    "glycerolProductionIndex = getIndexes(anaerobicModel, 'glyOUT', 'rxns');\n",
    "fprintf('Glycerol production:\\n');\n",
    "disp(table(mutatedFluxes(glycerolProductionIndex), ...\n",
    "    wildTypeFluxes(glycerolProductionIndex), ...\n",
    "    (mutatedFluxes(glycerolProductionIndex)/wildTypeFluxes(glycerolProductionIndex) - 1) * 100, ...\n",
    "    'VariableNames', {'mutant', 'wild-type', 'relative difference mutant vs. WT (%)'}));"
   ]
  },
  {
   "cell_type": "markdown",
   "metadata": {},
   "source": [
    "- Can one come up with a hypothesis as to how the deletion leads to higher glycerol production?\n",
    "\n",
    "![answer4](./output/tutorial_3_answer_point4.png)\n",
    "\n",
    "Knock out of glucose-6-phosphate 1-dehydrogenase ([zwf](https://www.kegg.jp/entry/K00036)) increase the Glucose-6P avaiable for conversión to Fructose-6P and Glycerone-P. [KEGG map](https://www.kegg.jp/pathway/sce01200+YNL241C)."
   ]
  },
  {
   "cell_type": "code",
   "execution_count": 19,
   "metadata": {},
   "outputs": [],
   "source": [
    "clear anaerobicModel fileName maximumGlycerolProduction fluxes reaction\n",
    "clear wildTypeFluxes genes modelMutatedZWF referenceFluxes biomassOutIndex\n",
    "clear glycerolFluxes targetGenes columnsWithGrow glycerolOutIndex mutatedFluxes\n",
    "clear targetReactionNames columnsWithMaximumGrow grRatioMuts mutatedModel\n",
    "clear details indexes originalGenes title targetReactions glycerolProductionIndex"
   ]
  },
  {
   "cell_type": "markdown",
   "metadata": {},
   "source": [
    "5.\tFBA assumes that cells have the same objective even after a perturbation; to grow as efficiently as possible. This is probably true after long evolution times, but shortly after, say, a gene deletion the cell might have other objectives. MOMA is based on that the perturbed cell would like to change its metabolism as little as possible. MOMA is normally used when one has the experimental data for the wild type of strain and would like to guess how the phenotype would change after a perturbation. These are some batch data for growth on glucose:\n",
    "\n",
    "    - acOUT (Production of acetate): 0<br>\n",
    "    - biomassOUT (Production of biomass): 0.67706<br>\n",
    "    - co2OUT (Production of CO2): 22.4122<br>\n",
    "    - ethOUT (Production of ethanol): 19.0946<br>\n",
    "    - glyOUT (Production of glycerol): 1.4717<br>\n",
    "    - glcIN (Uptake of glucose): 15<br>\n",
    "    - o2IN (Uptake of O2): 1.6<br>\n",
    "    - ethIN (Uptake of ethanol): 0<br>\n",
    "\n",
    "Load one model with these constraints and one without any constraints on the exchange reactions but with the ZWF reaction turned off. Run the qMOMA function and plot the flux distributions. Is the glycerol production larger?"
   ]
  },
  {
   "cell_type": "code",
   "execution_count": 20,
   "metadata": {},
   "outputs": [],
   "source": [
    "%%%%%%%%%%%%% set up simulation %%%%%%%%%%%%%\n",
    "experimentalFluxNames = {\"acOUT\", \"biomassOUT\", \"co2OUT\", \"ethOUT\", \"glyOUT\", \"glcIN\", \"o2IN\", \"ethIN\"};\n",
    "experimentalFluxValues = [0, 0.67706, 22.4122, 19.0946, 1.4717, 15, 1.6, 0];"
   ]
  },
  {
   "cell_type": "code",
   "execution_count": 21,
   "metadata": {},
   "outputs": [
    {
     "name": "stdout",
     "output_type": "stream",
     "text": [
      "wildTypeModel optimization message:\n",
      "\tThe problem is infeasible"
     ]
    }
   ],
   "source": [
    "% With this data the model is infeasible, so we need to relax a bit the constraints\n",
    "wildTypeModel = setParam(model, \"eq\", experimentalFluxNames, experimentalFluxValues);\n",
    "fprintf('wildTypeModel optimization message:\\n\\t%s', solveLP(wildTypeModel).msg);"
   ]
  },
  {
   "cell_type": "code",
   "execution_count": 22,
   "metadata": {},
   "outputs": [
    {
     "name": "stdout",
     "output_type": "stream",
     "text": [
      "wildTypeModel optimization message:\n",
      "\tOptimal solution found"
     ]
    }
   ],
   "source": [
    "wildTypeModel = setParam(model, \"lb\", experimentalFluxNames, experimentalFluxValues * 0.99);\n",
    "wildTypeModel = setParam(wildTypeModel, \"ub\", experimentalFluxNames, experimentalFluxValues * 1.01);\n",
    "fprintf('wildTypeModel optimization message:\\n\\t%s', solveLP(wildTypeModel).msg);"
   ]
  },
  {
   "cell_type": "code",
   "execution_count": 23,
   "metadata": {},
   "outputs": [],
   "source": [
    "% now set up the mutant model\n",
    "mutantModel = setParam(model, 'eq', {'ZWF'}, 0);\n",
    "mutantModel = setParam(mutantModel, \"lb\", experimentalFluxNames, 0);\n",
    "mutantModel = setParam(mutantModel, \"ub\", experimentalFluxNames, 1000);"
   ]
  },
  {
   "cell_type": "markdown",
   "metadata": {},
   "source": [
    "[qMOMA](https://sysbiochalmers.github.io/RAVEN/doc/solver/qMOMA.html)\n",
    "\n",
    "```MATLAB\n",
    "function [fluxA,fluxB, flag]=qMOMA(modelA,modelB,fluxMinWeight)\n",
    "```\n",
    "\n",
    "Uses quadratic programming to minimize the sum((fluxAi - fluxBi)^2)\n"
   ]
  },
  {
   "cell_type": "markdown",
   "metadata": {},
   "source": [
    "❗ Warning: Seems like it is neccesary a MATLAB add-on:\n",
    "\n",
    "```shell\n",
    "'quadprog' requires Optimization Toolbox.\n",
    "\n",
    "Error in qMOMA (line 74)\n",
    "x=quadprog(H,zeros(size(H,1),1),[],[],fullS,fullB,fullLB,fullUB);\n",
    "```\n",
    "I am not sure why this add-on is needed if the enviroment already have a working solver (Gurobi) 😕"
   ]
  },
  {
   "cell_type": "code",
   "execution_count": 24,
   "metadata": {},
   "outputs": [
    {
     "name": "stdout",
     "output_type": "stream",
     "text": [
      "\n",
      "Minimum found that satisfies the constraints.\n",
      "\n",
      "Optimization completed because the objective function is non-decreasing in \n",
      "feasible directions, to within the value of the optimality tolerance,\n",
      "and constraints are satisfied to within the value of the constraint tolerance.\n",
      "\n"
     ]
    }
   ],
   "source": [
    "% IMPORTANT! remember that modelB is the reference case\n",
    "[mutantFluxes, wildTypeFluxes, flag] = qMOMA(mutantModel, wildTypeModel);"
   ]
  },
  {
   "cell_type": "code",
   "execution_count": 25,
   "metadata": {},
   "outputs": [
    {
     "name": "stdout",
     "output_type": "stream",
     "text": [
      "These reactions have flux values that differ by more than 10 percent, absolute values above 0.01, and a total difference above 1e-08 (10 reactions)\n",
      "\n",
      "Only prints reactions involving one or more of the following metabolites:\n",
      "NADPH NADH NAD(+) NADP(+) \n",
      "\n",
      "ZWF: alpha-D-glucose 6-phosphate[c] + NADP(+)[c] => 6-O-phosphono-D-glucono-1,5-lactone[c] + NADPH[c]\n",
      "\tGlucose-6-phosphate 1-dehydrogenase\n",
      "\tFlux: 0 Reference flux: 2.0686 Difference: -2.0686\n",
      "\n",
      "GND: 6-phospho-D-gluconate[c] + NADP(+)[c] => CO2[c] + D-ribulose 5-phosphate[c] + NADPH[c]\n",
      "\t6-phosphogluconate dehydrogenase, decarboxylating\n",
      "\tFlux: 0 Reference flux: 2.0686 Difference: -2.0686\n",
      "\n",
      "DAR: glycerone phosphate[c] + NADH[c] => glycerol monophosphate[c] + NAD(+)[c]\n",
      "\tglycerol-3-phosphate dehydrogenase\n",
      "\tFlux: 3.0085 Reference flux: 1.5534 Difference: 1.455\n",
      "\n",
      "ADH1: acetaldehyde[c] + NADH[c] <=> ethanol[c] + NAD(+)[c]\n",
      "\tAlcohol dehydrogenase\n",
      "\tFlux: 17.209 Reference flux: 19.1521 Difference: -1.9431\n",
      "\n",
      "ALD6: acetaldehyde[c] + NADP(+)[c] => acetate[c] + NADPH[c]\n",
      "\tAldehyde dehydrogenase\n",
      "\tFlux: 4.1697 Reference flux: 1.8955 Difference: 2.2742\n",
      "\n",
      "IDP1: isocitrate[m] + NADP(+)[m] => 2-oxoglutarate[m] + CO2[m] + NADPH[m]\n",
      "\tIsocitrate dehydrogenase\n",
      "\tFlux: 0.04633 Reference flux: 0.085713 Difference: -0.039383\n",
      "\n",
      "KGD1KGD2: 2-oxoglutarate[m] + coenzyme A[m] + NAD(+)[m] => CO2[m] + NADH[m] + succinyl-CoA[m]\n",
      "\tAlpha-ketoglutarate dehydrogenase\n",
      "\tFlux: 1.8215e-17 Reference flux: 0.018684 Difference: -0.018684\n",
      "\n",
      "MDH1: (S)-malate[m] + NAD(+)[m] <=> NADH[m] + oxaloacetate[m]\n",
      "\tMalate dehydrogenase\n",
      "\tFlux: -0.97293 Reference flux: -1.3702 Difference: 0.39731\n",
      "\n",
      "MAE1: (S)-malate[m] + NADP(+)[m] => CO2[c] + NADPH[m] + pyruvate[c]\n",
      "\tNAD-dependent malic enzyme\n",
      "\tFlux: 0.97293 Reference flux: 1.3889 Difference: -0.41599\n",
      "\n",
      "GROWTH: 2-oxoglutarate[m] + 6 3-phospho-D-glycerate[c] + 24 acetyl-CoA[c] + 3 acetyl-CoA[m] + 25 alpha-D-glucose 6-phosphate[c] + 254 ATP[c] + 3 D-erythrose 4-phosphate[c] + 3 D-ribose 5-phosphate[c] + glycerol monophosphate[c] + 16 NAD(+)[c] + 6 NAD(+)[m] + 90 NADPH[c] + 22 NADPH[m] + 10 oxaloacetate[m] + 6 phosphoenolpyruvate[c] + 18 pyruvate[c] => 254 ADP[c] + 10 biomass[c] + 24 coenzyme A[c] + 3 coenzyme A[m] + 16 NADH[c] + 6 NADH[m] + 90 NADP(+)[c] + 22 NADP(+)[m] + 298 phosphate[c]\n",
      "\tGrowth\n",
      "\tFlux: 0.04633 Reference flux: 0.067029 Difference: -0.020699\n",
      "\n"
     ]
    }
   ],
   "source": [
    "followChanged(wildTypeModel, mutantFluxes, wildTypeFluxes, 10, 10^-2, 10^-8,  electronCarriers);"
   ]
  },
  {
   "cell_type": "code",
   "execution_count": 26,
   "metadata": {},
   "outputs": [
    {
     "name": "stdout",
     "output_type": "stream",
     "text": [
      "File saved as ./output/tutorial_3_mapMOMA.pdf\n"
     ]
    }
   ],
   "source": [
    "drawMap('ZWF deletion vs wild type', pathway, ...\n",
    "    wildTypeModel, mutantFluxes, ...\n",
    "    wildTypeFluxes, mutantModel,'./output/tutorial_3_mapMOMA.pdf',10^-5);"
   ]
  },
  {
   "cell_type": "markdown",
   "metadata": {},
   "source": [
    "- Is the glycerol production larger?"
   ]
  },
  {
   "cell_type": "code",
   "execution_count": 27,
   "metadata": {},
   "outputs": [
    {
     "name": "stdout",
     "output_type": "stream",
     "text": [
      "Glycerol production:\n",
      "    mutant    wild-type    mutant/wildType\n",
      "    ______    _________    _______________\n",
      "\n",
      "    2.9621     1.4864          1.9928     \n",
      "\n"
     ]
    }
   ],
   "source": [
    "glycerolProductionIndex = getIndexes(wildTypeModel, 'glyOUT', 'rxns');\n",
    "fprintf('Glycerol production:\\n')\n",
    "disp(table(mutantFluxes(glycerolProductionIndex), ...\n",
    "    wildTypeFluxes(glycerolProductionIndex), ...\n",
    "        mutantFluxes(glycerolProductionIndex)/wildTypeFluxes(glycerolProductionIndex) , ...\n",
    "    'VariableNames', {'mutant', 'wild-type', 'mutant/wildType'}))"
   ]
  },
  {
   "cell_type": "code",
   "execution_count": 28,
   "metadata": {},
   "outputs": [],
   "source": [
    "clear flag experimentalFluxNames experimentalFluxValues glycerolProductionIndex\n",
    "clear wildTypeModel mutantModel wildTypeFluxes mutantFluxes electronCarriers"
   ]
  },
  {
   "cell_type": "markdown",
   "metadata": {},
   "source": [
    "6.\tGEMs can also be used to aid in interpretation of other types of data. The last lines load microarray data from batch growth on ethanol compared to glucose and perform a Reporter metabolites test. These are metabolites around which significant transcriptional changes occur (for such a small model it is not super interesting though, because there are changes almost everywhere). The very last lines plot all reactions involving any of those metabolites. This can be particularly useful when working with large models."
   ]
  },
  {
   "cell_type": "markdown",
   "metadata": {},
   "source": [
    "- [readtable](https://www.mathworks.com/help/matlab/ref/readtable.html)\n",
    "\n",
    "```MATLAB\n",
    "T = readtable(filename,opts)\n",
    "```\n",
    "Creates a table using the import options opts. [delimitedTextImportOptions](https://www.mathworks.com/help/matlab/ref/matlab.io.text.delimitedtextimportoptions.html)"
   ]
  },
  {
   "cell_type": "code",
   "execution_count": 29,
   "metadata": {},
   "outputs": [
    {
     "name": "stdout",
     "output_type": "stream",
     "text": [
      "    openReadingFrame    pValue \n",
      "    ________________    _______\n",
      "\n",
      "     {'RTM1'     }      0.52257\n",
      "     {'SUC4'     }            1\n",
      "     {'YHR021W'  }      0.36936\n",
      "     {'YOR008C'  }      0.95133\n",
      "     {'YJL086C'  }      0.52477\n",
      "     {'YOR387C'  }      0.90097\n",
      "     {'YEL076W-C'}      0.19623\n",
      "     {'YGL158W'  }      0.33086\n",
      "\n"
     ]
    }
   ],
   "source": [
    "filename = './tutorial_data/expression.txt';\n",
    "opts = delimitedTextImportOptions('VariableNames', {'openReadingFrame', 'pValue'}, ...\n",
    "                                    'VariableTypes', {'char', 'double'}, ...\n",
    "                                    'Delimiter', '\\t', ...\n",
    "                                    'Whitespace', '\\b');\n",
    "disp(preview(filename, opts));"
   ]
  },
  {
   "cell_type": "code",
   "execution_count": 30,
   "metadata": {},
   "outputs": [
    {
     "data": {
      "text/html": [
       "<html><body><pre>reporterTable = 6383x2 table\n",
       "   <strong>openReadingFrame</strong>    <strong>pValue</strong> \n",
       "    <strong>________________</strong>    <strong>_______</strong>\n",
       "\n",
       "     {'RTM1'     }      0.52257\n",
       "     {'SUC4'     }            1\n",
       "     {'YHR021W'  }      0.36936\n",
       "     {'YOR008C'  }      0.95133\n",
       "     {'YJL086C'  }      0.52477\n",
       "     {'YOR387C'  }      0.90097\n",
       "     {'YEL076W-C'}      0.19623\n",
       "     {'YGL158W'  }      0.33086\n",
       "     {'YOR199W'  }      0.77312\n",
       "     {'YGL222C'  }      0.19623\n",
       "     {'YDL163W'  }      0.61951\n",
       "     {'YML084W'  }      0.21644\n",
       "     {'YER044C'  }      0.73427\n",
       "     {'YCR101C'  }      0.10562\n",
       "     {'YKL036C'  }      0.45677\n",
       "     {'YHR131W'  }       0.6355</pre></body></html>"
      ],
      "text/plain": [
       "reporterTable = 6383x2 table\n",
       "   <strong>openReadingFrame</strong>    <strong>pValue</strong> \n",
       "    <strong>________________</strong>    <strong>_______</strong>\n",
       "\n",
       "     {'RTM1'     }      0.52257\n",
       "     {'SUC4'     }            1\n",
       "     {'YHR021W'  }      0.36936\n",
       "     {'YOR008C'  }      0.95133\n",
       "     {'YJL086C'  }      0.52477\n",
       "     {'YOR387C'  }      0.90097\n",
       "     {'YEL076W-C'}      0.19623\n",
       "     {'YGL158W'  }      0.33086\n",
       "     {'YOR199W'  }      0.77312\n",
       "     {'YGL222C'  }      0.19623\n",
       "     {'YDL163W'  }      0.61951\n",
       "     {'YML084W'  }      0.21644\n",
       "     {'YER044C'  }      0.73427\n",
       "     {'YCR101C'  }      0.10562\n",
       "     {'YKL036C'  }      0.45677\n",
       "     {'YHR131W'  }       0.6355"
      ]
     },
     "execution_count": 30,
     "metadata": {},
     "output_type": "execute_result"
    }
   ],
   "source": [
    "reporterTable = readtable(filename, opts)"
   ]
  },
  {
   "cell_type": "markdown",
   "metadata": {},
   "source": [
    "\n",
    "\n",
    "- [reporterMetabolites](https://sysbiochalmers.github.io/RAVEN/doc/core/reporterMetabolites.html)\n",
    "\n",
    "```MATLAB\n",
    "function repMets=reporterMetabolites(model,genes,genePValues,printResults,outputFile,geneFoldChanges)\n",
    "```\n",
    "The Reporter Metabolites algorithm for identifying metabolites around which transcriptional changes occur"
   ]
  },
  {
   "cell_type": "markdown",
   "metadata": {},
   "source": [
    "❗ Warning: Seems like it is neccesary another MATLAB add-on:\n",
    "\n",
    "```shell\n",
    "'norminv' requires Statistics and Machine Learning Toolbox.\n",
    "\n",
    "Error in reporterMetabolites (line 78)\n",
    "geneZScores=norminv(genePValues)*-1;\n",
    "```\n",
    "\n",
    "It would be very helpfull if those dependencies are more explicit in the documentation. 💡"
   ]
  },
  {
   "cell_type": "code",
   "execution_count": 31,
   "metadata": {},
   "outputs": [],
   "source": [
    "repMets= reporterMetabolites(model,reporterTable.openReadingFrame, reporterTable.pValue);"
   ]
  },
  {
   "cell_type": "markdown",
   "metadata": {},
   "source": [
    "[sortrows](https://www.mathworks.com/help/matlab/ref/double.sortrows.html#d124e1457202)\n",
    "\n",
    "```MATLAB\n",
    "tblB = sortrows(tblA,vars)\n",
    "```\n",
    "sorts a table by the elements in the variables specified by vars. For example, sortrows(tblA,{'Var1','Var2'}) first sorts the rows of tblA based on the elements in Var1, then by the elements in Var2.\n",
    "\n",
    "- If tblA is a table and it has row names, then vars can include the row names.\n",
    "- If tblA is a timetable, then vars can include the row times."
   ]
  },
  {
   "cell_type": "code",
   "execution_count": 32,
   "metadata": {},
   "outputs": [
    {
     "name": "stdout",
     "output_type": "stream",
     "text": [
      "Top 10 reporter metabolites (by p-value):\n",
      "\n",
      "    metaboliteID     pValue \n",
      "    ____________    ________\n",
      "\n",
      "    {'F6P_c'  }     0.044932\n",
      "    {'E4P_c'  }     0.067485\n",
      "    {'S7P_c'  }     0.067485\n",
      "    {'P6G_c'  }     0.068213\n",
      "    {'ACCOA_c'}     0.089614\n",
      "    {'COA_c'  }     0.089614\n",
      "    {'CI_m'   }      0.10217\n",
      "    {'RU5P_c' }      0.11807\n",
      "    {'GLC_c'  }      0.13644\n",
      "    {'NADP_c' }      0.14617\n",
      "\n"
     ]
    }
   ],
   "source": [
    "% make a table from the reporter metabolites, next filter them by their p-value and select the first 10 values\n",
    "sortedTable = sortrows(table(repMets.mets, repMets.metPValues, 'variableNames', {'metaboliteID', 'pValue'}), 'pValue');\n",
    "sortedTableTop10 = sortedTable(1:10,:);\n",
    "fprintf('Top 10 reporter metabolites (by p-value):\\n\\n');\n",
    "disp(sortedTableTop10);"
   ]
  },
  {
   "cell_type": "code",
   "execution_count": 33,
   "metadata": {},
   "outputs": [],
   "source": [
    "selectedMetsIndexes = getIndexes(model, sortedTableTop10.metaboliteID, 'mets');\n",
    "% in which reactions those metabolities participate\n",
    "[ ~ , selectedReactionsIndexes] = find(model.S(selectedMetsIndexes, :));"
   ]
  },
  {
   "cell_type": "markdown",
   "metadata": {},
   "source": [
    "[trimPathway](https://sysbiochalmers.github.io/RAVEN/doc/pathway/trimPathway.html)\n",
    "\n",
    "```MATLAB\n",
    "function pathway=trimPathway(pathway, rxnsToKeep, deleteUnconnectedMets)\n",
    "```\n",
    "\n",
    "Delete reactions from a pathway object"
   ]
  },
  {
   "cell_type": "code",
   "execution_count": 34,
   "metadata": {},
   "outputs": [
    {
     "name": "stdout",
     "output_type": "stream",
     "text": [
      "File saved as ./output/tutorial_3_mapRM.pdf\n"
     ]
    }
   ],
   "source": [
    "updatedPathway= trimPathway(pathway, model.rxns(selectedReactionsIndexes), true);\n",
    "% notMapped=drawMap(title,pathway,modelA,conditionA,conditionB,modelB,filename,cutOff,supressOpen)\n",
    "drawMap('Reactions involving the top 10 Reporter Metabolites', ...\n",
    "    updatedPathway, model, ones(numel(model.rxns),1), zeros(numel(model.rxns),1), [], ...\n",
    "    './output/tutorial_3_mapRM.pdf', tolerance);"
   ]
  },
  {
   "cell_type": "code",
   "execution_count": 36,
   "metadata": {},
   "outputs": [],
   "source": [
    "clear"
   ]
  }
 ],
 "metadata": {
  "kernelspec": {
   "display_name": "MATLAB Kernel",
   "language": "matlab",
   "name": "jupyter_matlab_kernel"
  },
  "language_info": {
   "file_extension": ".m",
   "mimetype": "text/x-matlab",
   "name": "matlab"
  },
  "orig_nbformat": 4
 },
 "nbformat": 4,
 "nbformat_minor": 2
}
