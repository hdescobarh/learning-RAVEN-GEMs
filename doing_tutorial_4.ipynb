{
 "cells": [
  {
   "cell_type": "markdown",
   "metadata": {},
   "source": [
    "# Tutorial 4 – Fix an Erroneous Model\n",
    "\n",
    "The whole point of GEMs is that they are large. It is by incorporating the entire known metabolism of any given organism that complexity arises. However, this makes it almost certain that all models will contain errors. This is true regardless of whether one builds the model or if one uses a model from someone else. One of the issues is that if one group publishes a model for some specific purpose it is likely to function well in that specific part of metabolism, but it may not function at all for some problems. It is therefore a good idea to perform a round of error checking even if it is a published model one uses.\n",
    "\n",
    "Model validation is an iterative process because some errors might not have an effect until some other errors have been fixed. It is not uncommon that the model “works” well in the beginning of the reconstruction process because there are errors that let it cheat on things like redox or energy balance. The model then works worse and worse as the errors are dealt with until all or most errors are fixed, after which it will start to work again. As RAVEN developers, we believe that it is much more important to try to make the model do something it should not be allowed to do rather than to test for the stuff it should do.\n",
    "\n",
    "There is a version of the small yeast model with errors inserted (smallYeastBad.xlsx). The task for this exercise is to find and fix them. Some errors will be obvious (it is rather difficult to introduce errors in such a small model, because there is extraordinarily little redundancy in it), but it is strongly recommended not to fix them until they are “found” during the following steps, because otherwise one might get unpredictable results. Most of the stuff done here can be done with the gapReport function, but it is strongly recommended to do them step by step. "
   ]
  },
  {
   "cell_type": "code",
   "execution_count": 197,
   "metadata": {},
   "outputs": [],
   "source": [
    "clear\n",
    "setRavenSolver('gurobi')\n",
    "% values lower than tolerance are considered zero\n",
    "tolerance = 10^-7;"
   ]
  },
  {
   "cell_type": "markdown",
   "metadata": {},
   "source": [
    "1.\tThe first thing to check for is that the model cannot make something from nothing, i.e. no metabolites should be produced if one does not give the model access to any carbon sources (this should be done for all elements, but carbon is the most important). A simple way to do this would be to optimize for the sum of all the producing exchange reactions, while keeping the consuming reactions closed. Any solution other than 0 would then be bad. Try that."
   ]
  },
  {
   "cell_type": "code",
   "execution_count": 198,
   "metadata": {},
   "outputs": [
    {
     "name": "stdout",
     "output_type": "stream",
     "text": [
      "NOTE: DEFAULT LOWER not supplied. Uses -1000\n",
      "NOTE: DEFAULT UPPER not supplied. Uses 1000\n",
      "WARNING: No objective function found. This might be intended, but results in FBCv2 non-compliant SBML file when exported\n",
      "\n",
      "WARNING: The following InChI strings are associated to more than one unique metabolite name:\n",
      "\t1S/C6H14O12P2/c7-4-3(1-16-19(10,11)12)18-6(9,5(4)8)2-17-20(13,14)15/h3-5,7-9H,1-2H2,(H2,10,11,12)(H2,13,14,15)/t3-,4-,5+,6-/m1/s1\n",
      "\n",
      "Network statistics for smallYeastBad: Central carbon metabolism for yeast\n",
      "Genes*\t\t\t\t61\n",
      "\tcytosol\t52\n",
      "\tmitochondria\t17\n",
      "\n",
      "Reactions*\t\t\t54\n",
      "\tcytosol\t46\n",
      "\tmitochondria\t19\n",
      "Unique reactions**\t54\n",
      "\n",
      "Metabolites\t\t\t52\n",
      "\tcytosol\t35\n",
      "\tmitochondria\t17\n",
      "Unique metabolites\t45\n",
      "\n",
      "* Genes and reactions are counted for each compartment if any of the corresponding metabolites are in that compartment. The sum may therefore not add up to the total number.\n",
      "** Unique reactions are defined as being biochemically unique (no compartmentalization)\n"
     ]
    }
   ],
   "source": [
    "% import and basic inspection\n",
    "model = importExcelModel(\"./tutorial_data/smallYeastBad.xlsx\");\n",
    "printModelStats(model);"
   ]
  },
  {
   "cell_type": "code",
   "execution_count": 199,
   "metadata": {},
   "outputs": [
    {
     "name": "stdout",
     "output_type": "stream",
     "text": [
      "         ExchangeReaction         LB     UB \n",
      "    __________________________    __    ____\n",
      "\n",
      "    {'Production of acetate' }    0     1000\n",
      "    {'Production of biomass' }    0     1000\n",
      "    {'Production of CO2'     }    0     1000\n",
      "    {'Production of ethanol' }    0     1000\n",
      "    {'Production of glycerol'}    0     1000\n",
      "    {'Uptake of glucose'     }    0     1000\n",
      "    {'Uptake of O2'          }    0     1000\n",
      "\n"
     ]
    }
   ],
   "source": [
    "exchangeIndexes = getIndexes(model, getExchangeRxns(model), 'rxns');\n",
    "disp(table(model.rxnNames(exchangeIndexes), ...\n",
    "         model.lb(exchangeIndexes), model.ub(exchangeIndexes), ...\n",
    "        'VariableNames',  {'ExchangeReaction', 'LB', 'UB'}));"
   ]
  },
  {
   "cell_type": "code",
   "execution_count": 200,
   "metadata": {},
   "outputs": [
    {
     "name": "stdout",
     "output_type": "stream",
     "text": [
      "         x: [54x1 double]\n",
      "         f: 0\n",
      "      stat: 1\n",
      "       msg: 'Optimal solution found'\n",
      "    sPrice: [52x1 double]\n",
      "     rCost: [54x1 double]\n",
      "\n",
      "FLUXES:\n"
     ]
    }
   ],
   "source": [
    "% close uptake reactions\n",
    "model = setParam(model, 'eq', getExchangeRxns(model, 'in'), 0);\n",
    "% set optimization to max the sum of production reactions\n",
    "model = setParam(model, 'obj', getExchangeRxns(model, 'out'), 1);\n",
    "% Check if the flux is zero\n",
    "solution = solveLP(model);\n",
    "disp(solution);\n",
    "printFluxes(model, solution.x, false, tolerance);"
   ]
  },
  {
   "cell_type": "markdown",
   "metadata": {},
   "source": [
    "2.\tThe previous step did not provide any non-zero solutions, right? That is good, but there could be other factors that prevent the error from showing its ugly face. Maybe it costs energy or redox power for example. Or maybe the necessary reactions are in different compartments. It is generally a good idea to relax as many constraints as possible when searching for errors. For instance, one can include a temporary reaction like “ATP + H2O ⇔ ADP + Pi” and similar reactions with NADH and NADPH. Remember that the aim here is to try to “provoke” the model to show the errors. Add these reactions and try again."
   ]
  },
  {
   "cell_type": "markdown",
   "metadata": {},
   "source": [
    "❗ **Personal note**: seems that [getIndexes](https://sysbiochalmers.github.io/RAVEN/doc/core/getIndexes.html) do not use regex (except for 'metcomps'), then you need to know the EXACT name or ID. This is a strong limitation, what if I am exploring a model I am not familiar with?\n",
    "\n",
    "For example:"
   ]
  },
  {
   "cell_type": "code",
   "execution_count": 201,
   "metadata": {},
   "outputs": [
    {
     "name": "stdout",
     "output_type": "stream",
     "text": [
      "    {0x1 double}\n",
      "    {0x1 double}\n",
      "\n"
     ]
    },
    {
     "name": "stderr",
     "output_type": "stream",
     "text": [
      "Error using getIndexes\n",
      "Could not find object 'atp' in the model"
     ]
    }
   ],
   "source": [
    "% Example of the commented limitation\n",
    "disp(getIndexes(model, {'atp', 'AT'}, 'metnames'));\n",
    "disp(getIndexes(model, {'atp', 'AT'}, 'mets'));"
   ]
  },
  {
   "cell_type": "code",
   "execution_count": 202,
   "metadata": {},
   "outputs": [
    {
     "name": "stdout",
     "output_type": "stream",
     "text": [
      "        ID            metName   \n",
      "    ___________    _____________\n",
      "\n",
      "    {'ADP_c'  }    {'ADP'      }\n",
      "    {'ATP_c'  }    {'ATP'      }\n",
      "    {'NAD_c'  }    {'NAD(+)'   }\n",
      "    {'NADH_c' }    {'NADH'     }\n",
      "    {'NADP_c' }    {'NADP(+)'  }\n",
      "    {'NADPH_c'}    {'NADPH'    }\n",
      "    {'PI_c'   }    {'phosphate'}\n",
      "\n"
     ]
    }
   ],
   "source": [
    "% Workaround 🤓\n",
    "% regex for looking forr ATP, NADH or NADPH\n",
    "pattern = '^(a[dt]p|nadp?h?|pi|h|h2o).*_c$';\n",
    "% Get cells that match the query, then filter them to get the cells that have matches\n",
    "indexesToCheck = find(~cellfun(@isempty, regexpi(model.mets, pattern, 'match')'));\n",
    "tableToCheck = table(model.mets(indexesToCheck), ...\n",
    "    model.metNames(indexesToCheck), ...\n",
    "    'VariableNames', {'ID', 'metName'});\n",
    "disp(tableToCheck);"
   ]
  },
  {
   "cell_type": "markdown",
   "metadata": {},
   "source": [
    "- [addRxns](https://sysbiochalmers.github.io/RAVEN/doc/core/addRxns.html)\n",
    "\n",
    "```MATLAB\n",
    "function newModel=addRxns(model,rxnsToAdd,eqnType,compartment,allowNewMets,allowNewGenes)\n",
    "```\n",
    "\n",
    "Adds reactions to a model"
   ]
  },
  {
   "cell_type": "code",
   "execution_count": 203,
   "metadata": {},
   "outputs": [
    {
     "name": "stdout",
     "output_type": "stream",
     "text": [
      "FLUXES:\n",
      "FREE_ATP ()\n",
      "\tATP[c] <=> ADP[c] + phosphate[c] [-1000 1000]\n",
      "FREE_NADH ()\n",
      "\tNAD(+)[c] <=> NADH[c] [-1000 1000]\n",
      "FREE_NADPH ()\n",
      "\tNADP(+)[c] <=> NADPH[c] [-1000 1000]\n"
     ]
    }
   ],
   "source": [
    "% cell array with unique strings that identifies each reaction\n",
    "freeReactions.rxns = {\n",
    "    'FREE_ATP';\n",
    "    'FREE_NADH';\n",
    "    'FREE_NADPH'\n",
    "    };\n",
    "\n",
    "% cell array with equation strings. Decimal coefficients are expressed as \"1.2\". Reversibility is indicated by \"<=>\" or \"=>\"\n",
    "freeReactions.equations = {\n",
    "    'ATP[c] <=> ADP[c] + phosphate[c]';\n",
    "    'NAD(+)[c] <=> NADH[c]';\n",
    "    'NADP(+)[c] <=> NADPH[c]'\n",
    "    };\n",
    "\n",
    "% eqnType 3: The metabolites are written as \"metNames[comps]\". Only compartments in model.comps are allowed\n",
    "model = addRxns(model, freeReactions, 3);\n",
    "printModel(model, freeReactions.rxns );"
   ]
  },
  {
   "cell_type": "markdown",
   "metadata": {},
   "source": [
    "❗ Pay attention to \"minFLux\" option:"
   ]
  },
  {
   "cell_type": "code",
   "execution_count": 204,
   "metadata": {},
   "outputs": [
    {
     "name": "stdout",
     "output_type": "stream",
     "text": [
      "       x: [57x1 double]\n",
      "       f: -1000\n",
      "    stat: 1\n",
      "     msg: 'Optimal solution found'\n",
      "\n"
     ]
    }
   ],
   "source": [
    "% minFlux 1: the sum of abs(fluxes) is minimized. This is the fastest way of getting rid of loops\n",
    "modelSolution = solveLP(model, 1);\n",
    "disp(modelSolution);"
   ]
  },
  {
   "cell_type": "markdown",
   "metadata": {},
   "source": [
    "3.\tDid one get the production of ethanol? If so, print the resulting fluxes and see if it is possible to find the error. GEMs are normally very underdetermined, which means that there are infinite numbers of solutions to any given problem. When one solves using solveLP(model) one just gets a random solution which meets the objective and satisfies the constraints. These solutions often contain loops and are therefore difficult to interpret. One can read more about the solveLP function by typing “help solveLP” in MATLAB, but here it is chosen to solve using solveLP(model,1). This minimizes the sum of fluxes to have more easily interpreted results. Find and fix the error and rerun.\n",
    "\n",
    "> Question 2: what modification is needed to prevent the of ethanol from nothing?"
   ]
  },
  {
   "cell_type": "code",
   "execution_count": 205,
   "metadata": {},
   "outputs": [
    {
     "name": "stdout",
     "output_type": "stream",
     "text": [
      "FLUXES:\n",
      "ethOUT\t(Production of ethanol):\t999.999\n",
      "ADH1\t(Alcohol dehydrogenase):\t999.999\n",
      "ADH2\t(Alcohol dehydrogenase rev):\t999.999\n",
      "FREE_NADH\t():\t999.999\n",
      "FREE_NADPH\t():\t-999.999\n"
     ]
    }
   ],
   "source": [
    "% onlyExchange  false:  only print exchange fluxes\n",
    "printFluxes(model, modelSolution.x, false);"
   ]
  },
  {
   "cell_type": "markdown",
   "metadata": {},
   "source": [
    "Aditional to ethOUT and the added testing reactions, there are two with infinite flux: ADH1 and ADH2"
   ]
  },
  {
   "cell_type": "code",
   "execution_count": 206,
   "metadata": {},
   "outputs": [
    {
     "name": "stdout",
     "output_type": "stream",
     "text": [
      "FLUXES:\n",
      "ADH1 (Alcohol dehydrogenase)\n",
      "\tacetaldehyde[c] + NADH[c] => 2 ethanol[c] + NAD(+)[c] [0 1000]\n",
      "ADH2 (Alcohol dehydrogenase rev)\n",
      "\tethanol[c] + NADP(+)[c] => acetaldehyde[c] + NADPH[c] [0 1000]\n"
     ]
    }
   ],
   "source": [
    "reactionsToEvalue = {'ADH1', 'ADH2'};\n",
    "printModel(model, reactionsToEvalue);"
   ]
  },
  {
   "cell_type": "markdown",
   "metadata": {},
   "source": [
    "The ethanol stoichiometric coefficient between the two reactions are inconsistent. At least one of the reactions is unbalanced. Let's check it:\n",
    "\n",
    "```MATLAB\n",
    "function balanceStructure=getElementalBalance(model,rxns,printUnbalanced,printUnparsable)\n",
    "```\n",
    "Checks a model to see if the reactions are elementally balanced."
   ]
  },
  {
   "cell_type": "code",
   "execution_count": 207,
   "metadata": {},
   "outputs": [
    {
     "name": "stdout",
     "output_type": "stream",
     "text": [
      "WARNING: The reaction ADH1 is not balanced with respect to carbon\n",
      "\n",
      "WARNING: The reaction ADH1 is not balanced with respect to oxygen\n",
      "\n",
      "WARNING: The reaction ADH1 is not balanced with respect to hydrogen\n",
      "\n"
     ]
    }
   ],
   "source": [
    "getElementalBalance(model, reactionsToEvalue, true, true);"
   ]
  },
  {
   "cell_type": "markdown",
   "metadata": {},
   "source": [
    "- [changeRxns](https://sysbiochalmers.github.io/RAVEN/doc/core/changeRxns.html)\n",
    "\n",
    "```MATLAB\n",
    "function model=changeRxns(model,rxns,equations,eqnType,compartment,allowNewMets)\n",
    "```\n",
    "\n",
    "Modifies the equations of reactions"
   ]
  },
  {
   "cell_type": "code",
   "execution_count": 208,
   "metadata": {},
   "outputs": [
    {
     "data": {
      "text/html": [
       "<html><body><pre>rxnsToChange = struct with fields:\n",
       "   rxns: {'ADH1'}</pre></body></html>"
      ],
      "text/plain": [
       "rxnsToChange = struct with fields:\n",
       "   rxns: {'ADH1'}"
      ]
     },
     "execution_count": 208,
     "metadata": {},
     "output_type": "execute_result"
    },
    {
     "name": "stdout",
     "output_type": "stream",
     "text": [
      "    reaction    isBalanced\n",
      "    ________    __________\n",
      "\n",
      "    {'ADH1'}        1     \n",
      "    {'ADH2'}        1     \n",
      "\n",
      "       x: [57x1 double]\n",
      "       f: 0\n",
      "    stat: 1\n",
      "     msg: 'Optimal solution found'\n",
      "\n",
      "FLUXES:\n"
     ]
    }
   ],
   "source": [
    "rxnsToChange.rxns = {'ADH1'}%, 'ADH2'};\n",
    "rxnsToChange.equations = {\n",
    "    % acetaldehyde[c] + NADH[c] + H+[c] => ethanol[c] + NAD(+)[c]\n",
    "    'acetaldehyde[c] + NADH[c] => ethanol[c] + NAD(+)[c]',\n",
    "    % ethanol[c] + NADP(+)[c] => acetaldehyde[c] + NADPH[c] + H+[c]\n",
    "    };\n",
    "% update model\n",
    "model = changeRxns(model, rxnsToChange.rxns, rxnsToChange.equations, 3);\n",
    "% verify balance\n",
    "\n",
    "disp(table(reactionsToEvalue', ...\n",
    "        getElementalBalance(model, reactionsToEvalue, true, true).balanceStatus, ...\n",
    "        'VariableNames', {'reaction', 'isBalanced'} ...\n",
    "        ));\n",
    "% optimize again\n",
    "modelSolution = solveLP(model, 1);\n",
    "disp(modelSolution);\n",
    "printFluxes(model, modelSolution.x, false);"
   ]
  },
  {
   "cell_type": "markdown",
   "metadata": {},
   "source": [
    "4.\tIn GEMs it is normal to have excretion of only a few metabolites while having very many internal metabolites. A common case is that one has an error that would like to produce something from nothing, but to do so it also must produce some other metabolite for which there is no exchange reaction. A convenient way to test this is to allow all metabolites to be excreted. One can do this by changing the model.b structure. Normally it is always a vector of zeros, but if one adds a second column RAVEN will interpret it as lower and upper bound on the equality constraints. So if one puts model.b=[model.b inf(numel(model.b),1)]; one can now excrete anything. Do this and see if the model can produce anything. For instance, one should get ethanol, glycerol, and CO2. Look at the fluxes and find the error. One can get a clue by looking at the warnings from SBMLFromExcel. Since this is a problem that comes from reactions being unbalanced, the problematic ones must be in one of the warnings. Which was the metabolite that had to be excreted for the error to appear? Do this step two times to find both errors.\n",
    "\n",
    "> Question 3: what two modifications are needed to fix the warnings?"
   ]
  },
  {
   "cell_type": "code",
   "execution_count": 209,
   "metadata": {},
   "outputs": [
    {
     "name": "stdout",
     "output_type": "stream",
     "text": [
      "       x: [57x1 double]\n",
      "       f: -2.2083e+03\n",
      "    stat: 1\n",
      "     msg: 'Optimal solution found'\n",
      "\n",
      "FLUXES:\n",
      "▪ 500\n",
      "co2OUT (Production of CO2):\n",
      "\tCO2[c] => \n",
      "\n",
      "▪ 708.3311\n",
      "ethOUT (Production of ethanol):\n",
      "\tethanol[c] => \n",
      "\n",
      "▪ 1000\n",
      "glyOUT (Production of glycerol):\n",
      "\tglycerol[c] => \n",
      "\n",
      "▪ -500\n",
      "PGI (Glucose-6-phosphate isomerase):\n",
      "\talpha-D-glucose 6-phosphate[c] <=> beta-D-fructofuranose 6-phosphate[c]\n",
      "\n",
      "▪ 1000\n",
      "PFK (Phosphofructokinase):\n",
      "\tATP[c] + beta-D-fructofuranose 6-phosphate[c] => ADP[c] + 2 beta-D-fructofuranose 1,6-bisphosphate[c]\n",
      "\n",
      "▪ 583.3378\n",
      "FBP (Fructose-1,6-bisphosphatase):\n",
      "\tbeta-D-fructofuranose 1,6-bisphosphate[c] => 2 beta-D-fructofuranose 6-phosphate[c] + phosphate[c]\n",
      "\n",
      "▪ 1000\n",
      "FBA (Fructose-bisphosphate aldolase):\n",
      "\tbeta-D-fructofuranose 1,6-bisphosphate[c] <=> D-glyceraldehyde 3-phosphate[c] + glycerone phosphate[c]\n",
      "\n",
      "▪ 1000\n",
      "GLD (Triosephosphate dehydrogenase):\n",
      "\tD-glyceraldehyde 3-phosphate[c] + NAD(+)[c] + phosphate[c] <=> 3-phospho-D-glyceroyl phosphate[c] + NADH[c]\n",
      "\n",
      "▪ 708.3311\n",
      "PGK (Phosphoglycerate kinase):\n",
      "\t3-phospho-D-glyceroyl phosphate[c] + ADP[c] <=> 3-phospho-D-glycerate[c] + ATP[c]\n",
      "\n",
      "▪ 708.3311\n",
      "GPM (Phosphoglycerate mutase):\n",
      "\t3-phospho-D-glycerate[c] <=> 2-phospho-D-glycerate[c]\n",
      "\n",
      "▪ 708.3311\n",
      "ENO (Enolase):\n",
      "\t2-phospho-D-glycerate[c] <=> phosphoenolpyruvate[c]\n",
      "\n",
      "▪ 708.3311\n",
      "PYK (Pyruvate kinase):\n",
      "\tADP[c] + phosphoenolpyruvate[c] => ATP[c] + pyruvate[c]\n",
      "\n",
      "▪ 500\n",
      "ZWF (Glucose-6-phosphate 1-dehydrogenase):\n",
      "\talpha-D-glucose 6-phosphate[c] + NADP(+)[c] => 6-O-phosphono-D-glucono-1,5-lactone[c] + NADPH[c]\n",
      "\n",
      "▪ 500\n",
      "PGL (6-phosphogluconolactonase):\n",
      "\t6-O-phosphono-D-glucono-1,5-lactone[c] => 6-phospho-D-gluconate[c]\n",
      "\n",
      "▪ 500\n",
      "GND (6-phosphogluconate dehydrogenase, decarboxylating):\n",
      "\t6-phospho-D-gluconate[c] + NADP(+)[c] => CO2[c] + D-ribulose 5-phosphate[c] + NADPH[c]\n",
      "\n",
      "▪ 166.6622\n",
      "RPI (ribose 5-phosphate isomerase):\n",
      "\tD-ribulose 5-phosphate[c] <=> D-ribose 5-phosphate[c]\n",
      "\n",
      "▪ 333.3245\n",
      "RPE (Ribulose-phosphate 3-epimerase):\n",
      "\tD-ribulose 5-phosphate[c] <=> D-xylulose 5-phosphate[c]\n",
      "\n",
      "▪ 166.6622\n",
      "TKI1TKI2a (Transketolase):\n",
      "\tD-ribose 5-phosphate[c] + D-xylulose 5-phosphate[c] <=> D-glyceraldehyde 3-phosphate[c] + sedoheptulose 7-phosphate[c]\n",
      "\n",
      "▪ 166.6622\n",
      "TAL1 (Transaldolase):\n",
      "\tD-glyceraldehyde 3-phosphate[c] + sedoheptulose 7-phosphate[c] <=> beta-D-fructofuranose 6-phosphate[c] + D-erythrose 4-phosphate[c]\n",
      "\n",
      "▪ 166.6622\n",
      "TKI1TKI2b (Transketolase):\n",
      "\tD-erythrose 4-phosphate[c] + D-xylulose 5-phosphate[c] <=> beta-D-fructofuranose 6-phosphate[c] + D-glyceraldehyde 3-phosphate[c]\n",
      "\n",
      "▪ 1000\n",
      "DAR (glycerol-3-phosphate dehydrogenase):\n",
      "\tglycerone phosphate[c] + NADH[c] => glycerol monophosphate[c] + NAD(+)[c]\n",
      "\n",
      "▪ 1000\n",
      "GPP (sn-glycerol-3-phosphate phosphohydrolase):\n",
      "\tglycerol monophosphate[c] => glycerol[c] + phosphate[c]\n",
      "\n",
      "▪ 708.3311\n",
      "PDC (Pyruvate decarboxylase):\n",
      "\tpyruvate[c] => acetaldehyde[c]\n",
      "\n",
      "▪ 708.3311\n",
      "ADH1 (Alcohol dehydrogenase):\n",
      "\tacetaldehyde[c] + NADH[c] => ethanol[c] + NAD(+)[c]\n",
      "\n",
      "▪ 416.6622\n",
      "ATPX (ATP hydrolysis):\n",
      "\tATP[c] => ADP[c] + phosphate[c]\n",
      "\n",
      "▪ 708.3311\n",
      "FREE_NADH ():\n",
      "\tNAD(+)[c] <=> NADH[c]\n",
      "\n",
      "▪ -1000\n",
      "FREE_NADPH ():\n",
      "\tNADP(+)[c] <=> NADPH[c]\n",
      "\n"
     ]
    }
   ],
   "source": [
    "% In RAVEN: if size(b) = [n, 1], it means Sx= b. If size(b) = [n, 2], it means b(:,1) <= S <= b(:,2)\n",
    "model.b = [model.b, 1000 * ones(length(model.b),1)];\n",
    "modelSolution = solveLP(model, 1);\n",
    "disp(modelSolution);\n",
    "printFluxes(model, modelSolution.x, false, tolerance,[], ...\n",
    "    '▪ %flux\\n%rxnID (%rxnName):\\n\\t%eqn\\n\\n');"
   ]
  },
  {
   "cell_type": "markdown",
   "metadata": {},
   "source": [
    "❗ The import function did not raise the warnings the tutorial refers to; then, I will verify mass balance by each non-exchange reaction with non-zero flux (exchange reactions do not need to be mass balanced)."
   ]
  },
  {
   "cell_type": "code",
   "execution_count": 210,
   "metadata": {},
   "outputs": [
    {
     "name": "stdout",
     "output_type": "stream",
     "text": [
      "FLUXES:\n",
      "PFK (Phosphofructokinase)\n",
      "\tATP[c] + beta-D-fructofuranose 6-phosphate[c] => ADP[c] + 2 beta-D-fructofuranose 1,6-bisphosphate[c] [0 1000]\n",
      "FBP (Fructose-1,6-bisphosphatase)\n",
      "\tbeta-D-fructofuranose 1,6-bisphosphate[c] => 2 beta-D-fructofuranose 6-phosphate[c] + phosphate[c] [0 1000]\n",
      "ENO (Enolase)\n",
      "\t2-phospho-D-glycerate[c] <=> phosphoenolpyruvate[c] [-1000 1000]\n",
      "PGL (6-phosphogluconolactonase)\n",
      "\t6-O-phosphono-D-glucono-1,5-lactone[c] => 6-phospho-D-gluconate[c] [0 1000]\n",
      "TAL1 (Transaldolase)\n",
      "\tD-glyceraldehyde 3-phosphate[c] + sedoheptulose 7-phosphate[c] <=> beta-D-fructofuranose 6-phosphate[c] + D-erythrose 4-phosphate[c] [-1000 1000]\n",
      "TKI1TKI2b (Transketolase)\n",
      "\tD-erythrose 4-phosphate[c] + D-xylulose 5-phosphate[c] <=> beta-D-fructofuranose 6-phosphate[c] + D-glyceraldehyde 3-phosphate[c] [-1000 1000]\n",
      "GPP (sn-glycerol-3-phosphate phosphohydrolase)\n",
      "\tglycerol monophosphate[c] => glycerol[c] + phosphate[c] [0 1000]\n",
      "PDC (Pyruvate decarboxylase)\n",
      "\tpyruvate[c] => acetaldehyde[c] [0 1000]\n",
      "ATPX (ATP hydrolysis)\n",
      "\tATP[c] => ADP[c] + phosphate[c] [0 1000]\n"
     ]
    }
   ],
   "source": [
    "% get reactions with non zero flux, then\n",
    "% filter out exchange reactions and fake generating free energy and reductor power reactions\n",
    "reactionsToEvalue = model.rxns(modelSolution.x >= tolerance);\n",
    "reactionsToEvalue = setdiff(reactionsToEvalue, ...\n",
    "    [getExchangeRxns(model); freeReactions.rxns]);\n",
    "% check unbalanced reactions, organice data in a table and filter out balanced equations\n",
    "balanceCheck = getElementalBalance(model, reactionsToEvalue, false, true);\n",
    "printModel(model, reactionsToEvalue(balanceCheck.balanceStatus == 0));"
   ]
  },
  {
   "cell_type": "markdown",
   "metadata": {},
   "source": [
    "Let's organize a bit of the data.\n",
    "\n",
    "The sign indicates which side has more mass. Unbalanced elements hint at the nature of the compound. For example, in ATPX, O: -1 and H: -2 clearly indicate water; in FBP, the stoichiometry suggests a carbohydrate and a phosphate compound, and the latter cannot be an adenosine compound since N is balanced."
   ]
  },
  {
   "cell_type": "code",
   "execution_count": 211,
   "metadata": {},
   "outputs": [
    {
     "name": "stdout",
     "output_type": "stream",
     "text": [
      "Table rows: 9.\n",
      "\n",
      "                 C     N     O     P      H \n",
      "                 __    _    ___    __    ___\n",
      "\n",
      "    ATPX          0    0     -1     0     -2\n",
      "    ENO           0    0      1     0      2\n",
      "    FBP          -6    0    -16    -3    -17\n",
      "    GPP           0    0     -1     0     -2\n",
      "    PDC           1    0      2     0      0\n",
      "    PFK          -6    0     -9    -1    -13\n",
      "    PGL           0    0     -1     0     -2\n",
      "    TAL1          0    0     -3    -1     -1\n",
      "    TKI1TKI2b     0    0     -3    -1     -1\n",
      "\n"
     ]
    }
   ],
   "source": [
    "balanceCheckTable = array2table(balanceCheck.leftComp - balanceCheck.rightComp, ...\n",
    "        'VariableNames', balanceCheck.elements.abbrevs, ...\n",
    "        'RowNames', reactionsToEvalue);\n",
    "unbalancedTable = balanceCheckTable(...\n",
    "        reactionsToEvalue(balanceCheck.balanceStatus == 0), :);\n",
    "fprintf('Table rows: %i.\\n\\n', height(unbalancedTable));\n",
    "disp(unbalancedTable);"
   ]
  },
  {
   "cell_type": "markdown",
   "metadata": {},
   "source": [
    "The model is missing water:"
   ]
  },
  {
   "cell_type": "code",
   "execution_count": 212,
   "metadata": {},
   "outputs": [
    {
     "name": "stdout",
     "output_type": "stream",
     "text": [
      "Found indexes for h2o: 0\n",
      "    {'H2O_c'}\n",
      "\n"
     ]
    }
   ],
   "source": [
    "pattern = 'h2o';\n",
    "indexesToCheck = find(~cellfun(@isempty, ...\n",
    "    regexpi(model.mets, pattern, 'match')'));\n",
    "fprintf('Found indexes for %s: %i\\n', pattern, length(indexesToCheck));\n",
    "% add water\n",
    "metsToAdd.mets = 'H2O_c';\n",
    "metsToAdd.metNames = 'H2O';\n",
    "metsToAdd.compartments = 'c';\n",
    "metsToAdd.metFormulas = 'H2O';\n",
    "model = addMets(model,metsToAdd);\n",
    "% verify it is added\n",
    "disp(model.mets(getIndexes(model, metsToAdd.mets, 'mets')));"
   ]
  },
  {
   "cell_type": "markdown",
   "metadata": {},
   "source": [
    "The equations for TAL1 ([R08575](https://www.genome.jp/entry/R08575)) and TKI1TKI2b ([R01067](https://www.kegg.jp/entry/R01067)) are correct. Both have the same elemental imbalance (HPO3) and share a compound, the beta-D-fructofuranose 6-phosphate. Likely the compound has a incorrect formula.\n",
    "\n",
    "beta-D-fructofuranose 6-phosphate have the formula C6H13O9P ([KEGG: C05345](https://www.genome.jp/entry/C05345))"
   ]
  },
  {
   "cell_type": "code",
   "execution_count": 213,
   "metadata": {},
   "outputs": [
    {
     "name": "stdout",
     "output_type": "stream",
     "text": [
      "The formula C6H14O12P2 is correct? false."
     ]
    }
   ],
   "source": [
    "compoundName = 'beta-D-fructofuranose 6-phosphate';\n",
    "compoundFormula = 'C6H13O9P';\n",
    "compoundIndex = getIndexes(model, compoundName, 'metnames');\n",
    "formulaToCheck = model.metFormulas(compoundIndex);\n",
    "boolStr = {'false', 'true'};\n",
    "fprintf('The formula %s is correct? %s.', ...\n",
    "    formulaToCheck{:}, ...\n",
    "    boolStr{strcmp(formulaToCheck, compoundFormula) + 1});"
   ]
  },
  {
   "cell_type": "code",
   "execution_count": 214,
   "metadata": {},
   "outputs": [
    {
     "name": "stdout",
     "output_type": "stream",
     "text": [
      "The formula C6H13O9P is correct? true."
     ]
    }
   ],
   "source": [
    "% replace and verify\n",
    "model.metFormulas(compoundIndex) = {compoundFormula};\n",
    "formulaToCheck = model.metFormulas(compoundIndex);\n",
    "fprintf('The formula %s is correct? %s.', ...\n",
    "    formulaToCheck{:}, ...\n",
    "    boolStr{strcmp(formulaToCheck, compoundFormula) + 1});"
   ]
  },
  {
   "cell_type": "markdown",
   "metadata": {},
   "source": [
    "Now correct the equations:"
   ]
  },
  {
   "cell_type": "code",
   "execution_count": 215,
   "metadata": {},
   "outputs": [],
   "source": [
    "rxnsToChange.rxns = {'ATPX'; 'ENO'; 'FBP'; 'GPP'; 'PDC'; 'PFK'; 'PGL'};\n",
    "\n",
    "rxnsToChange.equations = {\n",
    "    'ATP[c] + H2O[c] => ADP[c] + phosphate[c]'; % ATPX\n",
    "    '2-phospho-D-glycerate[c] <=> phosphoenolpyruvate[c]  + H2O[c]'; % ENO\n",
    "    'beta-D-fructofuranose 1,6-bisphosphate[c] + H2O[c] => beta-D-fructofuranose 6-phosphate[c] + phosphate[c]'; % FBP\n",
    "    'glycerol monophosphate[c] + H2O[c] => glycerol[c] + phosphate[c]'; % GPP\n",
    "    'pyruvate[c] => acetaldehyde[c] + CO2[c]'; % PDC\n",
    "    'ATP[c] + beta-D-fructofuranose 6-phosphate[c] => ADP[c] + beta-D-fructofuranose 1,6-bisphosphate[c]', % PFK\n",
    "    '6-O-phosphono-D-glucono-1,5-lactone[c] + H2O[c] => 6-phospho-D-gluconate[c]'; % PGL\n",
    "    };\n",
    "\n",
    "model = changeRxns(model, rxnsToChange.rxns, rxnsToChange.equations, 3);"
   ]
  },
  {
   "cell_type": "code",
   "execution_count": 216,
   "metadata": {},
   "outputs": [
    {
     "name": "stdout",
     "output_type": "stream",
     "text": [
      "Table rows: 0"
     ]
    }
   ],
   "source": [
    "% verify the new formulas work OK\n",
    "balanceCheck = getElementalBalance(model, reactionsToEvalue, false, true);\n",
    "balanceCheckTable = array2table(balanceCheck.leftComp - balanceCheck.rightComp, ...\n",
    "        'VariableNames', balanceCheck.elements.abbrevs, ...\n",
    "        'RowNames', reactionsToEvalue);\n",
    "unbalancedTable = balanceCheckTable(reactionsToEvalue(balanceCheck.balanceStatus == 0), :);\n",
    "fprintf('Table rows: %i', height(unbalancedTable));\n",
    "disp(unbalancedTable);"
   ]
  },
  {
   "cell_type": "code",
   "execution_count": 217,
   "metadata": {},
   "outputs": [
    {
     "name": "stdout",
     "output_type": "stream",
     "text": [
      "       x: [57x1 double]\n",
      "       f: 0\n",
      "    stat: 1\n",
      "     msg: 'Optimal solution found'\n",
      "\n",
      "FLUXES:\n"
     ]
    }
   ],
   "source": [
    "% Verify with solve if flux is zero\n",
    "modelSolution = solveLP(model, 1);\n",
    "disp(modelSolution);\n",
    "printFluxes(model, modelSolution.x, false, tolerance,[],'▪ %flux\\n%rxnID (%rxnName):\\n\\t%eqn\\n\\n');"
   ]
  },
  {
   "cell_type": "markdown",
   "metadata": {},
   "source": [
    "5.\tThe same thing done in step 4 can be done with the function canProduce. There is a sister function called canConsume. It checks which metabolites can be consumed by the model. Change so that no production is allowed and run canConsume. One should see that 12 metabolites could be consumed even though the model is not allowed to produce anything. Pick one of them, force uptake of it by setting the lower bound to non-zero. If one does this one may not be able to get a feasible solution. That is because the problem solved by canConsume allows input of all metabolites, but the current model allows input for only O2 and glucose. Modify the model.b variable to allow for uptake of all metabolites.\n",
    "\n",
    "> Question 4: study the fluxes and try to find the wrong one. What fix should be applied to the corresponding reaction?\n",
    "\n",
    "Even if one fixes the problem one will see that the model can still get rid of O2. This is because of the reactions that were included for testing (NAD ⇔ NADH is not elementally or redox balanced). This part of the exercise is done, so those reactions can now be deleted.\n"
   ]
  },
  {
   "cell_type": "markdown",
   "metadata": {},
   "source": [
    "- [canConsume](https://sysbiochalmers.github.io/RAVEN/doc/core/canConsume.html)\n",
    "\n",
    "```MATLAB\n",
    "function consumed=canConsume(model,mets)\n",
    "```\n",
    "\n",
    "Checks which metabolites that can be consumed by a model using the specified constraints."
   ]
  },
  {
   "cell_type": "code",
   "execution_count": 218,
   "metadata": {},
   "outputs": [
    {
     "data": {
      "text/html": [
       "<html><body><pre>ans = 3x1 cell array\n",
       "   {'FREE_ATP'  }\n",
       "    {'FREE_NADH' }\n",
       "    {'FREE_NADPH'}</pre></body></html>"
      ],
      "text/plain": [
       "ans = 3x1 cell array\n",
       "   {'FREE_ATP'  }\n",
       "    {'FREE_NADH' }\n",
       "    {'FREE_NADPH'}"
      ]
     },
     "execution_count": 218,
     "metadata": {},
     "output_type": "execute_result"
    }
   ],
   "source": [
    "freeReactions.rxns"
   ]
  },
  {
   "cell_type": "code",
   "execution_count": 219,
   "metadata": {},
   "outputs": [],
   "source": [
    "% first, close production. This include BOTH, exchange reactions, and the modification to the b vector\n",
    "model.b = model.b(:, 1);\n",
    "model = setParam(model, 'eq', getExchangeRxns(model, 'out'), 0);\n",
    "% remove free ATP and electron carriers reactions\n",
    "model = removeReactions(model, freeReactions.rxns);"
   ]
  },
  {
   "cell_type": "code",
   "execution_count": 220,
   "metadata": {},
   "outputs": [
    {
     "name": "stdout",
     "output_type": "stream",
     "text": [
      "NOTE: The exchange reactions are assigned to the first compartment\n"
     ]
    }
   ],
   "source": [
    "% second, use canConsume\n",
    "consumed = canConsume(model);\n",
    "disp(model.mets(consumed));"
   ]
  },
  {
   "cell_type": "markdown",
   "metadata": {},
   "source": [
    "I cannot get any of the 12 metabolites that the tutorial says. Checking the file 'tutorial4_solutions.m', I see that the expected result is the following:\n",
    "\n",
    "```shell\n",
    "    {'MAL_m'}\n",
    "    {'AKG_m'}\n",
    "    {'ACA_c'}\n",
    "    {'GLC_c'}\n",
    "    {'CO2_c'}\n",
    "    {'CO2_m'}\n",
    "    {'ETH_c'}\n",
    "    {'FUM_m'}\n",
    "    {'O2_c' }\n",
    "    {'OAA_m'}\n",
    "    {'PYR_c'}\n",
    "    {'SUC_m'}\n",
    "```\n",
    "\n",
    "\n",
    "\n",
    "I noticed that I made additional changes to the model in step 4 than those that appear in the solution file: adding water, balancing all problematic reactions, and fixing the chemical formula of some compounds. Apparently I already curated the chemical reaction the tutorial expect me to solve here 😅.\n",
    "\n",
    "There is not point undoing my work. I will just copy that section of the solution file to study how they use the canConsume function.\n",
    "\n",
    "```MATLAB\n",
    "I=canConsume(model);\n",
    "disp(model.mets(I)); %These 12 metabolites can be consumed without any production\n",
    "\n",
    "%Allow all uptake\n",
    "model.b=[ones(numel(model.b),1)*-1000 model.b];\n",
    "\n",
    "%Pick CO2 and force uptake of it\n",
    "model=setParam(model,'eq',{'co2OUT'},-1); %Negative output means input\n",
    "sol=solveLP(model);\n",
    "printFluxes(model,sol.x,false,10^-5,[],'%rxnID (%rxnName):\\n\\t%eqn\\n\\t%flux\\n'); %Now it works\n",
    "\n",
    "%See that PDC converts pyruvate (3 carbons) to acetaldehyde (2 carbons)\n",
    "%without any other products. If one googles, one may realize that CO2 is\n",
    "%missing. This would be simpler to change in the Excel file (or using\n",
    "%changeRxns), but one can change it here as an exercise. One therefore\n",
    "%needs to find the index of the reactions and the index of cytosolic CO2 in\n",
    "%order to change the reaction\n",
    "Irxn=ismember(model.rxns,'PDC');\n",
    "Imet=ismember(model.mets,'CO2_c');\n",
    "model.S(Imet,Irxn)=1; %The coefficient is 1.0\n",
    "\n",
    "%Display the new equation just to be sure\n",
    "constructEquations(model,Irxn)\n",
    "\n",
    "%The solution is now not feasible, meaning that it is no longer possible to\n",
    "%force uptake of CO2 without any output\n",
    "sol=solveLP(model);\n",
    "```"
   ]
  },
  {
   "cell_type": "code",
   "execution_count": 221,
   "metadata": {},
   "outputs": [
    {
     "name": "stdout",
     "output_type": "stream",
     "text": [
      "    {'PDC'}    {'pyruvate[c] => acetaldehyde[c] + CO2[c]'}\n",
      "\n"
     ]
    }
   ],
   "source": [
    "% The reaction was already curated in step 4\n",
    "disp([rxnsToChange.rxns(5), rxnsToChange.equations(5)]);"
   ]
  },
  {
   "cell_type": "markdown",
   "metadata": {},
   "source": [
    "6.\tUnbalanced reactions are a relatively small problem, since they are so easy to find. A much bigger problem is when metabolites are named differently even though they are meant to be the same. Use smallYeastBad2.xlsx from here on. A first check is to see which reactions can carry flux when one allows for all uptakes and outputs of exchange metabolites. There are several ways to check this but use the function simplifyModel here. The primary purpose of this function is to remove unnecessary stuff from a model to make it smaller, but since it removes “bad” reactions one can use it for error identification as well. If one runs it like it is in tutorial4.m one will see that there are about 20 metabolites and reactions that are dead ends. That is quite a lot, so take a look at the warnings from importExcelModel and see if it is possible to catch the obvious spelling error.\n",
    "\n",
    "> Question 5: what correction should be applied to fix the spelling error?\n"
   ]
  },
  {
   "cell_type": "code",
   "execution_count": 222,
   "metadata": {},
   "outputs": [
    {
     "name": "stdout",
     "output_type": "stream",
     "text": [
      "WARNING: The following metabolites already exist in the same compartment:\n",
      "\t6-O-phosphono-D-glucono-1,5-lactone[c]\n",
      "\n",
      "WARNING: The following genes are not associated to a reaction:\n",
      "\tYPL061W\n",
      "\n",
      "WARNING: No objective function found. This might be intended, but results in FBCv2 non-compliant SBML file when exported\n",
      "\n",
      "WARNING: The following InChI strings are associated to more than one unique metabolite name:\n",
      "\t1/C3H7O6P/c4-1-3(5)2-9-10(6,7)8/h4H,1-2H2,(H2,6,7,8)/f/h6-7H\n",
      "\t1S/C6H14O12P2/c7-4-3(1-16-19(10,11)12)18-6(9,5(4)8)2-17-20(13,14)15/h3-5,7-9H,1-2H2,(H2,10,11,12)(H2,13,14,15)/t3-,4-,5+,6-/m1/s1\n",
      "\n"
     ]
    }
   ],
   "source": [
    "% although I set printWarnings to false, it still prints the warnings...\n",
    "model = importExcelModel(\"./tutorial_data/smallYeastBad2.xlsx\", true, false,true);"
   ]
  },
  {
   "cell_type": "markdown",
   "metadata": {},
   "source": [
    "[simplifyModel](https://sysbiochalmers.github.io/RAVEN/doc/core/simplifyModel.html)\n",
    "\n",
    "```MATLAB\n",
    "function [reducedModel, deletedReactions, deletedMetabolites]=simplifyModel(model,deleteUnconstrained, deleteDuplicates, deleteZeroInterval, deleteInaccessible, deleteMinMax, groupLinear, constrainReversible, reservedRxns, suppressWarnings)\n",
    "```\n",
    "\n",
    "Simplifies a model by deleting reactions/metabolites\n",
    "\n",
    "| parameter | description |\n",
    "| -: | :- |\n",
    "| model                 | a model structure|\n",
    "| deleteUnconstrained   | delete metabolites marked as unconstrained (opt, default true)|\n",
    "| deleteDuplicates      | delete all but one of duplicate reactions (opt, default false)|\n",
    "| deleteZeroInterval    | delete reactions that are constrained to zero flux (opt, default false)|\n",
    "| deleteInaccessible    | delete dead end reactions (opt, default false)|"
   ]
  },
  {
   "cell_type": "code",
   "execution_count": 223,
   "metadata": {},
   "outputs": [
    {
     "name": "stdout",
     "output_type": "stream",
     "text": [
      "Deleted reactions (20):\n",
      "\n",
      "    deletedReactions                    deletedReactionsNames                \n",
      "    ________________    _____________________________________________________\n",
      "\n",
      "     {'ACS'       }     {'Acetyl-coenzyme A synthetase 1'                   }\n",
      "     {'DAR'       }     {'glycerol-3-phosphate dehydrogenase'               }\n",
      "     {'PGL'       }     {'6-phosphogluconolactonase'                        }\n",
      "     {'ZWF'       }     {'Glucose-6-phosphate 1-dehydrogenase'              }\n",
      "     {'acOUT'     }     {'Production of acetate'                            }\n",
      "     {'CAT2'      }     {'Carnitine O-acetyltransferase'                    }\n",
      "     {'GND'       }     {'6-phosphogluconate dehydrogenase, decarboxylating'}\n",
      "     {'GPP'       }     {'sn-glycerol-3-phosphate phosphohydrolase'         }\n",
      "     {'GROWTH'    }     {'Growth'                                           }\n",
      "     {'ADH2'      }     {'Alcohol dehydrogenase rev'                        }\n",
      "     {'IDP1'      }     {'Isocitrate dehydrogenase'                         }\n",
      "     {'MAE1'      }     {'NAD-dependent malic enzyme'                       }\n",
      "     {'biomassOUT'}     {'Production of biomass'                            }\n",
      "     {'glyOUT'    }     {'Production of glycerol'                           }\n",
      "     {'ACO'       }     {'Aconitate hydratase, mitochondrial'               }\n",
      "     {'KGD1KGD2'  }     {'Alpha-ketoglutarate dehydrogenase'                }\n",
      "     {'CIT'       }     {'Citrate synthase, mitochondrial'                  }\n",
      "     {'LSC1LSC2'  }     {'Succinyl-CoA ligase'                              }\n",
      "     {'PDH'       }     {'Pyruvate dehydrogenase complex'                   }\n",
      "     {'CO2TRANS'  }     {'CO2 transport'                                    }\n",
      "\n",
      "Deleted metabolites (21):\n",
      "\n",
      "    deletedMetabolites            deletedMetabolitesNames        \n",
      "    __________________    _______________________________________\n",
      "\n",
      "      {'G15L_c'   }       {'6-O-phosphono-D-glucono-1,5-lactone'}\n",
      "      {'G15Lc'    }       {'6-O-phosphono-D-glucono-1,5-lactone'}\n",
      "      {'AC_c'     }       {'acetate'                            }\n",
      "      {'GLYP_c'   }       {'glycerone phosphate'                }\n",
      "      {'P6G_c'    }       {'6-phospho-D-gluconate'              }\n",
      "      {'ACCOA_c'  }       {'acetyl-CoA'                         }\n",
      "      {'COA_c'    }       {'coenzyme A'                         }\n",
      "      {'GP_c'     }       {'glycerol monophosphate'             }\n",
      "      {'BIOMASS_c'}       {'biomass'                            }\n",
      "      {'GLY_c'    }       {'glycerol'                           }\n",
      "      {'NADP_c'   }       {'NADP(+)'                            }\n",
      "      {'NADP_m'   }       {'NADP(+)'                            }\n",
      "      {'NADPH_c'  }       {'NADPH'                              }\n",
      "      {'NADPH_m'  }       {'NADPH'                              }\n",
      "      {'AKG_m'    }       {'2-oxoglutarate'                     }\n",
      "      {'ICI_m'    }       {'isocitrate'                         }\n",
      "      {'CI_m'     }       {'citrate'                            }\n",
      "      {'SUCCOA_m' }       {'succinyl-CoA'                       }\n",
      "      {'ACCOA_m'  }       {'acetyl-CoA'                         }\n",
      "      {'COA_m'    }       {'coenzyme A'                         }\n",
      "      {'CO2_m'    }       {'CO2'                                }\n",
      "\n"
     ]
    }
   ],
   "source": [
    "[reducedModel, deletedReactions, deletedMetabolites]=simplifyModel(model,[],[],[],true);\n",
    "fprintf('Deleted reactions (%i):\\n\\n', length(deletedReactions));\n",
    "deletedReactionsNames = model.rxnNames(getIndexes(model, deletedReactions, 'rxns'));\n",
    "disp(table(deletedReactions, deletedReactionsNames));\n",
    "fprintf('Deleted metabolites (%i):\\n\\n', length(deletedMetabolites));\n",
    "deletedMetabolitesNames = model.metNames(getIndexes(model, deletedMetabolites, 'mets'));\n",
    "disp(table(deletedMetabolites, deletedMetabolitesNames));"
   ]
  },
  {
   "cell_type": "markdown",
   "metadata": {},
   "source": [
    "Same name, but different ID:\n",
    "\n",
    "| deletedMetabolites            | deletedMetabolitesNames  |\n",
    "| :-: | :-: |  \n",
    "| {'G15L_c'   }       | {'6-O-phosphono-D-glucono-1,5-lactone'}|\n",
    "| {'G15Lc'    }       | {'6-O-phosphono-D-glucono-1,5-lactone'}|"
   ]
  },
  {
   "cell_type": "code",
   "execution_count": 224,
   "metadata": {},
   "outputs": [
    {
     "data": {
      "text/html": [
       "<html><body><pre>reactionToCorrectIndexes = \n",
       "   19</pre></body></html>"
      ],
      "text/plain": [
       "reactionToCorrectIndexes = \n",
       "   19"
      ]
     },
     "execution_count": 224,
     "metadata": {},
     "output_type": "execute_result"
    }
   ],
   "source": [
    "badMetaboliteIndex = getIndexes(model, 'G15Lc', 'mets');\n",
    "okMetaboliteIndex = getIndexes(model, 'G15L_c', 'mets');\n",
    "[~, reactionToCorrectIndexes] = find(model.S(badMetaboliteIndex, :))\n",
    "% This is not the case, but it is possible that both species participate in the same reaction.\n",
    "% The following aproach is only suitable if both species dont share reactions.\n",
    "model.S(okMetaboliteIndex, reactionToCorrectIndexes) = model.S(badMetaboliteIndex, reactionToCorrectIndexes);\n",
    "model=removeMets(model,'G15Lc');"
   ]
  },
  {
   "cell_type": "markdown",
   "metadata": {},
   "source": [
    "7.\tThat did not help very much. Sometimes it is exceedingly difficult to find out where the root of the problem is. This is particularly true if it is in a region with many interconversions between metabolites and no clear input/output (Figure 3).\n",
    "\n",
    "![figure1](./tutorial_data/tutorial_4_fig_1.png)\n",
    "\n",
    "**Figure 3.** An example of pathway featuring many interconversions between metabolites and unclear input/output. If one reaction is wrong here it will be difficult to find since everything looks so connected because it is produced and consumed in many reactions.\n",
    "\n",
    "A powerful but somewhat tricky function is checkProduction. It helps to identify metabolites needed to synthesize in order to to have the net synthesis of everything. Look at the suggestions from checkProduction if when running it like in the tutorial4.m. The function minToConnect tells that is needed to synthesize 12 metabolites to have the net synthesis of everything. However, 8 of them are co-factors or contain co-factors. Since there is no net synthesis of co-factors in this small model those are not interesting (coenzyme A or ATP are not synthesized from glucose). One should look at the top one that is not a co-factor. This one is a bit tricky, and one might want to look it up in KEGG.\n",
    "\n",
    "> Question 6: what is the suspicious similarity between some metabolites?"
   ]
  },
  {
   "cell_type": "code",
   "execution_count": 225,
   "metadata": {},
   "outputs": [
    {
     "name": "stdout",
     "output_type": "stream",
     "text": [
      "Deleted metabolites (20):\n",
      "\n",
      "    deletedMetabolites            deletedMetabolitesNames        \n",
      "    __________________    _______________________________________\n",
      "\n",
      "      {'AC_c'     }       {'acetate'                            }\n",
      "      {'GLYP_c'   }       {'glycerone phosphate'                }\n",
      "      {'ACCOA_c'  }       {'acetyl-CoA'                         }\n",
      "      {'COA_c'    }       {'coenzyme A'                         }\n",
      "      {'GP_c'     }       {'glycerol monophosphate'             }\n",
      "      {'BIOMASS_c'}       {'biomass'                            }\n",
      "      {'GLY_c'    }       {'glycerol'                           }\n",
      "      {'NADP_c'   }       {'NADP(+)'                            }\n",
      "      {'NADP_m'   }       {'NADP(+)'                            }\n",
      "      {'NADPH_c'  }       {'NADPH'                              }\n",
      "      {'NADPH_m'  }       {'NADPH'                              }\n",
      "      {'AKG_m'    }       {'2-oxoglutarate'                     }\n",
      "      {'G15L_c'   }       {'6-O-phosphono-D-glucono-1,5-lactone'}\n",
      "      {'P6G_c'    }       {'6-phospho-D-gluconate'              }\n",
      "      {'ICI_m'    }       {'isocitrate'                         }\n",
      "      {'CI_m'     }       {'citrate'                            }\n",
      "      {'SUCCOA_m' }       {'succinyl-CoA'                       }\n",
      "      {'ACCOA_m'  }       {'acetyl-CoA'                         }\n",
      "      {'COA_m'    }       {'coenzyme A'                         }\n",
      "      {'CO2_m'    }       {'CO2'                                }\n",
      "\n"
     ]
    }
   ],
   "source": [
    "[reducedModel, deletedReactions, deletedMetabolites]=simplifyModel(model,[],[],[],true);\n",
    "fprintf('Deleted metabolites (%i):\\n\\n', length(deletedMetabolites));\n",
    "deletedMetabolitesNames = model.metNames(getIndexes(model, deletedMetabolites, 'mets'));\n",
    "deletedMetabolitesTable = table(deletedMetabolites, deletedMetabolitesNames);\n",
    "disp(deletedMetabolitesTable);"
   ]
  },
  {
   "cell_type": "markdown",
   "metadata": {},
   "source": [
    "[checkProduction](https://sysbiochalmers.github.io/RAVEN/doc/core/checkProduction.html)\n",
    "\n",
    "```MATLAB\n",
    "function [notProduced, notProducedNames, neededForProductionMat,minToConnect,model]=checkProduction(model,checkNeededForProduction,excretionFromCompartments,printDetails)\n",
    "```\n",
    "\n",
    "Checks which metabolites that can be produced from a model using the specified constraints.\n",
    "\n",
    "The function is intended to be used to identify which metabolites must be connected in order to have a fully connected network. It does so by first identifying which metabolites could have a net production in the network. Then it calculates which other metabolites must be able to have net production in order to have production of all metabolites in the network.\n",
    "So, if a network contains the equations A[external]->B, C->D, and D->E it will identify that production of C will connect the metabolites D and E."
   ]
  },
  {
   "cell_type": "code",
   "execution_count": 226,
   "metadata": {},
   "outputs": [
    {
     "name": "stdout",
     "output_type": "stream",
     "text": [
      "NOTE: The exchange reactions are assigned to the first compartment\n",
      "mintToConnect size: (10)\n",
      "    {'NADP(+)[c] (connects 9 metabolites)'            }\n",
      "    {'NADP(+)[m] (connects 4 metabolites)'            }\n",
      "    {'glycerone phosphate[c] (connects 3 metabolites)'}\n",
      "    {'succinyl-CoA[m] (connects 3 metabolites)'       }\n",
      "    {'ADP[c] (connects 2 metabolites)'                }\n",
      "    {'FADH2[m] (connects 2 metabolites)'              }\n",
      "    {'NAD(+)[c] (connects 2 metabolites)'             }\n",
      "    {'NAD(+)[m] (connects 2 metabolites)'             }\n",
      "    {'acetate[c] (connects 1 metabolites)'            }\n",
      "    {'biomass[c] (connects 1 metabolites)'            }\n",
      "\n"
     ]
    }
   ],
   "source": [
    "[notProducedMets, ~, neededForProductionMat, minToConnect]=checkProduction(model,true,model.comps,false);\n",
    "fprintf('mintToConnect size: (%i)\\n', length(minToConnect));\n",
    "disp(minToConnect);"
   ]
  },
  {
   "cell_type": "markdown",
   "metadata": {},
   "source": [
    "The top non-related to cofactor metabolite is {'glycerone phosphate[c] (connects 3 metabolites)'}.\n",
    "\n",
    "KEGG [Glycerone phosphate](https://www.kegg.jp/entry/C00111)\n",
    "\n",
    "- **Entry:**<br>\n",
    "C00111                            \n",
    "- **Name:**<br>\n",
    "Glycerone phosphate<br>\n",
    "Dihydroxyacetone phosphate<br>\n",
    "3-Hydroxy-2-oxopropyl phosphate<br>\n",
    "- **Formula:**<br>\n",
    "C3H7O6P"
   ]
  },
  {
   "cell_type": "code",
   "execution_count": 227,
   "metadata": {},
   "outputs": [
    {
     "name": "stdout",
     "output_type": "stream",
     "text": [
      "    index      formula          ID                      Name              \n",
      "    _____    ___________    __________    ________________________________\n",
      "\n",
      "     25      {'C3H7O6P'}    {'GA3P_c'}    {'D-glyceraldehyde 3-phosphate'}\n",
      "     35      {'C3H7O6P'}    {'DHAP_c'}    {'dihydroxyacetone phosphate'  }\n",
      "     36      {'C3H7O6P'}    {'GLYP_c'}    {'glycerone phosphate'         }\n",
      "\n"
     ]
    }
   ],
   "source": [
    "% let's look for compounds with the same formula\n",
    "sameFormulaIndex = find(strcmp(model.metFormulas, 'C3H7O6P'));\n",
    "metabolitesToCheck = table(sameFormulaIndex, ...\n",
    "    model.metFormulas(sameFormulaIndex), ...\n",
    "    model.mets(sameFormulaIndex), ...\n",
    "    model.metNames(sameFormulaIndex), ...\n",
    "    'VariableNames', {'index', 'formula', 'ID', 'Name'});\n",
    "disp(metabolitesToCheck);"
   ]
  },
  {
   "cell_type": "markdown",
   "metadata": {},
   "source": [
    "Notice that DHAP_c and GLYP_c are synonyms."
   ]
  },
  {
   "cell_type": "code",
   "execution_count": 228,
   "metadata": {},
   "outputs": [
    {
     "data": {
      "text/html": [
       "<html><body><pre>reactionToCorrectIndexes = 1x2 double\n",
       "    12    13\n",
       "</pre></body></html>"
      ],
      "text/plain": [
       "reactionToCorrectIndexes = 1x2 double\n",
       "    12    13\n"
      ]
     },
     "execution_count": 228,
     "metadata": {},
     "output_type": "execute_result"
    }
   ],
   "source": [
    "badMetaboliteIndex = getIndexes(model, 'DHAP_c', 'mets');\n",
    "okMetaboliteIndex = getIndexes(model, 'GLYP_c', 'mets');\n",
    "[~, reactionToCorrectIndexes] = find(model.S(badMetaboliteIndex, :))\n",
    "% This is not the case, but it is possible that both species participate in the same reaction.\n",
    "% The following aproach is only suitable if both species dont share reactions.\n",
    "model.S(okMetaboliteIndex, reactionToCorrectIndexes) = model.S(badMetaboliteIndex, reactionToCorrectIndexes);\n",
    "model=removeMets(model,'DHAP_c');"
   ]
  },
  {
   "cell_type": "code",
   "execution_count": 229,
   "metadata": {},
   "outputs": [
    {
     "name": "stdout",
     "output_type": "stream",
     "text": [
      "Deleted metabolites (17):\n",
      "\n",
      "    deletedMetabolites            deletedMetabolitesNames        \n",
      "    __________________    _______________________________________\n",
      "\n",
      "      {'AC_c'     }       {'acetate'                            }\n",
      "      {'ACCOA_c'  }       {'acetyl-CoA'                         }\n",
      "      {'COA_c'    }       {'coenzyme A'                         }\n",
      "      {'BIOMASS_c'}       {'biomass'                            }\n",
      "      {'NADP_c'   }       {'NADP(+)'                            }\n",
      "      {'NADP_m'   }       {'NADP(+)'                            }\n",
      "      {'NADPH_c'  }       {'NADPH'                              }\n",
      "      {'NADPH_m'  }       {'NADPH'                              }\n",
      "      {'AKG_m'    }       {'2-oxoglutarate'                     }\n",
      "      {'G15L_c'   }       {'6-O-phosphono-D-glucono-1,5-lactone'}\n",
      "      {'P6G_c'    }       {'6-phospho-D-gluconate'              }\n",
      "      {'ICI_m'    }       {'isocitrate'                         }\n",
      "      {'CI_m'     }       {'citrate'                            }\n",
      "      {'SUCCOA_m' }       {'succinyl-CoA'                       }\n",
      "      {'ACCOA_m'  }       {'acetyl-CoA'                         }\n",
      "      {'COA_m'    }       {'coenzyme A'                         }\n",
      "      {'CO2_m'    }       {'CO2'                                }\n",
      "\n"
     ]
    }
   ],
   "source": [
    "[reducedModel, deletedReactions, deletedMetabolites]=simplifyModel(model,[],[],[],true);\n",
    "fprintf('Deleted metabolites (%i):\\n\\n', length(deletedMetabolites));\n",
    "deletedMetabolitesNames = model.metNames(getIndexes(model, deletedMetabolites, 'mets'));\n",
    "deletedMetabolitesTable = table(deletedMetabolites, deletedMetabolitesNames);\n",
    "disp(deletedMetabolitesTable);"
   ]
  },
  {
   "cell_type": "markdown",
   "metadata": {},
   "source": [
    "8.\tStill quite a bit of dead ends, and nothing that immediately looks like it would fix everything. It could be that some reactions are missing. One could try to include reactions from a set of other models to fill the gaps. This is a computationally expensive task for a large network, but for this small model it is easy. One could use any model structure, but here one can take the small yeast model from Tutorial 3. Run the code and include the suggested reaction(s). Run the previous tests to make sure that everything works. "
   ]
  },
  {
   "cell_type": "code",
   "execution_count": 230,
   "metadata": {},
   "outputs": [],
   "source": [
    "templateModel = importExcelModel('./tutorial_data/smallYeast.xlsx', [], false, true);"
   ]
  },
  {
   "cell_type": "markdown",
   "metadata": {},
   "source": [
    "- [fillGaps](https://sysbiochalmers.github.io/RAVEN/doc/core/fillGaps.html)\n",
    "\n",
    "Uses template model(s) to fill gaps in a model\n",
    "\n",
    "```MATLAB\n",
    "function [newConnected, cannotConnect, addedRxns, newModel, exitFlag]=fillGaps(model,models,allowNetProduction,useModelConstraints,supressWarnings,rxnScores,params)\n",
    "```\n",
    "\n",
    "This method works by merging the model to the reference model(s) and checking which reactions can carry flux. All reactions that can't carry flux are removed (cannotConnect). If useModelConstraints is false it then solves the MILP problem of minimizing the number of active reactions from the reference models that are required to have flux in all the reactions in model. This requires that the input model has exchange reactions present for the nutrients that are needed for its metabolism. If useModelConstraints is true then the problem is to include as few reactions as possible from the reference models in order to satisfy the model constraints. The intended use is that the user can attempt a general gap-filling using useModelConstraint=false or a more targeted gap-filling by setting constraints in the model structure and then use useModelConstraints=true. Say that the user want to include reactions so that all biomass components can be synthesized. He/she could then define a biomass equation and set the lower bound to >0. Running this function with useModelConstraints=true would then give the smallest set of reactions that have to be included in order for the model to produce biomass"
   ]
  },
  {
   "cell_type": "code",
   "execution_count": 231,
   "metadata": {},
   "outputs": [
    {
     "name": "stdout",
     "output_type": "stream",
     "text": [
      "WARNING: Removing dead-end reactions before removing exchange metabolites\n",
      "\n",
      "MILP detected.\n",
      "Set parameter Username\n",
      "Set parameter TimeLimit to value 1000\n",
      "Set parameter FeasibilityTol to value 1e-09\n",
      "Set parameter IntFeasTol to value 1e-09\n",
      "Set parameter MIPGap to value 1e-12\n",
      "Set parameter OptimalityTol to value 1e-09\n",
      "Set parameter DisplayInterval to value 1\n",
      "Set parameter Presolve to value 2\n",
      "Set parameter Seed to value 1\n",
      "Academic license - for non-commercial use only - expires 2024-07-25\n",
      "Gurobi Optimizer version 10.0.2 build v10.0.2rc0 (win64)\n",
      "\n",
      "CPU model: Intel(R) Core(TM) i5-6200U CPU @ 2.30GHz, instruction set [SSE2|AVX|AVX2]\n",
      "Thread count: 2 physical cores, 4 logical processors, using up to 4 threads\n",
      "\n",
      "Optimize a model with 115 rows, 311 columns and 748 nonzeros\n",
      "Model fingerprint: 0x770939d1\n",
      "Variable types: 248 continuous, 63 integer (0 binary)\n",
      "Coefficient statistics:\n",
      "  Matrix range     [1e+00, 1e+03]\n",
      "  Objective range  [1e+00, 1e+00]\n",
      "  Bounds range     [1e-01, 1e+03]\n",
      "  RHS range        [0e+00, 0e+00]\n",
      "Presolve removed 40 rows and 188 columns\n",
      "Presolve time: 0.01s\n",
      "Presolved: 75 rows, 123 columns, 333 nonzeros\n",
      "Variable types: 82 continuous, 41 integer (41 binary)\n",
      "Found heuristic solution: objective 17.0000000\n",
      "Root relaxation presolve removed 42 rows and 43 columns\n",
      "Root relaxation presolved: 33 rows, 80 columns, 247 nonzeros\n",
      "\n",
      "\n",
      "Root relaxation: objective 1.004856e+00, 24 iterations, 0.01 seconds (0.00 work units)\n",
      "\n",
      "    Nodes    |    Current Node    |     Objective Bounds      |     Work\n",
      " Expl Unexpl |  Obj  Depth IntInf | Incumbent    BestBd   Gap | It/Node Time\n",
      "\n",
      "     0     0    1.00486    0    1   17.00000    1.00486  94.1%     -    0s\n",
      "H    0     0                       2.0000000    1.00486  49.8%     -    0s\n",
      "     0     0    1.00486    0    1    2.00000    1.00486  49.8%     -    0s\n",
      "\n",
      "Explored 1 nodes (24 simplex iterations) in 0.08 seconds (0.00 work units)\n",
      "Thread count was 4 (of 4 available processors)\n",
      "\n",
      "Solution count 2: 2 17 \n",
      "\n",
      "Optimal solution found (tolerance 1.00e-12)\n",
      "Best objective 2.000000000000e+00, best bound 2.000000000000e+00, gap 0.0000%\n"
     ]
    }
   ],
   "source": [
    "[newConnected, cannotConnect, addedRxns, newModel]=fillGaps(model,{templateModel});"
   ]
  },
  {
   "cell_type": "code",
   "execution_count": 232,
   "metadata": {},
   "outputs": [
    {
     "name": "stdout",
     "output_type": "stream",
     "text": [
      "Reaction added from the template(s) (2):\n",
      "    {'ALD6'          }\n",
      "    {'PFK_smallYeast'}\n",
      "\n",
      "Reaction that could be connected (32):\n",
      "    {'ACS'       }\n",
      "    {'ADH1'      }\n",
      "    {'ADH2'      }\n",
      "    {'ATPX'      }\n",
      "    {'CAT2'      }\n",
      "    {'CIT'       }\n",
      "    {'DAR'       }\n",
      "    {'FADHX'     }\n",
      "    {'GND'       }\n",
      "    {'GPP'       }\n",
      "    {'GROWTH'    }\n",
      "    {'HXK'       }\n",
      "    {'IDP1'      }\n",
      "    {'KGD1KGD2'  }\n",
      "    {'MAE1'      }\n",
      "    {'NADHX'     }\n",
      "    {'PCK'       }\n",
      "    {'PDC'       }\n",
      "    {'PDC_2'     }\n",
      "    {'PDH'       }\n",
      "    {'PGL'       }\n",
      "    {'PYC'       }\n",
      "    {'PYK'       }\n",
      "    {'ShuttleX'  }\n",
      "    {'ZWF'       }\n",
      "    {'acOUT'     }\n",
      "    {'biomassOUT'}\n",
      "    {'co2OUT'    }\n",
      "    {'ethOUT'    }\n",
      "    {'glcIN'     }\n",
      "    {'glyOUT'    }\n",
      "    {'o2IN'      }\n",
      "\n",
      "Reactions that could not be connected (19):\n",
      "    {'ACO'      }\n",
      "    {'CO2TRANS' }\n",
      "    {'ENO'      }\n",
      "    {'FBA'      }\n",
      "    {'FBP'      }\n",
      "    {'FUM1'     }\n",
      "    {'GLD'      }\n",
      "    {'GPM'      }\n",
      "    {'LSC1LSC2' }\n",
      "    {'MDH1'     }\n",
      "    {'PFK'      }\n",
      "    {'PGI'      }\n",
      "    {'PGK'      }\n",
      "    {'RPE'      }\n",
      "    {'RPI'      }\n",
      "    {'TAL1'     }\n",
      "    {'TKI1TKI2a'}\n",
      "    {'TKI1TKI2b'}\n",
      "    {'TPI'      }\n",
      "\n"
     ]
    }
   ],
   "source": [
    "fprintf('Reaction added from the template(s) (%i):\\n', length(addedRxns));\n",
    "disp(addedRxns);\n",
    "fprintf('Reaction that could be connected (%i):\\n', length(newConnected));\n",
    "disp(newConnected);\n",
    "fprintf('Reactions that could not be connected (%i):\\n', length(cannotConnect));\n",
    "disp(cannotConnect);"
   ]
  },
  {
   "cell_type": "code",
   "execution_count": 233,
   "metadata": {},
   "outputs": [
    {
     "name": "stdout",
     "output_type": "stream",
     "text": [
      "WARNING: Removing dead-end reactions before removing exchange metabolites\n",
      "\n",
      "Deleted reactions (0):\n",
      "\n",
      "Deleted metabolites (0):\n",
      "\n"
     ]
    }
   ],
   "source": [
    "[reducedModel, deletedReactions, deletedMetabolites]=simplifyModel(newModel,[],[],[],true);\n",
    "fprintf('Deleted reactions (%i):\\n\\n', length(deletedReactions));\n",
    "deletedReactionsNames = newModel.rxnNames(getIndexes(newModel, deletedReactions, 'rxns'));\n",
    "disp(table(deletedReactions, deletedReactionsNames));\n",
    "fprintf('Deleted metabolites (%i):\\n\\n', length(deletedMetabolites));\n",
    "deletedMetabolitesNames = newModel.metNames(getIndexes(newModel, deletedMetabolites, 'mets'));\n",
    "disp(table(deletedMetabolites, deletedMetabolitesNames));"
   ]
  },
  {
   "cell_type": "markdown",
   "metadata": {},
   "source": [
    "Zero deleted reactions and metabolites. All OK 🤓."
   ]
  },
  {
   "cell_type": "markdown",
   "metadata": {},
   "source": [
    "9.\tFinished! And do not forget that the gapReport function does all these things."
   ]
  },
  {
   "cell_type": "markdown",
   "metadata": {},
   "source": [
    "- [gapReport](https://sysbiochalmers.github.io/RAVEN/doc/core/gapReport.html)\n",
    "\n",
    "Performs a gap analysis and summarizes the results \n",
    "\n",
    "```MATLAB\n",
    "function [noFluxRxns, noFluxRxnsRelaxed, subGraphs, notProducedMets, minToConnect,neededForProductionMat, canProduceWithoutInput, canConsumeWithoutOutput,connectedFromTemplates, addedFromTemplates]=gapReport(model, templateModels)\n",
    "```"
   ]
  },
  {
   "cell_type": "code",
   "execution_count": 234,
   "metadata": {},
   "outputs": [
    {
     "name": "stdout",
     "output_type": "stream",
     "text": [
      "WARNING: The following metabolites already exist in the same compartment:\n",
      "\t6-O-phosphono-D-glucono-1,5-lactone[c]\n",
      "\n",
      "WARNING: The following genes are not associated to a reaction:\n",
      "\tYPL061W\n",
      "\n",
      "WARNING: No objective function found. This might be intended, but results in FBCv2 non-compliant SBML file when exported\n",
      "\n",
      "WARNING: The following InChI strings are associated to more than one unique metabolite name:\n",
      "\t1/C3H7O6P/c4-1-3(5)2-9-10(6,7)8/h4H,1-2H2,(H2,6,7,8)/f/h6-7H\n",
      "\t1S/C6H14O12P2/c7-4-3(1-16-19(10,11)12)18-6(9,5(4)8)2-17-20(13,14)15/h3-5,7-9H,1-2H2,(H2,10,11,12)(H2,13,14,15)/t3-,4-,5+,6-/m1/s1\n",
      "\n"
     ]
    }
   ],
   "source": [
    "model = importExcelModel(\"./tutorial_data/smallYeastBad2.xlsx\", true, false,true);"
   ]
  },
  {
   "cell_type": "code",
   "execution_count": 235,
   "metadata": {},
   "outputs": [
    {
     "name": "stdout",
     "output_type": "stream",
     "text": [
      "Gap analysis for smallYeastBad2 - Central carbon metabolism for yeast\n",
      "\n",
      "***Overview\n",
      "51 out of 53 reactions cannot carry flux (21 if net production of all metabolites is allowed)\n",
      "50 out of 54 metabolites are unreachable (17 if net production of all metabolites is allowed)\n",
      "\n",
      "***Isolated subnetworks\n",
      "A total of 1 isolated sub-networks are present in the model\n",
      "\t1. 54 metabolites\n",
      "\n",
      "***Metabolite connectivity\n",
      "NOTE: The exchange reactions are assigned to the first compartment\n",
      "To enable net production of all metabolites, a total of 11 metabolites must be connected\n",
      "Top 10 metabolites to connect:\n",
      "\t1. NADP(+)[m] (connects 9 metabolites)\n",
      "\t2. glycerone phosphate[c] (connects 3 metabolites)\n",
      "\t3. NADP(+)[c] (connects 3 metabolites)\n",
      "\t4. succinyl-CoA[m] (connects 3 metabolites)\n",
      "\t5. 6-O-phosphono-D-glucono-1,5-lactone[c] (connects 2 metabolites)\n",
      "\t6. ADP[c] (connects 2 metabolites)\n",
      "\t7. FADH2[m] (connects 2 metabolites)\n",
      "\t8. NAD(+)[c] (connects 2 metabolites)\n",
      "\t9. NAD(+)[m] (connects 2 metabolites)\n",
      "\t10. acetate[c] (connects 1 metabolites)\n",
      "\n",
      "***Automated gap-filling\n",
      "WARNING: Removing dead-end reactions before removing exchange metabolites\n",
      "\n",
      "MILP detected.\n",
      "Set parameter Username\n",
      "Set parameter TimeLimit to value 1000\n",
      "Set parameter FeasibilityTol to value 1e-09\n",
      "Set parameter IntFeasTol to value 1e-09\n",
      "Set parameter MIPGap to value 1e-12\n",
      "Set parameter OptimalityTol to value 1e-09\n",
      "Set parameter DisplayInterval to value 1\n",
      "Set parameter Presolve to value 2\n",
      "Set parameter Seed to value 1\n",
      "Academic license - for non-commercial use only - expires 2024-07-25\n",
      "Gurobi Optimizer version 10.0.2 build v10.0.2rc0 (win64)\n",
      "\n",
      "CPU model: Intel(R) Core(TM) i5-6200U CPU @ 2.30GHz, instruction set [SSE2|AVX|AVX2]\n",
      "Thread count: 2 physical cores, 4 logical processors, using up to 4 threads\n",
      "\n",
      "Optimize a model with 116 rows, 311 columns and 745 nonzeros\n",
      "Model fingerprint: 0xae909ed2\n",
      "Variable types: 248 continuous, 63 integer (0 binary)\n",
      "Coefficient statistics:\n",
      "  Matrix range     [1e+00, 1e+03]\n",
      "  Objective range  [1e+00, 1e+00]\n",
      "  Bounds range     [1e-01, 1e+03]\n",
      "  RHS range        [0e+00, 0e+00]\n",
      "Presolve removed 46 rows and 197 columns\n",
      "Presolve time: 0.00s\n",
      "Presolved: 70 rows, 114 columns, 310 nonzeros\n",
      "Variable types: 76 continuous, 38 integer (38 binary)\n",
      "Found heuristic solution: objective 22.0000000\n",
      "Root relaxation presolve removed 39 rows and 40 columns\n",
      "Root relaxation presolved: 31 rows, 74 columns, 230 nonzeros\n",
      "\n",
      "\n",
      "Root relaxation: objective 2.005056e+00, 23 iterations, 0.01 seconds (0.00 work units)\n",
      "\n",
      "    Nodes    |    Current Node    |     Objective Bounds      |     Work\n",
      " Expl Unexpl |  Obj  Depth IntInf | Incumbent    BestBd   Gap | It/Node Time\n",
      "\n",
      "     0     0    2.00506    0    2   22.00000    2.00506  90.9%     -    0s\n",
      "H    0     0                       4.0000000    2.00506  49.9%     -    0s\n",
      "     0     0     cutoff    0         4.00000    4.00000  0.00%     -    0s\n",
      "\n",
      "Cutting planes:\n",
      "  Implied bound: 1\n",
      "  Clique: 1\n",
      "  Flow cover: 1\n",
      "\n",
      "Explored 1 nodes (23 simplex iterations) in 0.06 seconds (0.00 work units)\n",
      "Thread count was 4 (of 4 available processors)\n",
      "\n",
      "Solution count 2: 4 22 \n",
      "\n",
      "Optimal solution found (tolerance 1.00e-12)\n",
      "Best objective 4.000000000000e+00, best bound 4.000000000000e+00, gap 0.0000%\n",
      "31 unconnected reactions can be connected by including 4 reactions from\n",
      "smallYeast\n"
     ]
    }
   ],
   "source": [
    "gapReport(model,{templateModel});"
   ]
  }
 ],
 "metadata": {
  "kernelspec": {
   "display_name": "MATLAB Kernel",
   "language": "matlab",
   "name": "jupyter_matlab_kernel"
  },
  "language_info": {
   "file_extension": ".m",
   "mimetype": "text/x-matlab",
   "name": "matlab"
  },
  "orig_nbformat": 4
 },
 "nbformat": 4,
 "nbformat_minor": 2
}
