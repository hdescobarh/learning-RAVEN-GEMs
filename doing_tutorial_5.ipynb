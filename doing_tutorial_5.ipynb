{
 "cells": [
  {
   "cell_type": "markdown",
   "metadata": {},
   "source": [
    "# Tutorial 5 – Reconstruct and Refine a GEM from KEGG\n",
    "\n",
    "From the tutorial file:\n",
    "\n",
    "> This exercise is about creating a model from KEGG, based on protein sequences in a FASTA file, and doing some functionality checks on the model. The example case is for the yeast Saccharomyces cerevisiae. This tutorial is more of a showcase and its main purpose is to serve as a scaffold to reconstruct a GEM for any organism.\n",
    "> Open tutorial5.m in MATLAB to begin this exercise.\n",
    "\n"
   ]
  },
  {
   "cell_type": "code",
   "execution_count": 1,
   "metadata": {},
   "outputs": [],
   "source": [
    "clear;\n",
    "setRavenSolver('gurobi');\n",
    "addpath('./source');\n",
    "tolerance = 10^-7;"
   ]
  },
  {
   "cell_type": "markdown",
   "metadata": {},
   "source": [
    "## 1. Metabolic reconstruction from KEEG and protein homology"
   ]
  },
  {
   "cell_type": "markdown",
   "metadata": {},
   "source": [
    "Check the wiki [Use Pre Trained HMMs](https://github.com/SysBioChalmers/RAVEN/wiki/Use-Pre-Trained-HMMs) for more details.\n",
    "\n",
    "The tutorial uses:\n",
    "\n",
    "- [getKEGGModelForOrganism](https://sysbiochalmers.github.io/RAVEN/doc/external/kegg/getKEGGModelForOrganism.html)\n",
    "\n",
    "Reconstructs a genome-scale metabolic model based on protein homology to the orthologies in KEGG. If the target species is not available in KEGG, the user must select a closely related species. It is also possible to circumvent protein homology search (see fastaFile parameter for more details)"
   ]
  },
  {
   "cell_type": "markdown",
   "metadata": {},
   "source": [
    "❗ I cannot execute the function in the Notebook. I got this error message:\n",
    "\n",
    "```shell\n",
    "Error connecting to MATLAB. Check the status of MATLAB by clicking the \"Open MATLAB\" button. Retry after ensuring MATLAB is running successfully\n",
    "```\n",
    "\n",
    "Seems there is an issue with the MATLAB Kernel and calls that take long to complete; So, I excecuted the following call in console, and saved the output:\n",
    "\n",
    "```MATLAB\n",
    "model= getKEGGModelForOrganism('sce', ...\n",
    "    './tutorial_data/sce.fa', ... % fastaFile\n",
    "    'euk90_kegg105', ... % Dataset: <phylogeny><% CD-HIT Identity>_kegg<release>\n",
    "    './output/_ignore_tutorial_5', ... % outDir\n",
    "    false, ... % keepSpontaneous. Label \"spontaneous\".\n",
    "    false, ... % keepUndefinedStoich. \"n A <=> n+1 A\" form.\n",
    "    false, ... % keepIncomplete. Label \"incomplete\", \"erroneous\" or \"unclear\".\n",
    "    false, ... % keepGeneral. Label \"general reaction\". WARNING: this script cannot remove all.\n",
    "    10^-30, ... % cutOff. significance score from HMMer needed to assign genes to a KO\n",
    "    0.8, ... % minScoreRatioKO\n",
    "    0.3, ... % minScoreRatioG\n",
    "    -1); % maxPhylDist\n",
    "save('./output/tutorial_5_model.mat', 'model');\n",
    "```"
   ]
  },
  {
   "cell_type": "code",
   "execution_count": 56,
   "metadata": {},
   "outputs": [
    {
     "name": "stdout",
     "output_type": "stream",
     "text": [
      "             id: 'sce'\n",
      "           name: 'Automatically generated from KEGG database'\n",
      "           rxns: {1589x1 cell}\n",
      "       rxnNames: {1589x1 cell}\n",
      "        eccodes: {1589x1 cell}\n",
      "     subSystems: {1589x1 cell}\n",
      "     rxnMiriams: {1589x1 cell}\n",
      "       rxnNotes: {1589x1 cell}\n",
      "              S: [1600x1589 double]\n",
      "           mets: {1600x1 cell}\n",
      "            rev: [1589x1 double]\n",
      "             ub: [1589x1 double]\n",
      "             lb: [1589x1 double]\n",
      "              c: [1589x1 double]\n",
      "              b: [1600x1 double]\n",
      "          genes: {836x1 cell}\n",
      "     rxnGeneMat: [1589x836 double]\n",
      "       metNames: {1600x1 cell}\n",
      "    metFormulas: {1600x1 cell}\n",
      "         inchis: {1600x1 cell}\n",
      "     metMiriams: {1600x1 cell}\n",
      "          comps: {'s'}\n",
      "      compNames: {'System'}\n",
      "       metComps: [1600x1 double]\n",
      "        grRules: {1589x1 cell}\n",
      "\n"
     ]
    }
   ],
   "source": [
    "model = load('./output/tutorial_5_model.mat').model;\n",
    "disp(model);"
   ]
  },
  {
   "cell_type": "markdown",
   "metadata": {},
   "source": [
    "## 2. Validating mass balance"
   ]
  },
  {
   "cell_type": "markdown",
   "metadata": {},
   "source": [
    "❗ Redox and charge balance can be very tricky since formulas depends on conditions such as pH."
   ]
  },
  {
   "cell_type": "code",
   "execution_count": 57,
   "metadata": {},
   "outputs": [
    {
     "name": "stdout",
     "output_type": "stream",
     "text": [
      "Potential problematic reactions: 615.\n",
      "\n",
      "              balanceStatus    C    N    O    S    P    H     F    Cl    Fe    Se    R\n",
      "              _____________    _    _    _    _    _    __    _    __    __    __    _\n",
      "\n",
      "    R00021         -1          0    0    0    0    0     0    0    0     0     0     0\n",
      "    R00025          0          0    0    0    0    0    -1    0    0     0     0     0\n",
      "    R00093          0          0    0    0    0    0    -1    0    0     0     0     0\n",
      "    R00094          0          0    0    0    0    0    -1    0    0     0     0     0\n",
      "    R00100         -1          0    0    0    0    0     1    0    0     0     0     0\n",
      "    R00111          0          0    0    0    0    0     1    0    0     0     0     0\n",
      "    R00114          0          0    0    0    0    0    -1    0    0     0     0     0\n",
      "    R00115          0          0    0    0    0    0    -1    0    0     0     0     0\n",
      "\n"
     ]
    }
   ],
   "source": [
    "% It is not neccesary, but I preffer tables to display information.\n",
    "nonBalancedReactionsTable = makeUnablancedMetabolitesTable(model);\n",
    "head(nonBalancedReactionsTable)"
   ]
  },
  {
   "cell_type": "markdown",
   "metadata": {},
   "source": [
    "❗ to use makeSomething and consumeSomething functions, it is recomendable to ensure that there is not open exchange reactions:"
   ]
  },
  {
   "cell_type": "code",
   "execution_count": 58,
   "metadata": {},
   "outputs": [
    {
     "name": "stdout",
     "output_type": "stream",
     "text": [
      "There are 0 exchange reactions:\n"
     ]
    }
   ],
   "source": [
    "[~, exchangeRxnsIndexes] = getExchangeRxns(model);\n",
    "fprintf('There are %i exchange reactions:\\n', length(exchangeRxnsIndexes));\n",
    "disp(table(model.rxns(exchangeRxnsIndexes), ...\n",
    "    model.lb(exchangeRxnsIndexes), ...\n",
    "    model.ub(exchangeRxnsIndexes), ...\n",
    "    'VariableNames', {'ID', 'LB', 'UB'}));"
   ]
  },
  {
   "cell_type": "markdown",
   "metadata": {},
   "source": [
    "### 2.1. Free production"
   ]
  },
  {
   "cell_type": "markdown",
   "metadata": {},
   "source": [
    "\n",
    "- [makeSomething](https://sysbiochalmers.github.io/RAVEN/doc/core/makeSomething.html)\n",
    "\n",
    "```MATLAB\n",
    "function [solution, metabolite] = makeSomething(model, ignoreMets, isNames, minNrFluxes, allowExcretion, params, ignoreIntBounds)\n",
    "```\n",
    "Tries to excrete any metabolite using as few reactions as possible. The intended use is when you want to make sure that you model cannot synthesize anything from nothing. It is then a faster way than to use checkProduction or canProduce"
   ]
  },
  {
   "cell_type": "code",
   "execution_count": 59,
   "metadata": {},
   "outputs": [
    {
     "name": "stdout",
     "output_type": "stream",
     "text": [
      "There are 35 reactions with flux. The involved metabolite is H2O"
     ]
    }
   ],
   "source": [
    "% First, check reactions producing species from nothing:\n",
    "% From the nonBalancedReactionsTable table we already known there are issues with H+. Ignore it to avoid noise.\n",
    "ignoreMets = {'H+'};\n",
    "[solutionFlux, metaboliteIndex] = makeSomething(model, ignoreMets, true);\n",
    "metaboliteName = model.metNames(metaboliteIndex);\n",
    "reactionsWithFluxIndexes = find(abs(solutionFlux) >= tolerance);\n",
    "fprintf('There are %i reactions with flux. The involved metabolite is %s', ...\n",
    "    length(reactionsWithFluxIndexes), metaboliteName{:});"
   ]
  },
  {
   "cell_type": "code",
   "execution_count": 60,
   "metadata": {},
   "outputs": [
    {
     "name": "stdout",
     "output_type": "stream",
     "text": [
      "Reactions to check: 7\n",
      "              balanceStatus    C     N    O     S    P     H     F    Cl    Fe    Se    R\n",
      "              _____________    __    _    __    _    _    ___    _    __    __    __    _\n",
      "\n",
      "    R00941          0           0    0     0    0    0     -1    0    0     0     0     0\n",
      "    R01058          0           0    0     0    0    0     -1    0    0     0     0     0\n",
      "    R01061          0           0    0     0    0    0     -1    0    0     0     0     0\n",
      "    R01221          0           0    0     0    0    0     -1    0    0     0     0     0\n",
      "    R01655          0           0    0     0    0    0     -1    0    0     0     0     0\n",
      "    R02110          0          -6    0    -5    0    0    -10    0    0     0     0     0\n",
      "    R02413          0           0    0     0    0    0     -1    0    0     0     0     0\n",
      "\n"
     ]
    }
   ],
   "source": [
    "% Assess which of these reactions have problems with their equations\n",
    "% Get the reactions that have flux AND appears in the table of problematic reactions\n",
    "carryingFluxProblematicReactions = intersect(...\n",
    "    nonBalancedReactionsTable.Properties.RowNames, ...\n",
    "    model.rxns(reactionsWithFluxIndexes));\n",
    "reactions2check = nonBalancedReactionsTable(carryingFluxProblematicReactions, :);\n",
    "fprintf('Reactions to check: %i\\n', height(reactions2check));\n",
    "disp(reactions2check);"
   ]
  },
  {
   "cell_type": "markdown",
   "metadata": {},
   "source": [
    "❗ R02110 reaction looks very suspicious, C H O are unbalanced."
   ]
  },
  {
   "cell_type": "code",
   "execution_count": 61,
   "metadata": {},
   "outputs": [
    {
     "name": "stdout",
     "output_type": "stream",
     "text": [
      "FLUXES:\n",
      "▪ -0.085106\n",
      "R00941 (10-formyltetrahydrofolate:NADP+ oxidoreductase):\n",
      "\tH2O[s] + NADP+[s] + 10-Formyltetrahydrofolate[s] <=> NADPH[s] + CO2[s] + H+[s] + Tetrahydrofolate[s]\n",
      "▪ 0.42553\n",
      "R01058 (D-glyceraldehyde 3-phosphate:NADP+ oxidoreductase):\n",
      "\tH2O[s] + NADP+[s] + D-Glyceraldehyde 3-phosphate[s] <=> NADPH[s] + H+[s] + 3-Phospho-D-glycerate[s]\n",
      "▪ 0.042553\n",
      "R01061 (D-glyceraldehyde-3-phosphate:NAD+ oxidoreductase (phosphorylating)):\n",
      "\tNAD+[s] + Orthophosphate[s] + D-Glyceraldehyde 3-phosphate[s] <=> NADH[s] + H+[s] + 3-Phospho-D-glyceroyl phosphate[s]\n",
      "▪ -0.042553\n",
      "R01221 (glycine:NAD+ 2-oxidoreductase (tetrahydrofolate-methylene-adding);):\n",
      "\tNAD+[s] + Glycine[s] + Tetrahydrofolate[s] <=> NADH[s] + CO2[s] + Ammonia[s] + H+[s] + 5,10-Methylenetetrahydrofolate[s]\n",
      "▪ -0.085106\n",
      "R01655 (5,10-Methenyltetrahydrofolate 5-hydrolase (decyclizing)):\n",
      "\tH2O[s] + 5,10-Methenyltetrahydrofolate[s] <=> H+[s] + 10-Formyltetrahydrofolate[s]\n",
      "▪ 0.40426\n",
      "R02110 (1,4-alpha-D-Glucan:1,4-alpha-D-glucan 6-alpha-D-(1,4-alpha-D-glucano)-transferase):\n",
      "\tAmylose[s] <=> Starch[s]\n",
      "▪ -0.25532\n",
      "R02413 (Shikimate:NADP+ 3-oxidoreductase):\n",
      "\tNADP+[s] + Shikimate[s] <=> NADPH[s] + H+[s] + 3-Dehydroshikimate[s]\n"
     ]
    }
   ],
   "source": [
    "% Print fluxes from the problematic reactions\n",
    "flux2showIndexes = getIndexes(model, carryingFluxProblematicReactions, 'rxns');\n",
    "flux2show = zeros(size(solutionFlux));\n",
    "flux2show(flux2showIndexes) = solutionFlux(flux2showIndexes);\n",
    "printFluxes(model, flux2show, false, [], [], ...\n",
    "    '▪ %flux\\n%rxnID (%rxnName):\\n\\t%eqn\\n');"
   ]
  },
  {
   "cell_type": "markdown",
   "metadata": {},
   "source": [
    "The reaction involves two polysacharides. I want to remark the following from [KEEG COMPOUND Database](https://www.genome.jp/kegg/compound/):\n",
    "\n",
    "> \"**Biosynthetic Codes**<br>\n",
    "> The structures of DNA, RNA, and proteins are determined by template-based syntheses of replication, transcription, and translation with the genetic code. In contrast, the structures of glycans, lipids, polyketides, nonribosomal peptides, and various secondary metabolites are determined by biosynthetic pathways. KEGG COMPOUND, as well as KEGG GLYCAN, is a resource for understanding such biosynthetic codes and for inferring chemical repertoires of these diverse substances from genomic information.\"\n",
    "\n",
    "❗ R02110 is not an interconversión but a polymerization reaction, adding a glucose polymer Amylose (C6H10O5)n to another glucose polymer Starch (C12H20O10)n:\n",
    "\n",
    "From [KEGG GLYCAN Database](https://www.genome.jp/kegg/glycan/), R02110 is the same as R06186:\n",
    "\n",
    "<img src=\"https://www.genome.jp/Fig/reaction/R06186.gif\"/>"
   ]
  },
  {
   "cell_type": "code",
   "execution_count": 62,
   "metadata": {},
   "outputs": [
    {
     "name": "stdout",
     "output_type": "stream",
     "text": [
      "FLUXES:\n",
      "▪ 0.40426\n",
      "R02110 (1,4-alpha-D-Glucan:1,4-alpha-D-glucan 6-alpha-D-(1,4-alpha-D-glucano)-transferase):\n",
      "\tAmylose[s] <=> Starch[s]\n",
      "▪ 0.40426\n",
      "R02111 (1,4-alpha-D-Glucan:orthophosphate alpha-D-glucosyltransferase):\n",
      "\tOrthophosphate[s] + Starch[s] <=> D-Glucose 1-phosphate[s] + Amylose[s]\n"
     ]
    }
   ],
   "source": [
    "% Looking for al starch reactions\n",
    "printFluxes(model, solutionFlux, false, [], [], ...\n",
    "    '▪ %flux\\n%rxnID (%rxnName):\\n\\t%eqn\\n', {'Starch'});"
   ]
  },
  {
   "cell_type": "markdown",
   "metadata": {},
   "source": [
    "❗ Why is there Starch in a yeast in first place? 🤔\n",
    "\n",
    "The tutorial removes only R02110, but, unless it is a genetically engineered yeast, I will consider to remove also R02111. \n"
   ]
  },
  {
   "cell_type": "code",
   "execution_count": 63,
   "metadata": {},
   "outputs": [],
   "source": [
    "model=removeReactions(model,'R02110');"
   ]
  },
  {
   "cell_type": "code",
   "execution_count": 64,
   "metadata": {},
   "outputs": [
    {
     "name": "stdout",
     "output_type": "stream",
     "text": [
      "There are 0 reactions with flux. The involved metabolite is "
     ]
    }
   ],
   "source": [
    "[solutionFlux, metaboliteIndex] = makeSomething(model, ignoreMets, true);\n",
    "metaboliteName = model.metNames(metaboliteIndex);\n",
    "reactionsWithFluxIndexes = find(abs(solutionFlux) >= tolerance);\n",
    "fprintf('There are %i reactions with flux. The involved metabolite is %s', ...\n",
    "    length(reactionsWithFluxIndexes), metaboliteName{:});"
   ]
  },
  {
   "cell_type": "markdown",
   "metadata": {},
   "source": [
    "### 2.2. Free internal consumption"
   ]
  },
  {
   "cell_type": "markdown",
   "metadata": {},
   "source": [
    "- [consumeSomething](https://sysbiochalmers.github.io/RAVEN/doc/core/consumeSomething.html)\n",
    "\n",
    "```MATLAB\n",
    "function [solution, metabolite] = consumeSomething(model, ignoreMets, isNames, minNrFluxes, params, ignoreIntBounds)\n",
    "```\n",
    "Tries to consume any metabolite using as few reactions as possible. The intended use is when you want to make sure that you model cannot consume anything without producing something. It is intended to be used with no active exchange reactions.\n"
   ]
  },
  {
   "cell_type": "code",
   "execution_count": 65,
   "metadata": {},
   "outputs": [
    {
     "name": "stdout",
     "output_type": "stream",
     "text": [
      "There are 0 reactions with flux. The involved metabolite is "
     ]
    }
   ],
   "source": [
    "[solutionFlux, metaboliteIndex] = consumeSomething(model,{'H+'},true);\n",
    "metaboliteName = model.metNames(metaboliteIndex);\n",
    "reactionsWithFluxIndexes = find(abs(solutionFlux) >= tolerance);\n",
    "fprintf('There are %i reactions with flux. The involved metabolite is %s', ...\n",
    "    length(reactionsWithFluxIndexes), metaboliteName{:});"
   ]
  },
  {
   "cell_type": "markdown",
   "metadata": {},
   "source": [
    "No free consumption of internal metabolites 👌"
   ]
  },
  {
   "cell_type": "markdown",
   "metadata": {},
   "source": [
    "## 2.3. Network connectivity - Gap filling"
   ]
  },
  {
   "cell_type": "code",
   "execution_count": 66,
   "metadata": {},
   "outputs": [
    {
     "name": "stdout",
     "output_type": "stream",
     "text": [
      "      metID            metName      \n",
      "    __________    __________________\n",
      "\n",
      "    {'C00001'}    {'H2O'           }\n",
      "    {'C00007'}    {'Oxygen'        }\n",
      "    {'C00009'}    {'Orthophosphate'}\n",
      "    {'C00014'}    {'Ammonia'       }\n",
      "    {'C00031'}    {'D-Glucose'     }\n",
      "    {'C00059'}    {'Sulfate'       }\n",
      "\n"
     ]
    }
   ],
   "source": [
    "% get the correct IDs for the metabolites.\n",
    "% Notice that was used \"Ammonia\" instead of \"NH3\".\n",
    "expression = '^(D-Glucose|H2O|Orthophosphate|Oxygen|Ammonia|Sulfate)$';\n",
    "matchTable = findMetaboliteByName(model, expression);\n",
    "disp(matchTable)"
   ]
  },
  {
   "cell_type": "code",
   "execution_count": 67,
   "metadata": {},
   "outputs": [],
   "source": [
    "% added new inputs\n",
    "[model, addedRxns ] = addExchangeRxns(model, 'in', matchTable.metID);\n",
    "disp(addedRxns)"
   ]
  },
  {
   "cell_type": "markdown",
   "metadata": {},
   "source": [
    "[checkProduction](https://sysbiochalmers.github.io/RAVEN/doc/core/checkProduction.html)\n",
    "\n",
    "Checks which metabolites that can be produced from a model using the specified constraints.\n",
    "\n",
    "```MATLAB\n",
    "function [notProduced, notProducedNames, neededForProductionMat, minToConnect, model] = checkProduction(model, checkNeededForProduction, excretionFromCompartments, printDetails)\n",
    "```\n",
    "The function is intended to be used to identify which metabolites must be connected in order to have a fully connected network. It does so by first identifying which metabolites could have a net production in the network. Then it calculates which other metabolites must be able to have net production in order to have production of all metabolites in the network. So, if a network contains the equations A[external]->B, C->D, and D->E it will identify that production of C will connect the metabolites D and E."
   ]
  },
  {
   "cell_type": "code",
   "execution_count": 73,
   "metadata": {},
   "outputs": [],
   "source": [
    "[notProduced, notProducedNames, neededForProductionMat, minToConnect, ~ ] = checkProduction(model, false, model.comps, false);"
   ]
  },
  {
   "cell_type": "code",
   "execution_count": 93,
   "metadata": {},
   "outputs": [
    {
     "name": "stdout",
     "output_type": "stream",
     "text": [
      "There are 1008 non-produced metabolites from 1600 (63.00 %)\n",
      "Minimal number of metabolites that need to be connected: 0\n"
     ]
    }
   ],
   "source": [
    "fprintf('There are %i non-produced metabolites from %i (%3.2f %%)\\n', ...\n",
    "    length(notProduced), length(model.mets), 100*length(notProduced)/length(model.mets));\n",
    "fprintf('Minimal number of metabolites that need to be connected: %i\\n', length(minToConnect));\n"
   ]
  },
  {
   "cell_type": "markdown",
   "metadata": {},
   "source": [
    "❗ I am not sure what means an empty minToConnect array."
   ]
  },
  {
   "cell_type": "markdown",
   "metadata": {},
   "source": [
    "### 2.3.1. Template model preparation\n",
    "\n",
    "From [getModelFromKEGG](https://sysbiochalmers.github.io/RAVEN/doc/external/kegg/getModelFromKEGG.html) documentation:\n",
    "\n",
    ">NOTE: The model output from getModelFromKEGG can be used as template for fillGaps. In that case, ensure that the genes and rxnGeneMat fields are removed before parsing: model=rmfield(model,'genes'), etc."
   ]
  },
  {
   "cell_type": "code",
   "execution_count": null,
   "metadata": {},
   "outputs": [],
   "source": [
    "% keggPath (opt, default 'RAVEN/external/kegg')\n",
    "keggModel = getModelFromKEGG([],false,false,false,false);\n",
    "% following the documentation instruction for gap filling:\n",
    "keggModel=rmfield(keggModel,'genes');\n",
    "keggModel=rmfield(keggModel,'rxnGeneMat');"
   ]
  },
  {
   "cell_type": "code",
   "execution_count": 100,
   "metadata": {},
   "outputs": [],
   "source": [
    "% remove unbalanced reactions\n",
    "balanceStructure = getElementalBalance(keggModel);\n",
    "% Notice that removeUnusedMets and removeUnusedGenes are set to true\n",
    "keggModel = removeReactions(keggModel, balanceStructure.balanceStatus~=1, true, true);"
   ]
  },
  {
   "cell_type": "markdown",
   "metadata": {},
   "source": [
    "### 2.3.2. Gap filling\n",
    "\n",
    "- [fillGaps](https://sysbiochalmers.github.io/RAVEN/doc/core/fillGaps.html)\n",
    "\n",
    "```MATLAB\n",
    "function [newConnected, cannotConnect, addedRxns, newModel, exitFlag] = fillGaps(model, models,allowNetProduction, useModelConstraints, supressWarnings, rxnScores, params)\n",
    "```\n",
    "\n",
    "This method works by merging the model to the reference model(s) and checking which reactions can carry flux. All reactions that can't carry flux are removed (cannotConnect).\n",
    "\n",
    "If **useModelConstraints is false** it then solves the MILP problem of minimizing the number of active reactions from the reference models that are required to have flux in all the reactions in model. This requires that the input model has exchange reactions present for the nutrients that are needed for its metabolism. **If useModelConstraints is true** then the problem is to include as few reactions as possible from the reference models in order to satisfy the model constraints.\n",
    "\n",
    "The intended use is that the user can attempt a general gap-filling using useModelConstraint=false or a more targeted gap-filling by setting constraints in the model structure and then use useModelConstraints=true. Say that the user want to include reactions so that all biomass components can be synthesized. He/she could then define a biomass equation and set the lower bound to >0. Running this function with useModelConstraints=true would then give the smallest set of reactions that have to be included in order for the model to produce biomass."
   ]
  },
  {
   "cell_type": "markdown",
   "metadata": {},
   "source": [
    "❗ The tutorial makes the following configuration:\n",
    "\n",
    "```MATLAB\n",
    "params.relGap=0.6; %Lower number for a more exhaustive search\n",
    "params.printReport=true;\n",
    "```\n",
    "The fillGaps documentation is not much clear about what \"params\" is:\n",
    "\n",
    "> params: parameter structure as used by getMILPParams (opt)\n",
    "\n",
    "Checking the code, fillGaps uses params in the [getMinNrFluxes](https://sysbiochalmers.github.io/RAVEN/doc/core/getMinNrFluxes.html) call, which then uses it to call [optimizeProb](https://sysbiochalmers.github.io/RAVEN/doc/solver/optimizeProb.html):\n",
    "\n",
    "> params: solver specific parameters (optional)\n",
    "\n",
    "I am not sure to which solver *relGap* and *printReport* are valid parameters 😵. I checked the RAVEN GLPK ([Matlab MEX interface](https://github.com/blegat/glpkmex/blob/master/glpk.m)), the Gurobi ([Parameters](https://www.gurobi.com/documentation/10.0/refman/parameters.html)) and COBRA [MILP Solver](https://github.com/opencobra/cobratoolbox/blob/master/src/base/solvers/solveCobraMILP.m), without results. Then, I will just omit those parameters 🤔.\n",
    "\n",
    "<br>\n",
    "\n",
    "> Since I am using Gurobi, worth to check this:\n",
    ">- [The params argument](https://www.gurobi.com/documentation/10.0/refman/matlab_the_params_argument.html)\n",
    ">- [MATLAB Parameter Examples](https://www.gurobi.com/documentation/10.0/refman/matlab_parameter_examples.html)\n",
    "\n"
   ]
  },
  {
   "cell_type": "code",
   "execution_count": 113,
   "metadata": {},
   "outputs": [
    {
     "name": "stdout",
     "output_type": "stream",
     "text": [
      "MILP detected.\n",
      "Set parameter Username\n",
      "Set parameter TimeLimit to value 1000\n",
      "Set parameter FeasibilityTol to value 1e-09\n",
      "Set parameter IntFeasTol to value 1e-09\n",
      "Set parameter MIPGap to value 1e-12\n",
      "Set parameter OptimalityTol to value 1e-09\n",
      "Set parameter DisplayInterval to value 1\n",
      "Set parameter Presolve to value 2\n",
      "Set parameter Seed to value 1\n",
      "Academic license - for non-commercial use only - expires 2024-07-25\n",
      "Gurobi Optimizer version 10.0.2 build v10.0.2rc0 (win64)\n",
      "\n",
      "CPU model: Intel(R) Core(TM) i5-6200U CPU @ 2.30GHz, instruction set [SSE2|AVX|AVX2]\n",
      "Thread count: 2 physical cores, 4 logical processors, using up to 4 threads\n",
      "\n",
      "Optimize a model with 18294 rows, 44936 columns and 101985 nonzeros\n",
      "Model fingerprint: 0x6576949b\n",
      "Variable types: 33049 continuous, 11887 integer (0 binary)\n",
      "Coefficient statistics:\n",
      "  Matrix range     [1e+00, 1e+03]\n",
      "  Objective range  [1e+00, 1e+00]\n",
      "  Bounds range     [1e-01, 1e+03]\n",
      "  RHS range        [0e+00, 0e+00]\n",
      "Presolve removed 9054 rows and 29838 columns (presolve time = 1s) ...\n",
      "Presolve removed 9054 rows and 29838 columns\n",
      "Presolve time: 1.13s\n",
      "Presolved: 9240 rows, 15098 columns, 46355 nonzeros\n",
      "Variable types: 8190 continuous, 6908 integer (6908 binary)\n",
      "Found heuristic solution: objective 2401.0000000\n",
      "Root relaxation presolve removed 6899 rows and 7144 columns\n",
      "Root relaxation presolved: 2341 rows, 7954 columns, 31915 nonzeros\n",
      "\n",
      "\n",
      "Root simplex log...\n",
      "\n",
      "Iteration    Objective       Primal Inf.    Dual Inf.      Time\n",
      "       0    2.4000000e+01   8.334406e+04   0.000000e+00      2s\n",
      "    1717    2.7003350e+01   0.000000e+00   0.000000e+00      2s\n",
      "    1719    2.7003350e+01   0.000000e+00   0.000000e+00      2s\n",
      "Extra simplex iterations after uncrush: 2\n",
      "\n",
      "Root relaxation: objective 2.700335e+01, 1719 iterations, 0.22 seconds (0.09 work units)\n",
      "\n",
      "    Nodes    |    Current Node    |     Objective Bounds      |     Work\n",
      " Expl Unexpl |  Obj  Depth IntInf | Incumbent    BestBd   Gap | It/Node Time\n",
      "\n",
      "     0     0   27.00335    0   25 2401.00000   27.00335  98.9%     -    2s\n",
      "H    0     0                      52.0000000   27.00335  48.1%     -    2s\n",
      "     0     0   40.00175    0   18   52.00000   40.00175  23.1%     -    2s\n",
      "     0     0   43.00190    0   20   52.00000   43.00190  17.3%     -    2s\n",
      "     0     0   45.00100    0   11   52.00000   45.00100  13.5%     -    2s\n",
      "     0     0   45.00100    0   13   52.00000   45.00100  13.5%     -    2s\n",
      "     0     0   46.00090    0   10   52.00000   46.00090  11.5%     -    2s\n",
      "     0     0   47.00080    0   11   52.00000   47.00080  9.61%     -    3s\n",
      "     0     0   48.00070    0    8   52.00000   48.00070  7.69%     -    3s\n",
      "     0     0   48.00070    0    8   52.00000   48.00070  7.69%     -    3s\n",
      "     0     2   48.00070    0    8   52.00000   48.00070  7.69%     -    3s\n",
      "    77    12   49.00030    3    5   52.00000   49.00030  5.77%   4.1    4s\n",
      "\n",
      "Cutting planes:\n",
      "  Cover: 1\n",
      "  Implied bound: 3\n",
      "  Clique: 3\n",
      "  Flow cover: 21\n",
      "  Network: 18\n",
      "  Relax-and-lift: 1\n",
      "\n",
      "Explored 137 nodes (3375 simplex iterations) in 4.30 seconds (1.71 work units)\n",
      "Thread count was 4 (of 4 available processors)\n",
      "\n",
      "Solution count 2: 52 2401 \n",
      "\n",
      "Optimal solution found (tolerance 1.00e-12)\n",
      "Best objective 5.200000000000e+01, best bound 5.200000000000e+01, gap 0.0000%\n"
     ]
    }
   ],
   "source": [
    "[newConnected, cannotConnect, addedRxns, newModel, exitFlag] = fillGaps(...\n",
    "    model, keggModel, true, false, false);"
   ]
  },
  {
   "cell_type": "code",
   "execution_count": 125,
   "metadata": {},
   "outputs": [
    {
     "name": "stdout",
     "output_type": "stream",
     "text": [
      "Connected 29 reactions by adding 52 new reactions"
     ]
    }
   ],
   "source": [
    "fprintf('Connected %i reactions by adding %i new reactions.\\n', length(newConnected), length(addedRxns));"
   ]
  },
  {
   "cell_type": "code",
   "execution_count": 123,
   "metadata": {},
   "outputs": [],
   "source": [
    "save('./output/tutorial_5_fillGapOutput.mat', 'newConnected', 'cannotConnect', 'addedRxns', 'newModel');"
   ]
  },
  {
   "cell_type": "markdown",
   "metadata": {},
   "source": [
    "### 2.3.3. Manual curation of added reactions (not done here)\n",
    "\n",
    "It is necessary to check that the added reactions exist in yeast since the template is a general model.\n",
    "\n",
    "### 2.3.4. Further connectivity improving (iterative, not finished here)"
   ]
  },
  {
   "cell_type": "code",
   "execution_count": 139,
   "metadata": {},
   "outputs": [
    {
     "name": "stdout",
     "output_type": "stream",
     "text": [
      "Remaining unconnected reactions: 512 (31.11)%.\n"
     ]
    }
   ],
   "source": [
    "fprintf('Remaining unconnected reactions: %i (%3.2f)%%.\\n', ...\n",
    "    length(cannotConnect), 100 * length(cannotConnect)/length(newModel.rxns));"
   ]
  },
  {
   "cell_type": "markdown",
   "metadata": {},
   "source": [
    "- [gapReport](https://sysbiochalmers.github.io/RAVEN/doc/core/gapReport.html)\n",
    "\n",
    "Performs a gap analysis and summarizes the results\n",
    "\n",
    "```MATLAB\n",
    "function [noFluxRxns, noFluxRxnsRelaxed, subGraphs, notProducedMets, minToConnect,neededForProductionMat, canProduceWithoutInput, canConsumeWithoutOutput,connectedFromTemplates, addedFromTemplates] = gapReport(model,  templateModels)\n",
    "```\n",
    "\n",
    "---\n",
    "\n",
    "Since gapReport can takes hours to run, I will perform this step in console and save the results:\n",
    "\n",
    "```MATLAB\n",
    "newModel = load('./output/tutorial_5_fillGapOutput.mat').newModel;\n",
    "[noFluxRxns, noFluxRxnsRelaxed, subGraphs, notProducedMets, minToConnect,...\n",
    "    neededForProductionMat]=gapReport(newModel);\n",
    "clear newModel\n",
    "save('./output/tutorial_5_gapReport01.mat');\n",
    "\n",
    "```\n",
    "\n",
    "---\n",
    "\n",
    "Output log:\n",
    "\n",
    "```shell\n",
    "Gap analysis for MERGED - \n",
    "\n",
    "***Overview\n",
    "483 out of 1646 reactions cannot carry flux (483 if net production of all metabolites is allowed)\n",
    "691 out of 1619 metabolites are unreachable (691 if net production of all metabolites is allowed)\n",
    "\n",
    "***Isolated subnetworks\n",
    "A total of 6 isolated sub-networks are present in the model\n",
    "\t1. 1607 metabolites\n",
    "\t2. 4 metabolites\n",
    "\t3. 2 metabolites\n",
    "\t4. 2 metabolites\n",
    "\t5. 2 metabolites\n",
    "\t6. 2 metabolites\n",
    "\n",
    "***Metabolite connectivity\n",
    "\n",
    "To enable net production of all metabolites, a total of 305 metabolites must be connected\n",
    "Top 10 metabolites to connect:\n",
    "\t1. Retinyl ester[s] (connects 66 metabolites)\n",
    "\t2. Thiamin diphosphate[s] (connects 17 metabolites)\n",
    "\t3. Selenomethionyl-tRNA(Met)[s] (connects 15 metabolites)\n",
    "\t4. [Dihydrolipoyllysine-residue succinyltransferase] S-glutaryldihydrolipoyllysine[s] (connects 14 metabolites)\n",
    "\t5. G00003[s] (connects 14 metabolites)\n",
    "\t6. NAD+[s] (connects 13 metabolites)\n",
    "\t7. Androstenediol[s] (connects 13 metabolites)\n",
    "\t8. 1-Alkyl-2-acylglycerol[s] (connects 10 metabolites)\n",
    "\t9. G00146[s] (connects 10 metabolites)\n",
    "\t10. Progesterone[s] (connects 9 metabolites)\n",
    "```"
   ]
  },
  {
   "cell_type": "code",
   "execution_count": 73,
   "metadata": {},
   "outputs": [
    {
     "name": "stdout",
     "output_type": "stream",
     "text": [
      "              minToConnect: {305x1 cell}\n",
      "    neededForProductionMat: [952x952 logical]\n",
      "                noFluxRxns: {483x1 cell}\n",
      "         noFluxRxnsRelaxed: {483x1 cell}\n",
      "           notProducedMets: [952x1 double]\n",
      "                 subGraphs: [1619x6 logical]\n",
      "\n",
      "■ There are 6 isolated subnetworks.\n",
      "\t- 1607 metabolites\n",
      "\t- 4 metabolites\n",
      "\t- 2 metabolites\n",
      "\t- 2 metabolites\n",
      "\t- 2 metabolites\n",
      "\t- 2 metabolites\n",
      "■ Top 10 metabolites to connect:\n",
      "\t1. Retinyl ester[s] (connects 66 metabolites).\n",
      "\t2. Thiamin diphosphate[s] (connects 17 metabolites).\n",
      "\t3. Selenomethionyl-tRNA(Met)[s] (connects 15 metabolites).\n",
      "\t4. [Dihydrolipoyllysine-residue succinyltransferase] S-glutaryldihydrolipoyllysine[s] (connects 14 metabolites).\n",
      "\t5. G00003[s] (connects 14 metabolites).\n",
      "\t6. NAD+[s] (connects 13 metabolites).\n",
      "\t7. Androstenediol[s] (connects 13 metabolites).\n",
      "\t8. 1-Alkyl-2-acylglycerol[s] (connects 10 metabolites).\n",
      "\t9. G00146[s] (connects 10 metabolites).\n",
      "\t10. Progesterone[s] (connects 9 metabolites).\n"
     ]
    }
   ],
   "source": [
    "gapReportOutput = load('./output/tutorial_5_gapReport01.mat');\n",
    "disp(gapReportOutput);\n",
    "fprintf('■ There are %i isolated subnetworks.\\n', size(gapReportOutput.subGraphs, 2));\n",
    "for index = 1:size(gapReportOutput.subGraphs, 2)\n",
    "    fprintf('\\t- %i metabolites\\n', sum(gapReportOutput.subGraphs(:, index)));\n",
    "end\n",
    "fprintf('■ Top 10 metabolites to connect:\\n');\n",
    "for index = 1:10\n",
    "    fprintf('\\t%i. %s.\\n', index, string(gapReportOutput.minToConnect(index, 1)))\n",
    "end"
   ]
  },
  {
   "cell_type": "code",
   "execution_count": 76,
   "metadata": {},
   "outputs": [
    {
     "name": "stdout",
     "output_type": "stream",
     "text": [
      "Number of matches: 8\n",
      "      metID             metName      \n",
      "    __________    ___________________\n",
      "\n",
      "    {'C00114'}    {'Choline'        }\n",
      "    {'C00120'}    {'Biotin'         }\n",
      "    {'C00253'}    {'Nicotinate'     }\n",
      "    {'C00255'}    {'Riboflavin'     }\n",
      "    {'C00378'}    {'Thiamine'       }\n",
      "    {'C00504'}    {'Folate'         }\n",
      "    {'C00568'}    {'4-Aminobenzoate'}\n",
      "    {'C05437'}    {'Zymosterol'     }\n",
      "\n"
     ]
    }
   ],
   "source": [
    "expression = '^(4-Aminobenzoate|Riboflavin|Thiamine|Biotin|Folate|Nicotinate|Zymosterol|Choline)$';\n",
    "matchTable = findMetaboliteByName(model, expression);\n",
    "fprintf('Number of matches: %i\\n', height(matchTable));\n",
    "disp(matchTable);"
   ]
  },
  {
   "cell_type": "code",
   "execution_count": 77,
   "metadata": {},
   "outputs": [
    {
     "name": "stdout",
     "output_type": "stream",
     "text": [
      "    {'EXC_IN_C00114'}\n",
      "    {'EXC_IN_C00120'}\n",
      "    {'EXC_IN_C00253'}\n",
      "    {'EXC_IN_C00255'}\n",
      "    {'EXC_IN_C00378'}\n",
      "    {'EXC_IN_C00504'}\n",
      "    {'EXC_IN_C00568'}\n",
      "    {'EXC_IN_C05437'}\n",
      "\n"
     ]
    }
   ],
   "source": [
    "[model, addedRxns ] = addExchangeRxns(model, 'in', matchTable.metID);\n",
    "disp(addedRxns)"
   ]
  },
  {
   "cell_type": "markdown",
   "metadata": {},
   "source": [
    "🔁 Run again *gapReport* and repeat 🔁"
   ]
  }
 ],
 "metadata": {
  "kernelspec": {
   "display_name": "MATLAB Kernel",
   "language": "matlab",
   "name": "jupyter_matlab_kernel"
  },
  "language_info": {
   "file_extension": ".m",
   "mimetype": "text/x-matlab",
   "name": "matlab"
  }
 },
 "nbformat": 4,
 "nbformat_minor": 2
}
