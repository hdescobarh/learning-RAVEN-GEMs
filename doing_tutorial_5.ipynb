{
 "cells": [
  {
   "cell_type": "markdown",
   "metadata": {},
   "source": [
    "# Tutorial 5 – Reconstruct and Refine a GEM from KEGG\n",
    "\n",
    "From the tutorial file:\n",
    "\n",
    "> This exercise is about creating a model from KEGG, based on protein sequences in a FASTA file, and doing some functionality checks on the model. The example case is for the yeast Saccharomyces cerevisiae. This tutorial is more of a showcase and its main purpose is to serve as a scaffold to reconstruct a GEM for any organism.\n",
    "> Open tutorial5.m in MATLAB to begin this exercise.\n",
    "\n"
   ]
  },
  {
   "cell_type": "code",
   "execution_count": 255,
   "metadata": {},
   "outputs": [],
   "source": [
    "clear;\n",
    "setRavenSolver('gurobi');\n",
    "addpath('./source');\n",
    "tolerance = 10^-7;"
   ]
  },
  {
   "cell_type": "markdown",
   "metadata": {},
   "source": [
    "## 1. Metabolic reconstruction from KEEG and protein homology"
   ]
  },
  {
   "cell_type": "markdown",
   "metadata": {},
   "source": [
    "Check the wiki [Use Pre Trained HMMs](https://github.com/SysBioChalmers/RAVEN/wiki/Use-Pre-Trained-HMMs) for more details.\n",
    "\n",
    "The tutorial uses:\n",
    "\n",
    "- [getKEGGModelForOrganism](https://sysbiochalmers.github.io/RAVEN/doc/external/kegg/getKEGGModelForOrganism.html)\n",
    "\n",
    "Reconstructs a genome-scale metabolic model based on protein homology to the orthologies in KEGG. If the target species is not available in KEGG, the user must select a closely related species. It is also possible to circumvent protein homology search (see fastaFile parameter for more details)"
   ]
  },
  {
   "cell_type": "markdown",
   "metadata": {},
   "source": [
    "❗ I cannot execute the function in the Notebook. I got this error message:\n",
    "\n",
    "```shell\n",
    "Error connecting to MATLAB. Check the status of MATLAB by clicking the \"Open MATLAB\" button. Retry after ensuring MATLAB is running successfully\n",
    "```\n",
    "\n",
    "Seems there is an issue with the MATLAB Kernel and calls that take long to complete; So, I excecuted the following call in console, and saved the output:\n",
    "\n",
    "```MATLAB\n",
    "model= getKEGGModelForOrganism('sce', ...\n",
    "    './tutorial_data/sce.fa', ... % fastaFile\n",
    "    'euk90_kegg105', ... % Dataset: <phylogeny><% CD-HIT Identity>_kegg<release>\n",
    "    './output/_ignore_tutorial_5', ... % outDir\n",
    "    false, ... % keepSpontaneous. Label \"spontaneous\".\n",
    "    false, ... % keepUndefinedStoich. \"n A <=> n+1 A\" form.\n",
    "    false, ... % keepIncomplete. Label \"incomplete\", \"erroneous\" or \"unclear\".\n",
    "    false, ... % keepGeneral. Label \"general reaction\". WARNING: this script cannot remove all.\n",
    "    10^-30, ... % cutOff. significance score from HMMer needed to assign genes to a KO\n",
    "    0.8, ... % minScoreRatioKO\n",
    "    0.3, ... % minScoreRatioG\n",
    "    -1); % maxPhylDist\n",
    "save('./output/tutorial_5_model.mat', 'model');\n",
    "```"
   ]
  },
  {
   "cell_type": "code",
   "execution_count": 256,
   "metadata": {},
   "outputs": [
    {
     "name": "stdout",
     "output_type": "stream",
     "text": [
      "             id: 'sce'\n",
      "           name: 'Automatically generated from KEGG database'\n",
      "           rxns: {1589x1 cell}\n",
      "       rxnNames: {1589x1 cell}\n",
      "        eccodes: {1589x1 cell}\n",
      "     subSystems: {1589x1 cell}\n",
      "     rxnMiriams: {1589x1 cell}\n",
      "       rxnNotes: {1589x1 cell}\n",
      "              S: [1600x1589 double]\n",
      "           mets: {1600x1 cell}\n",
      "            rev: [1589x1 double]\n",
      "             ub: [1589x1 double]\n",
      "             lb: [1589x1 double]\n",
      "              c: [1589x1 double]\n",
      "              b: [1600x1 double]\n",
      "          genes: {836x1 cell}\n",
      "     rxnGeneMat: [1589x836 double]\n",
      "       metNames: {1600x1 cell}\n",
      "    metFormulas: {1600x1 cell}\n",
      "         inchis: {1600x1 cell}\n",
      "     metMiriams: {1600x1 cell}\n",
      "          comps: {'s'}\n",
      "      compNames: {'System'}\n",
      "       metComps: [1600x1 double]\n",
      "        grRules: {1589x1 cell}\n",
      "\n"
     ]
    }
   ],
   "source": [
    "model = load('./output/tutorial_5_model.mat').model;\n",
    "disp(model);"
   ]
  },
  {
   "cell_type": "markdown",
   "metadata": {},
   "source": [
    "## 2. Validating mass balance"
   ]
  },
  {
   "cell_type": "markdown",
   "metadata": {},
   "source": [
    "❗ Redox and charge balance can be very tricky since formulas depends on conditions such as pH."
   ]
  },
  {
   "cell_type": "code",
   "execution_count": 257,
   "metadata": {},
   "outputs": [
    {
     "name": "stdout",
     "output_type": "stream",
     "text": [
      "Potential problematic reactions: 615.\n",
      "\n",
      "              balanceStatus    C    N    O    S    P    H     F    Cl    Fe    Se    R\n",
      "              _____________    _    _    _    _    _    __    _    __    __    __    _\n",
      "\n",
      "    R00021         -1          0    0    0    0    0     0    0    0     0     0     0\n",
      "    R00025          0          0    0    0    0    0    -1    0    0     0     0     0\n",
      "    R00093          0          0    0    0    0    0    -1    0    0     0     0     0\n",
      "    R00094          0          0    0    0    0    0    -1    0    0     0     0     0\n",
      "    R00100         -1          0    0    0    0    0     1    0    0     0     0     0\n",
      "    R00111          0          0    0    0    0    0     1    0    0     0     0     0\n",
      "    R00114          0          0    0    0    0    0    -1    0    0     0     0     0\n",
      "    R00115          0          0    0    0    0    0    -1    0    0     0     0     0\n",
      "\n"
     ]
    }
   ],
   "source": [
    "% It is not neccesary, but I preffer tables to display information.\n",
    "nonBalancedReactionsTable = makeUnablancedMetabolitesTable(model);\n",
    "head(nonBalancedReactionsTable)"
   ]
  },
  {
   "cell_type": "markdown",
   "metadata": {},
   "source": [
    "❗ to use makeSomething and consumeSomething functions, it is recomendable to ensure that there is not open exchange reactions:"
   ]
  },
  {
   "cell_type": "code",
   "execution_count": 258,
   "metadata": {},
   "outputs": [
    {
     "name": "stdout",
     "output_type": "stream",
     "text": [
      "There are 0 exchange reactions:\n"
     ]
    }
   ],
   "source": [
    "[~, exchangeRxnsIndexes] = getExchangeRxns(model);\n",
    "fprintf('There are %i exchange reactions:\\n', length(exchangeRxnsIndexes));\n",
    "disp(table(model.rxns(exchangeRxnsIndexes), ...\n",
    "    model.lb(exchangeRxnsIndexes), ...\n",
    "    model.ub(exchangeRxnsIndexes), ...\n",
    "    'VariableNames', {'ID', 'LB', 'UB'}));"
   ]
  },
  {
   "cell_type": "markdown",
   "metadata": {},
   "source": [
    "### 2.1. Free production"
   ]
  },
  {
   "cell_type": "markdown",
   "metadata": {},
   "source": [
    "\n",
    "- [makeSomething](https://sysbiochalmers.github.io/RAVEN/doc/core/makeSomething.html)\n",
    "\n",
    "```MATLAB\n",
    "function [solution, metabolite] = makeSomething(model, ignoreMets, isNames, minNrFluxes, allowExcretion, params, ignoreIntBounds)\n",
    "```\n",
    "Tries to excrete any metabolite using as few reactions as possible. The intended use is when you want to make sure that you model cannot synthesize anything from nothing. It is then a faster way than to use checkProduction or canProduce"
   ]
  },
  {
   "cell_type": "code",
   "execution_count": 259,
   "metadata": {},
   "outputs": [
    {
     "name": "stdout",
     "output_type": "stream",
     "text": [
      "There are 35 reactions with flux. The involved metabolite is H2O"
     ]
    }
   ],
   "source": [
    "% First, check reactions producing species from nothing:\n",
    "% From the nonBalancedReactionsTable table we already known there are issues with H+. Ignore it to avoid noise.\n",
    "ignoreMets = {'H+'};\n",
    "[solutionFlux, metaboliteIndex] = makeSomething(model, ignoreMets, true);\n",
    "metaboliteName = model.metNames(metaboliteIndex);\n",
    "reactionsWithFluxIndexes = find(abs(solutionFlux) >= tolerance);\n",
    "fprintf('There are %i reactions with flux. The involved metabolite is %s', ...\n",
    "    length(reactionsWithFluxIndexes), metaboliteName{:});"
   ]
  },
  {
   "cell_type": "code",
   "execution_count": 260,
   "metadata": {},
   "outputs": [
    {
     "name": "stdout",
     "output_type": "stream",
     "text": [
      "Reactions to check: 7\n",
      "              balanceStatus    C     N    O     S    P     H     F    Cl    Fe    Se    R\n",
      "              _____________    __    _    __    _    _    ___    _    __    __    __    _\n",
      "\n",
      "    R00941          0           0    0     0    0    0     -1    0    0     0     0     0\n",
      "    R01058          0           0    0     0    0    0     -1    0    0     0     0     0\n",
      "    R01061          0           0    0     0    0    0     -1    0    0     0     0     0\n",
      "    R01221          0           0    0     0    0    0     -1    0    0     0     0     0\n",
      "    R01655          0           0    0     0    0    0     -1    0    0     0     0     0\n",
      "    R02110          0          -6    0    -5    0    0    -10    0    0     0     0     0\n",
      "    R02413          0           0    0     0    0    0     -1    0    0     0     0     0\n",
      "\n"
     ]
    }
   ],
   "source": [
    "% Assess which of these reactions have problems with their equations\n",
    "% Get the reactions that have flux AND appears in the table of problematic reactions\n",
    "carryingFluxProblematicReactions = intersect(...\n",
    "    nonBalancedReactionsTable.Properties.RowNames, ...\n",
    "    model.rxns(reactionsWithFluxIndexes));\n",
    "reactions2check = nonBalancedReactionsTable(carryingFluxProblematicReactions, :);\n",
    "fprintf('Reactions to check: %i\\n', height(reactions2check));\n",
    "disp(reactions2check);"
   ]
  },
  {
   "cell_type": "markdown",
   "metadata": {},
   "source": [
    "❗ R02110 reaction looks very suspicious, C H O are unbalanced."
   ]
  },
  {
   "cell_type": "code",
   "execution_count": 261,
   "metadata": {},
   "outputs": [
    {
     "name": "stdout",
     "output_type": "stream",
     "text": [
      "FLUXES:\n",
      "▪ -0.085106\n",
      "R00941 (10-formyltetrahydrofolate:NADP+ oxidoreductase):\n",
      "\tH2O[s] + NADP+[s] + 10-Formyltetrahydrofolate[s] <=> NADPH[s] + CO2[s] + H+[s] + Tetrahydrofolate[s]\n",
      "▪ 0.42553\n",
      "R01058 (D-glyceraldehyde 3-phosphate:NADP+ oxidoreductase):\n",
      "\tH2O[s] + NADP+[s] + D-Glyceraldehyde 3-phosphate[s] <=> NADPH[s] + H+[s] + 3-Phospho-D-glycerate[s]\n",
      "▪ 0.042553\n",
      "R01061 (D-glyceraldehyde-3-phosphate:NAD+ oxidoreductase (phosphorylating)):\n",
      "\tNAD+[s] + Orthophosphate[s] + D-Glyceraldehyde 3-phosphate[s] <=> NADH[s] + H+[s] + 3-Phospho-D-glyceroyl phosphate[s]\n",
      "▪ -0.042553\n",
      "R01221 (glycine:NAD+ 2-oxidoreductase (tetrahydrofolate-methylene-adding);):\n",
      "\tNAD+[s] + Glycine[s] + Tetrahydrofolate[s] <=> NADH[s] + CO2[s] + Ammonia[s] + H+[s] + 5,10-Methylenetetrahydrofolate[s]\n",
      "▪ -0.085106\n",
      "R01655 (5,10-Methenyltetrahydrofolate 5-hydrolase (decyclizing)):\n",
      "\tH2O[s] + 5,10-Methenyltetrahydrofolate[s] <=> H+[s] + 10-Formyltetrahydrofolate[s]\n",
      "▪ 0.40426\n",
      "R02110 (1,4-alpha-D-Glucan:1,4-alpha-D-glucan 6-alpha-D-(1,4-alpha-D-glucano)-transferase):\n",
      "\tAmylose[s] <=> Starch[s]\n",
      "▪ -0.25532\n",
      "R02413 (Shikimate:NADP+ 3-oxidoreductase):\n",
      "\tNADP+[s] + Shikimate[s] <=> NADPH[s] + H+[s] + 3-Dehydroshikimate[s]\n"
     ]
    }
   ],
   "source": [
    "% Print fluxes from the problematic reactions\n",
    "flux2showIndexes = getIndexes(model, carryingFluxProblematicReactions, 'rxns');\n",
    "flux2show = zeros(size(solutionFlux));\n",
    "flux2show(flux2showIndexes) = solutionFlux(flux2showIndexes);\n",
    "printFluxes(model, flux2show, false, [], [], ...\n",
    "    '▪ %flux\\n%rxnID (%rxnName):\\n\\t%eqn\\n');"
   ]
  },
  {
   "cell_type": "markdown",
   "metadata": {},
   "source": [
    "The reaction involves two polysacharides. I want to remark the following from [KEEG COMPOUND Database](https://www.genome.jp/kegg/compound/):\n",
    "\n",
    "> \"**Biosynthetic Codes**<br>\n",
    "> The structures of DNA, RNA, and proteins are determined by template-based syntheses of replication, transcription, and translation with the genetic code. In contrast, the structures of glycans, lipids, polyketides, nonribosomal peptides, and various secondary metabolites are determined by biosynthetic pathways. KEGG COMPOUND, as well as KEGG GLYCAN, is a resource for understanding such biosynthetic codes and for inferring chemical repertoires of these diverse substances from genomic information.\"\n",
    "\n",
    "❗ R02110 is not an interconversión but a polymerization reaction, adding a glucose polymer Amylose (C6H10O5)n to another glucose polymer Starch (C12H20O10)n:\n",
    "\n",
    "From [KEGG GLYCAN Database](https://www.genome.jp/kegg/glycan/), R02110 is the same as R06186:\n",
    "\n",
    "<img src=\"https://www.genome.jp/Fig/reaction/R06186.gif\"/>"
   ]
  },
  {
   "cell_type": "code",
   "execution_count": 262,
   "metadata": {},
   "outputs": [
    {
     "name": "stdout",
     "output_type": "stream",
     "text": [
      "FLUXES:\n",
      "▪ 0.40426\n",
      "R02110 (1,4-alpha-D-Glucan:1,4-alpha-D-glucan 6-alpha-D-(1,4-alpha-D-glucano)-transferase):\n",
      "\tAmylose[s] <=> Starch[s]\n",
      "▪ 0.40426\n",
      "R02111 (1,4-alpha-D-Glucan:orthophosphate alpha-D-glucosyltransferase):\n",
      "\tOrthophosphate[s] + Starch[s] <=> D-Glucose 1-phosphate[s] + Amylose[s]\n"
     ]
    }
   ],
   "source": [
    "% Looking for al starch reactions\n",
    "printFluxes(model, solutionFlux, false, [], [], ...\n",
    "    '▪ %flux\\n%rxnID (%rxnName):\\n\\t%eqn\\n', {'Starch'});"
   ]
  },
  {
   "cell_type": "markdown",
   "metadata": {},
   "source": [
    "❗ Why is there Starch in a yeast in first place? 🤔\n",
    "\n",
    "The tutorial removes only R02110, but, unless it is a genetically engineered yeast, I will consider to remove also R02111. \n"
   ]
  },
  {
   "cell_type": "code",
   "execution_count": 263,
   "metadata": {},
   "outputs": [],
   "source": [
    "model=removeReactions(model,'R02110');"
   ]
  },
  {
   "cell_type": "code",
   "execution_count": 264,
   "metadata": {},
   "outputs": [
    {
     "name": "stdout",
     "output_type": "stream",
     "text": [
      "There are 0 reactions with flux. The involved metabolite is "
     ]
    }
   ],
   "source": [
    "[solutionFlux, metaboliteIndex] = makeSomething(model, ignoreMets, true);\n",
    "metaboliteName = model.metNames(metaboliteIndex);\n",
    "reactionsWithFluxIndexes = find(abs(solutionFlux) >= tolerance);\n",
    "fprintf('There are %i reactions with flux. The involved metabolite is %s', ...\n",
    "    length(reactionsWithFluxIndexes), metaboliteName{:});"
   ]
  },
  {
   "cell_type": "markdown",
   "metadata": {},
   "source": [
    "### 2.2. Free internal consumption"
   ]
  },
  {
   "cell_type": "markdown",
   "metadata": {},
   "source": [
    "- [consumeSomething](https://sysbiochalmers.github.io/RAVEN/doc/core/consumeSomething.html)\n",
    "\n",
    "```MATLAB\n",
    "function [solution, metabolite] = consumeSomething(model, ignoreMets, isNames, minNrFluxes, params, ignoreIntBounds)\n",
    "```\n",
    "Tries to consume any metabolite using as few reactions as possible. The intended use is when you want to make sure that you model cannot consume anything without producing something. It is intended to be used with no active exchange reactions.\n"
   ]
  },
  {
   "cell_type": "code",
   "execution_count": null,
   "metadata": {},
   "outputs": [],
   "source": [
    "% something without any output?\n",
    "[solutionFlux, metaboliteIndex] = consumeSomething(model,{'H+'},true);"
   ]
  }
 ],
 "metadata": {
  "kernelspec": {
   "display_name": "MATLAB Kernel",
   "language": "matlab",
   "name": "jupyter_matlab_kernel"
  },
  "language_info": {
   "file_extension": ".m",
   "mimetype": "text/x-matlab",
   "name": "matlab"
  }
 },
 "nbformat": 4,
 "nbformat_minor": 2
}
