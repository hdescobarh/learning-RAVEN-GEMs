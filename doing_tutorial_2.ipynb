{
 "cells": [
  {
   "cell_type": "markdown",
   "metadata": {},
   "source": [
    "# Tutorial 2 – Construct a Functional Small Model \n",
    "\n",
    "This exercise deals with a small glycolysis model in RAVEN compatible Excel format and shows the most basic aspects of the stoichiometric modelling. It is shown how to build a simple model from scratch, set parameters and perform simple simulations.\n",
    "\n",
    "Open tutorial2.m in MATLAB to begin this exercise. This script contains all the functions needed to complete this exercise.\n",
    "The solutions to this exercise can be found in tutorial2_solutions.m file. This script is nearly identical to tutorial2.m, just the different model file (small.xlsx) is imported here. During this exercise, the user is supposed to modify empty.xlsx file for it to be nearly identical to small.xlsx file, that the same results would be obtained in tutorial2.m and tutorial2_solutions.m scripts.\n",
    "\n",
    "Figure 1 shows a somewhat simplified version of glycolysis.\n",
    "\n",
    "![Figure1](./tutorial_data/tutorial_2_fig_1.png)<br>\n",
    "**Figure 1.** Glycolysis (some reactions are lumped together)."
   ]
  },
  {
   "cell_type": "markdown",
   "metadata": {},
   "source": [
    "The task here is to make a model for this pathway to answer how many units of ATP could be generated through glycolysis. Even though such information can be retrieved from Google in 15 seconds, the goal here is to get such information through the stoichiometric modelling."
   ]
  },
  {
   "cell_type": "code",
   "execution_count": 10,
   "metadata": {},
   "outputs": [],
   "source": [
    "setRavenSolver('gurobi')"
   ]
  },
  {
   "cell_type": "code",
   "execution_count": 11,
   "metadata": {},
   "outputs": [
    {
     "name": "stdout",
     "output_type": "stream",
     "text": [
      "NOTE: DEFAULT LOWER not supplied. Uses -1000\n",
      "NOTE: DEFAULT UPPER not supplied. Uses 1000\n",
      "Network statistics for empty: Empty model structure\n",
      "Genes*\t\t\t\t1\n",
      "\textracellular\t1\n",
      "\n",
      "Reactions*\t\t\t1\n",
      "\textracellular\t1\n",
      "Unique reactions**\t1\n",
      "\n",
      "Metabolites\t\t\t4\n",
      "\textracellular\t4\n",
      "Unique metabolites\t4\n",
      "\n",
      "* Genes and reactions are counted for each compartment if any of the corresponding metabolites are in that compartment. The sum may therefore not add up to the total number.\n",
      "** Unique reactions are defined as being biochemically unique (no compartmentalization)\n"
     ]
    }
   ],
   "source": [
    "smallModel=importExcelModel('./tutorial_data/empty.xlsx');\n",
    "printModelStats(smallModel);"
   ]
  },
  {
   "cell_type": "markdown",
   "metadata": {},
   "source": [
    "The task here is to make a model for this pathway to answer how many units of ATP could be generated through glycolysis. Even though such information can be retrieved from Google in 15 seconds, the goal here is to get such information through the stoichiometric modelling.\n",
    "\n",
    "1.\tUse Microsoft Excel to open the model file empty.xlsx, which already contains the first reaction of the glycolysis pathway.\n",
    "2.\tIn MATLAB run the first command from tutorial2.m (i.e., the one with importExcelModel). This line converts the GEM in Excel format to the MATLAB structure and performs several consistency checks at the same time. The program should warn that there is no information about gene associations in the model and that some metabolites are only used in one reaction. The second warning will be discussed later.\n",
    "3.\tAdd the remaining 11 reactions to the GEM in Excel format. One can use the arbitrary abbreviations, e.g., “g6p” for “glucose 6-phosphate”. Save often and run importExcelModel to ensure that the model structure is correct.\n",
    "4.\tOnce all the reactions have been entered, run importExcelModel once again. One should see a warning like:\n",
    "\n",
    "WARNING: The following internal metabolite(s) are only used in one reaction (zero flux is the only solution):\n",
    "\n",
    "(m13 [c]) H2O<br>\n",
    "(m14 [e]) H2O<br>\n",
    "(m15 [c]) NAD+<br>\n",
    "(m16 [c]) NADH<br>\n",
    "(m18 [c]) phosphate<br>\n",
    "(m19 [c]) pyruvate<br>\n",
    "(m20 [e]) sucrose\n",
    "\n",
    "This is a particularly important warning, which must be correctly understood before moving on. Since the modelling is done under the steady state assumption, the production rate of a given metabolite must be the same as the consumption rate. But what if there are no reactions consuming or no reactions producing a given metabolite? Then the production/consumption rate must be zero, which is not a desirable result. The warning simply lists metabolites that only participate in one reaction, which means that it either cannot be consumed or that it cannot be produced. The fact that the warning says, “internal metabolites” indicates that this is not the only kind of metabolite and the solution may lie in something we call “external metabolites”. These are metabolites which do not have to be mass balanced but can be produced or consumed in any amount. Simulations are often centred on choosing which external metabolites are available and how fast they can be produced or consumed by the GEM. External metabolites are defined by having “true” in the “UNCONSTRAINED” field in the “METS” sheet. They are also by convention placed in a compartment abbreviated “b”, referred as “boundary”. These metabolites are also called “exchange metabolites” and the reactions involving them are called “exchange reactions”.\n"
   ]
  },
  {
   "cell_type": "code",
   "execution_count": 12,
   "metadata": {},
   "outputs": [
    {
     "name": "stdout",
     "output_type": "stream",
     "text": [
      "Network statistics for hans_tuto2: Me doing tutorial 2\n",
      "Genes*\t\t\t\t12\n",
      "\textracellular\t3\n",
      "\tcytosol\t11\n",
      "\n",
      "Reactions*\t\t\t12\n",
      "\textracellular\t3\n",
      "\tcytosol\t11\n",
      "Unique reactions**\t12\n",
      "\n",
      "Metabolites\t\t\t20\n",
      "\textracellular\t4\n",
      "\tcytosol\t16\n",
      "Unique metabolites\t17\n",
      "\n",
      "* Genes and reactions are counted for each compartment if any of the corresponding metabolites are in that compartment. The sum may therefore not add up to the total number.\n",
      "** Unique reactions are defined as being biochemically unique (no compartmentalization)\n"
     ]
    }
   ],
   "source": [
    "%Import the Excel model into a RAVEN model structure\n",
    "smallModel=importExcelModel('./output/solved_empty_a.xlsx');\n",
    "printModelStats(smallModel);"
   ]
  },
  {
   "cell_type": "markdown",
   "metadata": {},
   "source": [
    "❗ **Personal note:** importing this model did not raise a warning despite the model having dead-end metabolites. Moreover, I did not see in the code of 'importExcelModel' or 'checkModelStruct implemented the message that the tutorial mentions..."
   ]
  },
  {
   "cell_type": "code",
   "execution_count": 13,
   "metadata": {},
   "outputs": [
    {
     "name": "stdout",
     "output_type": "stream",
     "text": [
      "NOTE: The exchange reactions are assigned to the first compartment\n",
      "The following metabolites could not be produced:\n",
      "1,3-Bisphospho-D-glycerate[c]\n",
      "ADP[c]\n",
      "ATP[c]\n",
      "D-Fructose 1,6-bisphosphate[c]\n",
      "D-Fructose 6-phosphate[c]\n",
      "D-Glyceraldehyde 3-phosphate[c]\n",
      "D-fructose[c]\n",
      "D-fructose[e]\n",
      "D-glucose 6-phosphate[c]\n",
      "D-glucose[c]\n",
      "D-glucose[e]\n",
      "Dihydroxyacetone phosphate[c]\n",
      "H2O[c]\n",
      "H2O[e]\n",
      "NAD+[c]\n",
      "NADH[c]\n",
      "Orthophosphate[c]\n",
      "Phosphoenolpyruvate[c]\n",
      "Pyruvate[c]\n",
      "Sucrose[e]\n"
     ]
    }
   ],
   "source": [
    "checkProduction(smallModel);"
   ]
  },
  {
   "cell_type": "code",
   "execution_count": 17,
   "metadata": {},
   "outputs": [
    {
     "name": "stdout",
     "output_type": "stream",
     "text": [
      "Solve message: \"Optimal solution found\". The f value is 0.0000.\n"
     ]
    }
   ],
   "source": [
    "sol=solveLP(smallModel);\n",
    "fprintf('Solve message: \"%s\". The f value is %5.4f.\\n', sol.msg, sol.f)"
   ]
  },
  {
   "cell_type": "markdown",
   "metadata": {},
   "source": [
    "5.\tIn the case for glycolysis, it is essential to allow for uptake of sucrose and production of pyruvate. At this point maybe it is not clear whether there will be net consumption or net synthesis of water, so one should make that exchange reaction reversible. The reaction for taking up sucrose would look like “sucrose[b] => sucrose[e]”. Add the required reactions for sucrose, pyruvate and H2O. Usually, it is only allowed for uptake/excretion from the “extracellular” compartment so add transport reactions when needed. The warning should now read:\n",
    "\n",
    "WARNING: The following internal metabolite(s) are only used in one reaction (zero flux is the only solution):\n",
    "\n",
    "(m16 [c]) NAD+<br>\n",
    "(m17 [c]) NADH<br>\n",
    "(m19 [c]) phosphate<br>\n"
   ]
  },
  {
   "cell_type": "markdown",
   "metadata": {},
   "source": [
    "6.\tAll the “real” reactions involved in glycolysis have been added to the GEM. However, to be able to answer the question about the ATP production one should address the two remaining problems:\n",
    "\n",
    "&emsp; &emsp; &emsp; a. How does one get the required NAD+ and how does one get rid of the produced NADH?\n",
    "\n",
    "&emsp; &emsp; &emsp; b. How does one formulate the ATP production as a variable one can solve for?\n",
    "\n",
    "7.\tThe first problem could be solved either by expanding the model to contain a larger proportion of metabolism so that the model has a way to regenerate NAD+ from NADH or by including a “fake” uptake reaction for NAD+ and a “fake” excretion reaction for NADH. These reactions are called “fake” because they are not how the system works in vivo (the cell does not take up extracellular NAD+ and so on…). The use of fake reactions is common in this type of modelling and cleverly designing fake reactions can help a lot when doing simulations. Choose either to deal with the problem by including ethanol production from pyruvate (via pyruvate decarboxylase + alcohol dehydrogenase) or by including fake exchange reactions.\n",
    "\n",
    "8.\tThe second problem also requires fake reactions. Remember that the variables that are solved for are fluxes through reactions. One way to know how much ATP the system can generate is to maximize for the degradation of ATP (since the production and consumption must match). Add a fake reaction for hydrolysis of ATP. Be careful about directionality so that the free ATP synthesis is not added instead. Upon completion, one should see no warnings when running importExcelModel.\n",
    "\n",
    "9.\tThe GEM is now complete and can finally be used to answer the question about the ATP production. In the GEM modelling the problem is defined by (a) setting constraints on the fluxes and (b) defining an objective for the simulation.\n",
    "\n",
    "10.\tAn usual modelling practice is to set constraints only for the exchange reactions; the things that the GEM can consume and produce. In this case it is enough to constrain the uptake of sucrose. Set the “UPPER BOUND” for that reaction to 1.0 unit. Once talking about the fluxes, the units are mmol/gDW/h, but when one looks at yields, one might as well think of them as mol or “molecules”. Set the objective to maximize ATP degradation by putting 1 in the “OBJECTIVE” column for that reaction.\n",
    "\n",
    "11.\tImport the model to MATLAB by running importExcelModel. One should see that the model structure is printed. Select the name “smallModel” from the MATLAB “Workspace” section and double click it with left mouse button (or just write “open smallModel”). Click around a little bit and try to figure out what the different fields stand for.\n",
    "\n",
    "12.\tSolve the optimization problem by running solveLP. Print the resulting exchange fluxes to be sure that everything worked like it should. Make sure that the carbon balance is correct.\n",
    "\n",
    "13.\tPrint all the fluxes.\n"
   ]
  },
  {
   "cell_type": "code",
   "execution_count": 19,
   "metadata": {},
   "outputs": [
    {
     "name": "stdout",
     "output_type": "stream",
     "text": [
      "Network statistics for hans_tuto2: Me doing tutorial 2\n",
      "Genes*\t\t\t\t13\n",
      "\textracellular\t4\n",
      "\tcytosol\t12\n",
      "\n",
      "Reactions*\t\t\t24\n",
      "\textracellular\t12\n",
      "\tcytosol\t18\n",
      "Unique reactions**\t24\n",
      "\n",
      "Metabolites\t\t\t26\n",
      "\textracellular\t7\n",
      "\tcytosol\t19\n",
      "Unique metabolites\t20\n",
      "\n",
      "* Genes and reactions are counted for each compartment if any of the corresponding metabolites are in that compartment. The sum may therefore not add up to the total number.\n",
      "** Unique reactions are defined as being biochemically unique (no compartmentalization)\n"
     ]
    }
   ],
   "source": [
    "smallModel=importExcelModel('./output/solved_empty_b.xlsx');\n",
    "printModelStats(smallModel);"
   ]
  },
  {
   "cell_type": "code",
   "execution_count": 21,
   "metadata": {},
   "outputs": [
    {
     "name": "stdout",
     "output_type": "stream",
     "text": [
      "         x: [24x1 double]\n",
      "         f: -4\n",
      "      stat: 1\n",
      "       msg: 'Optimal solution found'\n",
      "    sPrice: [26x1 double]\n",
      "     rCost: [24x1 double]\n",
      "\n",
      "FLUXES:\n",
      "r1\t(Breakdown of sucrose (invertase)):\t1\n",
      "r2\t(Glucose transport):\t1\n",
      "r3\t(Fructose transport):\t1\n",
      "r4\t(Glucose 6 kinase):\t1\n",
      "r5\t(Fructose 6 kinase):\t1\n",
      "r6\t(Glucose to fructose):\t1\n",
      "r7\t(Fructose phosphate 1 kinase):\t2\n",
      "r8\t(Fructose 1,6 BP aldolase):\t2\n",
      "r9\t(DHAP GA3P isomerase):\t2\n",
      "r10\t(1,3-Bisphospho-D-glycerate synthase):\t4\n",
      "r11\t(rx11):\t4\n",
      "r12\t(rx12):\t4\n",
      "EX_sucrose\t(exchange sucrose):\t1\n",
      "EX_H2O\t(exchange water):\t1\n",
      "synth_2\t(ATP recycling):\t4\n",
      "r13\t(Pyruvate decarboxylate):\t4\n",
      "r14\t(Ethanol dehydrogenase):\t4\n",
      "trans_CO2\t(trans carbon dyoxide):\t4\n",
      "EX_CO2\t(exchange carbon dyoxide):\t4\n",
      "trans_etOH\t(transport ethanol):\t4\n",
      "EX_etOH\t(exchange ethanol):\t4\n"
     ]
    }
   ],
   "source": [
    "sol = solveLP(smallModel);\n",
    "disp(sol);\n",
    "printFluxes(smallModel, sol.x, false, 10^-7);"
   ]
  },
  {
   "cell_type": "markdown",
   "metadata": {},
   "source": [
    "Question 1: how much ATP could be generated from one unit of sucrose?"
   ]
  },
  {
   "cell_type": "code",
   "execution_count": 22,
   "metadata": {},
   "outputs": [
    {
     "name": "stdout",
     "output_type": "stream",
     "text": [
      "FLUXES:\n",
      "r4 (Glucose 6 kinase):\n",
      "\tD-glucose[c] + ATP[c] => ADP[c] + D-glucose 6-phosphate[c]\n",
      "\t1\n",
      "r5 (Fructose 6 kinase):\n",
      "\tD-fructose[c] + ATP[c] => ADP[c] + D-Fructose 6-phosphate[c]\n",
      "\t1\n",
      "r7 (Fructose phosphate 1 kinase):\n",
      "\tATP[c] + D-Fructose 6-phosphate[c] => ADP[c] + D-Fructose 1,6-bisphosphate[c]\n",
      "\t2\n",
      "r11 (rx11):\n",
      "\tADP[c] + 1,3-Bisphospho-D-glycerate[c] => H2O[c] + ATP[c] + Phosphoenolpyruvate[c]\n",
      "\t4\n",
      "r12 (rx12):\n",
      "\tADP[c] + Phosphoenolpyruvate[c] => ATP[c] + Pyruvate[c]\n",
      "\t4\n",
      "synth_2 (ATP recycling):\n",
      "\tH2O[c] + ATP[c] => ADP[c] + Orthophosphate[c]\n",
      "\t4\n"
     ]
    }
   ],
   "source": [
    "printFluxes(smallModel, sol.x, false, 10^-7, [], '%rxnID (%rxnName):\\n\\t%eqn\\n\\t%flux\\n', [\"ATP\"]);"
   ]
  }
 ],
 "metadata": {
  "kernelspec": {
   "display_name": "MATLAB Kernel",
   "language": "matlab",
   "name": "jupyter_matlab_kernel"
  },
  "language_info": {
   "file_extension": ".m",
   "mimetype": "text/x-matlab",
   "name": "matlab"
  },
  "orig_nbformat": 4
 },
 "nbformat": 4,
 "nbformat_minor": 2
}
